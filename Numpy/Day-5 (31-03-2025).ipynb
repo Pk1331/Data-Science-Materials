{
 "cells": [
  {
   "cell_type": "code",
   "execution_count": 3,
   "id": "69bd9d70-e12b-4c34-bdc9-183cdd03afd4",
   "metadata": {},
   "outputs": [],
   "source": [
    "import numpy as np"
   ]
  },
  {
   "cell_type": "markdown",
   "id": "f0533d6f-b62c-4412-9c27-61ab13a08530",
   "metadata": {},
   "source": [
    "## Statistical Functions\n",
    "- `np.percentile(arr, q)` - Percentile of the array.\n",
    "- `np.median(arr)` - Median value.\n",
    "- `np.mean(arr)` - Mean (average) value.\n",
    "- `np.std(arr)` - Standard deviation.\n",
    "- `np.var(arr)` - Variance.\n",
    "- `np.corrcoef(arr)` - Correlation coefficient matrix.\n",
    "- `np.histogram(arr)` - Computes the histogram."
   ]
  },
  {
   "cell_type": "markdown",
   "id": "68c1d8b4-ac50-4ab4-b47a-10e54f496e49",
   "metadata": {},
   "source": [
    "### `np.percentile(arr, q)` - Percentile of the array.\n",
    "#### Percentile tells you what percent of data is below a certain point."
   ]
  },
  {
   "cell_type": "code",
   "execution_count": 5,
   "id": "fa738bcd-fabc-419f-aead-ea1f1c2ec73a",
   "metadata": {},
   "outputs": [
    {
     "name": "stdout",
     "output_type": "stream",
     "text": [
      "3.4\n"
     ]
    }
   ],
   "source": [
    "arr = np.array([1, 2, 3, 4, 5])\n",
    "percentile = np.percentile(arr, 60)\n",
    "print(percentile)"
   ]
  },
  {
   "cell_type": "markdown",
   "id": "3f33019e-d0b4-49e0-aa9d-4e0fb8b31552",
   "metadata": {},
   "source": [
    "### `np.median(arr)` - Median value."
   ]
  },
  {
   "cell_type": "code",
   "execution_count": 6,
   "id": "378a1b9e-4112-4301-8f09-8637c3d1638b",
   "metadata": {},
   "outputs": [
    {
     "name": "stdout",
     "output_type": "stream",
     "text": [
      "3.0\n"
     ]
    }
   ],
   "source": [
    "median_value = np.median(arr)\n",
    "print(median_value)"
   ]
  },
  {
   "cell_type": "markdown",
   "id": "73a152a5-0067-4159-9bf6-00dc87c1553a",
   "metadata": {},
   "source": [
    "### `np.mean(arr)` - Mean (average) value."
   ]
  },
  {
   "cell_type": "code",
   "execution_count": 7,
   "id": "b9dbb0fd-a3db-49d9-8495-df7e73d98e4f",
   "metadata": {},
   "outputs": [
    {
     "name": "stdout",
     "output_type": "stream",
     "text": [
      "3.0\n"
     ]
    }
   ],
   "source": [
    "mean_value = np.mean(arr)\n",
    "print(mean_value)"
   ]
  },
  {
   "cell_type": "markdown",
   "id": "9cf55b06-7a14-48b5-b801-abf8b82e6291",
   "metadata": {},
   "source": [
    "### `np.std(arr)` - Standard deviation.\n",
    "#### Standard Deviation is a measure of how spread out the numbers in a data set are. It tells you how much the values in a dataset vary from the mean (average).\n",
    "#### A low standard deviation means that most of the numbers are close to the mean (less spread out).\n",
    "#### A high standard deviation means that the numbers are spread out over a wider range.\n",
    "\n"
   ]
  },
  {
   "cell_type": "markdown",
   "id": "3cf0451b-3369-4b33-af9a-416a7ca4cb0a",
   "metadata": {},
   "source": [
    "### Standard Deviation (σ) Formula:\n",
    "\n",
    "$$\n",
    "\\sigma = \\sqrt{\\frac{1}{N} \\sum_{i=1}^{N} (x_i - \\mu)^2}\n",
    "$$\n",
    "\n",
    "Where:\n",
    "- **σ** = Standard deviation\n",
    "- **N** = Number of data points\n",
    "- **xᵢ** = Each individual data point\n",
    "- **μ** = Mean (average) of all data points\n",
    "- **Σ** = Summation (sum of all squared differences)\n"
   ]
  },
  {
   "cell_type": "markdown",
   "id": "0a0c41c5-bcde-484a-a918-5cc69ea88071",
   "metadata": {},
   "source": [
    "### Example: Calculating Standard Deviation\n",
    "\n",
    "We have the following data points: **[2, 4, 4, 4, 5, 5, 7, 9]**.\n",
    "\n",
    "#### Step-by-Step Solution:\n",
    "\n",
    "1. **Find the mean (μ)**:\n",
    "\n",
    "   Mean (μ) = $$\\frac{2 + 4 + 4 + 4 + 5 + 5 + 7 + 9}{8} = 5$$\n",
    "\n",
    "2. **Subtract the mean from each data point** and square the result:\n",
    "\n",
    "   - $$(2 - 5)^2 = 9$$\n",
    "   - $$(4 - 5)^2 = 1$$\n",
    "   - $$(4 - 5)^2 = 1$$\n",
    "   - $$(4 - 5)^2 = 1$$\n",
    "   - $$(5 - 5)^2 = 0$$\n",
    "   - $$(5 - 5)^2 = 0$$\n",
    "   - $$(7 - 5)^2 = 4$$\n",
    "   - $$(9 - 5)^2 = 16$$\n",
    "\n",
    "3. **Find the average of these squared differences**:\n",
    "\n",
    "   $$\\frac{9 + 1 + 1 + 1 + 0 + 0 + 4 + 16}{8} = \\frac{32}{8} = 4$$\n",
    "\n",
    "4. **Take the square root of this average**:\n",
    "\n",
    "   $$\\sigma = \\sqrt{4} = 2$$\n",
    "\n",
    "Thus, the **standard deviation (σ)** is **2**.\n"
   ]
  },
  {
   "cell_type": "code",
   "execution_count": 9,
   "id": "67cbcbbd-89e4-4d4b-8019-483708df2a37",
   "metadata": {},
   "outputs": [
    {
     "name": "stdout",
     "output_type": "stream",
     "text": [
      "1.4142135623730951\n"
     ]
    }
   ],
   "source": [
    "std_deviation = np.std(arr)\n",
    "print(std_deviation)"
   ]
  },
  {
   "cell_type": "markdown",
   "id": "4cbc9d7e-60cb-4714-a489-3fabcb8a9d28",
   "metadata": {},
   "source": [
    "### Mean Absolute Deviation (MAD) Formula\n",
    "\n",
    "$$\n",
    "MAD = \\frac{1}{N} \\sum_{i=1}^{N} |x_i - \\mu|\n",
    "$$\n",
    "\n",
    "Where:\n",
    "- **MAD** = Mean Absolute Deviation\n",
    "- **N** = Number of data points\n",
    "- **x_i** = Each individual data point\n",
    "- **μ** = Mean (average) of the data points\n",
    "- **Σ** = Summation (sum of absolute deviations)\n",
    "\n",
    "### Example: Calculating MAD\n",
    "\n",
    "We have the following data points: **[2, 4, 4, 4, 5, 5, 7, 9]**.\n",
    "\n",
    "#### Step-by-Step Solution:\n",
    "\n",
    "1. **Find the mean (μ)**:\n",
    "\n",
    "   Mean (μ) = $$\\frac{2 + 4 + 4 + 4 + 5 + 5 + 7 + 9}{8} = 5$$\n",
    "\n",
    "2. **Find the absolute deviations** from the mean:\n",
    "\n",
    "   - $$|2 - 5| = 3$$\n",
    "   - $$|4 - 5| = 1$$\n",
    "   - $$|4 - 5| = 1$$\n",
    "   - $$|4 - 5| = 1$$\n",
    "   - $$|5 - 5| = 0$$\n",
    "   - $$|5 - 5| = 0$$\n",
    "   - $$|7 - 5| = 2$$\n",
    "   - $$|9 - 5| = 4$$\n",
    "\n",
    "3. **Find the average of these absolute deviations**:\n",
    "\n",
    "   $$MAD = \\frac{3 + 1 + 1 + 1 + 0 + 0 + 2 + 4}{8} = \\frac{12}{8} = 1.5$$\n",
    "\n",
    "Thus, the **Mean Absolute Deviation (MAD)** is **1.5**.\n"
   ]
  },
  {
   "cell_type": "markdown",
   "id": "5ca7932c-1629-4287-8cff-7fa493772e4d",
   "metadata": {},
   "source": [
    "### `np.var(arr)` - Variance.\n",
    "#### variance tells you how far the individual data points are from the mean."
   ]
  },
  {
   "cell_type": "markdown",
   "id": "0df7de5a-0544-44cc-9163-189dcf732132",
   "metadata": {},
   "source": [
    "### Variance Formula\n",
    "\n",
    "$$\n",
    "\\text{Variance} (\\sigma^2) = \\frac{1}{N} \\sum_{i=1}^{N} (x_i - \\mu)^2\n",
    "$$\n",
    "\n",
    "Where:\n",
    "- **Variance** (\\(\\sigma^2\\)) = Variance of the data\n",
    "- **N** = Number of data points\n",
    "- **x_i** = Each individual data point\n",
    "- **μ** = Mean (average) of the data points\n",
    "- **Σ** = Summation (sum of squared deviations)\n",
    "\n",
    "### Example: Calculating Variance\n",
    "\n",
    "We have the following data points: **[2, 4, 4, 4, 5, 5, 7, 9]**.\n",
    "\n",
    "#### Step-by-Step Solution:\n",
    "\n",
    "1. **Find the mean (μ)**:\n",
    "\n",
    "   Mean (μ) = $$\\frac{2 + 4 + 4 + 4 + 5 + 5 + 7 + 9}{8} = 5$$\n",
    "\n",
    "2. **Subtract the mean from each data point** and square the result:\n",
    "\n",
    "   - $$(2 - 5)^2 = 9$$\n",
    "   - $$(4 - 5)^2 = 1$$\n",
    "   - $$(4 - 5)^2 = 1$$\n",
    "   - $$(4 - 5)^2 = 1$$\n",
    "   - $$(5 - 5)^2 = 0$$\n",
    "   - $$(5 - 5)^2 = 0$$\n",
    "   - $$(7 - 5)^2 = 4$$\n",
    "   - $$(9 - 5)^2 = 16$$\n",
    "\n",
    "3. **Find the average of these squared deviations**:\n",
    "\n",
    "   $$\\text{Variance} = \\frac{9 + 1 + 1 + 1 + 0 + 0 + 4 + 16}{8} = \\frac{32}{8} = 4$$\n",
    "\n",
    "Thus, the **variance** is **4**.\n"
   ]
  },
  {
   "cell_type": "code",
   "execution_count": 10,
   "id": "dbae686a-1832-499d-bd94-9cfd900963b2",
   "metadata": {},
   "outputs": [
    {
     "name": "stdout",
     "output_type": "stream",
     "text": [
      "2.0\n"
     ]
    }
   ],
   "source": [
    "variance = np.var(arr)\n",
    "print(variance)"
   ]
  },
  {
   "cell_type": "markdown",
   "id": "89cf3de5-0dec-405a-bca7-125cd3bd9538",
   "metadata": {},
   "source": [
    "### `np.corrcoef(arr)` - Correlation coefficient matrix.\n",
    "#### A correlation coefficient matrix is a table that shows the correlation coefficients between multiple variables in a dataset\n",
    "#### The correlation coefficient ranges from -1 to 1:\n",
    "#### +1: Perfect positive correlation (when one variable increases, the other increases in a perfectly linear manner).\n",
    "#### -1: Perfect negative correlation (when one variable increases, the other decreases in a perfectly linear manner).\n",
    "#### 0: No linear correlation (there's no predictable linear relationship between the two variables).\n",
    "\n",
    "\n"
   ]
  },
  {
   "cell_type": "code",
   "execution_count": 11,
   "id": "8a382875-0252-4151-ad49-610092c35199",
   "metadata": {},
   "outputs": [
    {
     "name": "stdout",
     "output_type": "stream",
     "text": [
      "[[1. 1.]\n",
      " [1. 1.]]\n"
     ]
    }
   ],
   "source": [
    "arr1 = np.array([1, 2, 3])\n",
    "arr2 = np.array([4, 5, 6])\n",
    "correlation = np.corrcoef(arr1, arr2)\n",
    "print(correlation)"
   ]
  },
  {
   "cell_type": "markdown",
   "id": "ec5c7135-e7e4-48ae-9f32-e10ab4a2847b",
   "metadata": {},
   "source": [
    "### `np.histogram(arr)` - Computes the histogram."
   ]
  },
  {
   "cell_type": "code",
   "execution_count": 12,
   "id": "06216acf-84a7-4def-85af-8903a5b7a3d9",
   "metadata": {},
   "outputs": [
    {
     "name": "stdout",
     "output_type": "stream",
     "text": [
      "[2 1 2]\n",
      "[1.         2.33333333 3.66666667 5.        ]\n"
     ]
    }
   ],
   "source": [
    "histogram, bin_edges = np.histogram(arr, bins=3)\n",
    "print(histogram)\n",
    "print(bin_edges)"
   ]
  },
  {
   "cell_type": "markdown",
   "id": "223aab08-cbb3-42ca-8f75-2ffe5f853f18",
   "metadata": {},
   "source": [
    "## Other Functions"
   ]
  },
  {
   "cell_type": "markdown",
   "id": "38558718-700a-4e9d-a834-d6961a95dee0",
   "metadata": {},
   "source": [
    "### `np.equal()`- Compares two arrays element-wise."
   ]
  },
  {
   "cell_type": "code",
   "execution_count": 13,
   "id": "8dd64b1c-5ccf-4e1f-bfb9-a67dffb665e7",
   "metadata": {},
   "outputs": [
    {
     "name": "stdout",
     "output_type": "stream",
     "text": [
      "[ True  True False]\n"
     ]
    }
   ],
   "source": [
    "arr1 = np.array([1, 2, 3])\n",
    "arr2 = np.array([1, 2, 4])\n",
    "\n",
    "result = np.equal(arr1, arr2)\n",
    "print(result)"
   ]
  },
  {
   "cell_type": "markdown",
   "id": "f7658aff-0322-4099-850e-2fea3c996209",
   "metadata": {},
   "source": [
    "### `np.array_equal()` - Compares two arrays in their entirety.\n",
    "#### Returns a single boolean value (True or False) indicating whether the two arrays are exactly the same, including their shape and elements."
   ]
  },
  {
   "cell_type": "code",
   "execution_count": 14,
   "id": "c1bf799b-2979-4efd-bd61-a56b03bb2d95",
   "metadata": {},
   "outputs": [
    {
     "name": "stdout",
     "output_type": "stream",
     "text": [
      "False\n"
     ]
    }
   ],
   "source": [
    "arr1 = np.array([1, 2, 3])\n",
    "arr2 = np.array([1, 2, 4])\n",
    "\n",
    "result = np.array_equal(arr1, arr2)\n",
    "print(result)"
   ]
  },
  {
   "cell_type": "markdown",
   "id": "e9918a98-7165-410e-a7c7-6c8ad7f558fe",
   "metadata": {},
   "source": [
    "### `np.flatten()` - convert a multi-dimensional array into a one-dimensional array (similar to ravel)"
   ]
  },
  {
   "cell_type": "code",
   "execution_count": 16,
   "id": "3132fd83-67c8-435e-9774-0cceeb954f37",
   "metadata": {},
   "outputs": [
    {
     "name": "stdout",
     "output_type": "stream",
     "text": [
      "[1 2 3 4 5 6]\n"
     ]
    }
   ],
   "source": [
    "arr = np.array([[1, 2, 3], \n",
    "                [4, 5, 6]])\n",
    "\n",
    "# Flatten the array\n",
    "flat_arr = arr.flatten()\n",
    "\n",
    "print(flat_arr)"
   ]
  },
  {
   "cell_type": "markdown",
   "id": "0779678c-29d3-4452-a1a3-a4a0c5f6ff8f",
   "metadata": {},
   "source": [
    "### Array slicing in NumPy allows you to extract a subset of elements from an array.\n",
    "### `arr[start:stop:step]`"
   ]
  },
  {
   "cell_type": "code",
   "execution_count": 17,
   "id": "9b497012-b141-4490-bc50-d944e2d5cf71",
   "metadata": {},
   "outputs": [
    {
     "name": "stdout",
     "output_type": "stream",
     "text": [
      "[2 3 4 5]\n",
      "[0 1 2 3 4]\n",
      "[4 5 6 7 8 9]\n",
      "[1 3 5 7]\n",
      "[9 8 7 6 5 4 3 2 1 0]\n"
     ]
    }
   ],
   "source": [
    "arr = np.array([0, 1, 2, 3, 4, 5, 6, 7, 8, 9])\n",
    "\n",
    "# Slicing elements from index 2 to 5\n",
    "slice_1 = arr[2:6]\n",
    "print(slice_1)\n",
    "# Output: [2 3 4 5]\n",
    "\n",
    "# Slicing from the beginning to index 4\n",
    "slice_2 = arr[:5]\n",
    "print(slice_2)\n",
    "# Output: [0 1 2 3 4]\n",
    "\n",
    "# Slicing from index 4 to the end\n",
    "slice_3 = arr[4:]\n",
    "print(slice_3)\n",
    "# Output: [4 5 6 7 8 9]\n",
    "\n",
    "# Slicing with a step of 2\n",
    "slice_4 = arr[1:8:2]\n",
    "print(slice_4)\n",
    "# Output: [1 3 5 7]\n",
    "\n",
    "# Reverse slicing (negative step)\n",
    "reverse_slice = arr[::-1]\n",
    "print(reverse_slice)\n",
    "# Output: [9 8 7 6 5 4 3 2 1 0]\n"
   ]
  },
  {
   "cell_type": "markdown",
   "id": "9d9ef202-c5be-4bdd-a653-36fffbe9de05",
   "metadata": {},
   "source": [
    "### 2D Matrix\n",
    "### `arr[row_start:row_end, col_start:col_end]`"
   ]
  },
  {
   "cell_type": "code",
   "execution_count": 18,
   "id": "bd84635d-5851-4a76-bd39-92547004b792",
   "metadata": {},
   "outputs": [
    {
     "name": "stdout",
     "output_type": "stream",
     "text": [
      "[[1 2 3]\n",
      " [4 5 6]]\n",
      "[[1 2]\n",
      " [4 5]\n",
      " [7 8]]\n",
      "[[5 6]\n",
      " [8 9]]\n"
     ]
    }
   ],
   "source": [
    "# 2D array\n",
    "arr_2d = np.array([[1, 2, 3],\n",
    "                   [4, 5, 6],\n",
    "                   [7, 8, 9]])\n",
    "\n",
    "# Slice the first two rows and all columns\n",
    "slice_5 = arr_2d[:2, :]\n",
    "print(slice_5)\n",
    "# Output:\n",
    "# [[1 2 3]\n",
    "#  [4 5 6]]\n",
    "\n",
    "# Slice all rows and the first two columns\n",
    "slice_6 = arr_2d[:, :2]\n",
    "print(slice_6)\n",
    "# Output:\n",
    "# [[1 2]\n",
    "#  [4 5]\n",
    "#  [7 8]]\n",
    "\n",
    "# Slice specific rows and columns\n",
    "slice_7 = arr_2d[1:, 1:]\n",
    "print(slice_7)\n",
    "# Output:\n",
    "# [[5 6]\n",
    "#  [8 9]]\n"
   ]
  },
  {
   "cell_type": "code",
   "execution_count": 21,
   "id": "df2531ed-82d0-4736-a139-d08dd04e0364",
   "metadata": {},
   "outputs": [
    {
     "name": "stdout",
     "output_type": "stream",
     "text": [
      "[[2 3]\n",
      " [6 7]]\n",
      "[[ 2  3]\n",
      " [ 6  7]\n",
      " [10 11]]\n",
      "[[ 5  6  7  8]\n",
      " [ 9 10 11 12]]\n",
      "[[ 9 10 11 12]\n",
      " [ 5  6  7  8]\n",
      " [ 1  2  3  4]]\n",
      "[[ 4  3  2  1]\n",
      " [ 8  7  6  5]\n",
      " [12 11 10  9]]\n"
     ]
    }
   ],
   "source": [
    "\n",
    "# Creating a 2D array\n",
    "arr = np.array([[1, 2, 3, 4],\n",
    "                [5, 6, 7, 8],\n",
    "                [9, 10, 11, 12]])\n",
    "\n",
    "# Slice rows 0 to 1 and columns 1 to 2\n",
    "slice_1 = arr[0:2, 1:3]\n",
    "print(slice_1)\n",
    "# Output:\n",
    "# [[2 3]\n",
    "#  [6 7]]\n",
    "\n",
    "# Slice all rows and columns 1 to 3\n",
    "slice_2 = arr[:, 1:3]\n",
    "print(slice_2)\n",
    "# Output:\n",
    "# [[ 2  3]\n",
    "#  [ 6  7]\n",
    "#  [10 11]]\n",
    "\n",
    "# Slice rows 1 to 2 and all columns\n",
    "slice_3 = arr[1:3, :]\n",
    "print(slice_3)\n",
    "# Output:\n",
    "# [[ 5  6  7  8]\n",
    "#  [ 9 10 11 12]]\n",
    "\n",
    "# Reverse the row order\n",
    "reverse_rows = arr[::-1, :]\n",
    "print(reverse_rows)\n",
    "# Output:\n",
    "# [[ 9 10 11 12]\n",
    "#  [ 5  6  7  8]\n",
    "#  [ 1  2  3  4]]\n",
    "\n",
    "# Reverse the column order\n",
    "reverse_cols = arr[:, ::-1]\n",
    "print(reverse_cols)\n",
    "# Output:\n",
    "# [[ 4  3  2  1]\n",
    "#  [ 8  7  6  5]\n",
    "#  [12 11 10  9]]\n"
   ]
  },
  {
   "cell_type": "markdown",
   "id": "5e42d32f-0c67-47a4-882d-2597c53719b9",
   "metadata": {},
   "source": [
    "## ravel()  vs flatten()\n",
    "### `ravel()` - Returns a flattened 1D view (reference) of the original array(changes to the raveled array might affect the original array.)"
   ]
  },
  {
   "cell_type": "code",
   "execution_count": 22,
   "id": "e853c76c-33c9-4107-aa86-e9996164d23c",
   "metadata": {},
   "outputs": [
    {
     "name": "stdout",
     "output_type": "stream",
     "text": [
      "[[1 2]\n",
      " [3 4]]\n",
      "[[10  2]\n",
      " [ 3  4]]\n"
     ]
    }
   ],
   "source": [
    "arr = np.array([[1, 2], [3, 4]])\n",
    "\n",
    "# Using ravel\n",
    "print(arr)\n",
    "raveled = arr.ravel()\n",
    "raveled[0] = 10  # Changes will reflect in the original array\n",
    "print(arr)  "
   ]
  },
  {
   "cell_type": "markdown",
   "id": "9c403257-37c0-47e0-a00b-21b6f705111e",
   "metadata": {},
   "source": [
    "### `flatten()` - Always returns a new flattened 1D array (a copy).(Changes made to the flattened array won't affect the original array.)"
   ]
  },
  {
   "cell_type": "code",
   "execution_count": 24,
   "id": "a051b5cb-57f0-4029-bc70-29ba2741ad50",
   "metadata": {},
   "outputs": [
    {
     "name": "stdout",
     "output_type": "stream",
     "text": [
      "[[1 2]\n",
      " [3 4]]\n"
     ]
    }
   ],
   "source": [
    "arr = np.array([[1, 2], [3, 4]])\n",
    "flattened = arr.flatten()\n",
    "flattened[0] = 20  # Changes will NOT affect the original array\n",
    "print(arr)"
   ]
  },
  {
   "cell_type": "markdown",
   "id": "fe59b844-047d-4800-8ffa-495944417015",
   "metadata": {},
   "source": [
    "## View (Shallow Copy):\n",
    "### A view is a new array object that references the same data as the original array.\n",
    "### Any changes made to the view will also affect the original array, since both arrays share the same underlying data.\n",
    "\n"
   ]
  },
  {
   "cell_type": "code",
   "execution_count": 27,
   "id": "8f8e11b2-112e-4e18-8a88-ab17bc9fe34e",
   "metadata": {},
   "outputs": [
    {
     "name": "stdout",
     "output_type": "stream",
     "text": [
      "[10  2  3  4]\n"
     ]
    }
   ],
   "source": [
    "arr = np.array([1, 2, 3, 4])\n",
    "view_arr = arr.view()  # Creates a view (shallow copy)\n",
    "\n",
    "view_arr[0] = 10\n",
    "print(arr)"
   ]
  },
  {
   "cell_type": "markdown",
   "id": "3aa1a96c-2aa5-4d3c-bf49-9e367064eb07",
   "metadata": {},
   "source": [
    "## Copy (Deep Copy):\n",
    "### A copy creates a completely new array with its own separate data.\n",
    "### Changes made to the copy will not affect the original array because the data is stored independently.\n"
   ]
  },
  {
   "cell_type": "code",
   "execution_count": 26,
   "id": "92d2fde4-eebc-4833-9617-b6ef0d0c60f4",
   "metadata": {},
   "outputs": [
    {
     "name": "stdout",
     "output_type": "stream",
     "text": [
      "[1 2 3 4]\n"
     ]
    }
   ],
   "source": [
    "arr = np.array([1, 2, 3, 4])\n",
    "copy_arr = arr.copy()  # Creates a copy (deep copy)\n",
    "\n",
    "copy_arr[0] = 10\n",
    "print(arr)  # Output: [1, 2, 3, 4] (Original array is NOT modified)\n"
   ]
  },
  {
   "cell_type": "markdown",
   "id": "6162d269-b250-4fc7-b595-4b8a18de560d",
   "metadata": {},
   "source": [
    "## Boolean Masking(Filtering by Condition)"
   ]
  },
  {
   "cell_type": "code",
   "execution_count": 28,
   "id": "1b5d396d-c53b-4d59-8234-b3b0814177fa",
   "metadata": {},
   "outputs": [
    {
     "name": "stdout",
     "output_type": "stream",
     "text": [
      "[4 5 6]\n"
     ]
    }
   ],
   "source": [
    "arr = np.array([1, 2, 3, 4, 5, 6])\n",
    "\n",
    "# Filter elements greater than 3\n",
    "filtered_arr = arr[arr > 3]\n",
    "print(filtered_arr) "
   ]
  },
  {
   "cell_type": "markdown",
   "id": "8560045f-9b20-4bf6-980c-a3d974e7cf14",
   "metadata": {},
   "source": [
    "### `np.insert(arr, index, values, axis=None)` - insert values into an array at a specified index."
   ]
  },
  {
   "cell_type": "code",
   "execution_count": 29,
   "id": "e24e28e1-9b7d-4f8c-a271-86633c03d213",
   "metadata": {},
   "outputs": [
    {
     "name": "stdout",
     "output_type": "stream",
     "text": [
      "[ 1  2 99  3  4]\n"
     ]
    }
   ],
   "source": [
    "arr = np.array([1, 2, 3, 4])\n",
    "result = np.insert(arr, 2, 99)  # Insert 99 at index 2\n",
    "print(result)"
   ]
  },
  {
   "cell_type": "markdown",
   "id": "012803ba-a000-4244-81e8-7015acc8fe5e",
   "metadata": {},
   "source": [
    "### `np.unique(arr)` - returns the sorted unique elements of an array."
   ]
  },
  {
   "cell_type": "code",
   "execution_count": 30,
   "id": "db536431-8722-42df-bf01-2e36a7074cd5",
   "metadata": {},
   "outputs": [
    {
     "name": "stdout",
     "output_type": "stream",
     "text": [
      "[1 2 3 4]\n"
     ]
    }
   ],
   "source": [
    "arr = np.array([1, 2, 2, 3, 3, 3, 4])\n",
    "result = np.unique(arr)\n",
    "print(result)"
   ]
  },
  {
   "cell_type": "markdown",
   "id": "71ae3b78-7861-4830-8fb9-d761d6968def",
   "metadata": {},
   "source": [
    "### `np.append(arr, values, axis=None)` -  used to add elements at the end of an array."
   ]
  },
  {
   "cell_type": "code",
   "execution_count": 31,
   "id": "d1d79216-5387-4d84-a8d7-2c4a96990fda",
   "metadata": {},
   "outputs": [
    {
     "name": "stdout",
     "output_type": "stream",
     "text": [
      "[1 2 3 4 5]\n"
     ]
    }
   ],
   "source": [
    "arr = np.array([1, 2, 3])\n",
    "result = np.append(arr, [4, 5])\n",
    "print(result)"
   ]
  },
  {
   "cell_type": "markdown",
   "id": "75538dc7-b70d-40b4-8110-27f5feadf4fc",
   "metadata": {},
   "source": [
    "### `np.delete(arr, obj, axis=None)` - removes elements from an array at the specified index"
   ]
  },
  {
   "cell_type": "code",
   "execution_count": 33,
   "id": "ee999b5b-461a-44dd-8ecc-3702bd9816e3",
   "metadata": {},
   "outputs": [
    {
     "name": "stdout",
     "output_type": "stream",
     "text": [
      "[1 2 4 5]\n"
     ]
    }
   ],
   "source": [
    "arr = np.array([1, 2, 3, 4, 5])\n",
    "result = np.delete(arr, 2)  # Removes the element at index 2 (which is 3)\n",
    "print(result)"
   ]
  },
  {
   "cell_type": "code",
   "execution_count": 34,
   "id": "42acb88f-1e38-423d-9bab-5f0961920b7d",
   "metadata": {},
   "outputs": [
    {
     "name": "stdout",
     "output_type": "stream",
     "text": [
      "[1 3 5]\n"
     ]
    }
   ],
   "source": [
    "arr = np.array([1, 2, 3, 4, 5])\n",
    "result = np.delete(arr, [1, 3])  # Removes elements at indices 1 and 3 (which are 2 and 4)\n",
    "print(result)"
   ]
  },
  {
   "cell_type": "code",
   "execution_count": 35,
   "id": "bc92ed55-6193-4bad-8abd-b2b23a769d3b",
   "metadata": {},
   "outputs": [
    {
     "name": "stdout",
     "output_type": "stream",
     "text": [
      "[[1 2 3]\n",
      " [7 8 9]]\n"
     ]
    }
   ],
   "source": [
    "arr = np.array([[1, 2, 3], [4, 5, 6], [7, 8, 9]])\n",
    "result = np.delete(arr, 1, axis=0)  # Deletes the second row\n",
    "print(result) "
   ]
  },
  {
   "cell_type": "code",
   "execution_count": 36,
   "id": "ce6f37bc-0e07-41ed-b4e2-9165f0bd397c",
   "metadata": {},
   "outputs": [
    {
     "name": "stdout",
     "output_type": "stream",
     "text": [
      "[[1 3]\n",
      " [4 6]\n",
      " [7 9]]\n"
     ]
    }
   ],
   "source": [
    "arr = np.array([[1, 2, 3], [4, 5, 6], [7, 8, 9]])\n",
    "result = np.delete(arr, 1, axis=1)  # Deletes the second column\n",
    "print(result)"
   ]
  },
  {
   "cell_type": "markdown",
   "id": "b87b58a6-681b-49d3-bfc0-605dd821aac9",
   "metadata": {},
   "source": [
    "### `np.intersect1d(arr1, arr2)` - returns the sorted, unique values that are common to both arrays"
   ]
  },
  {
   "cell_type": "code",
   "execution_count": 39,
   "id": "0da4a73b-9a2e-49b4-abc1-76ce15c2df6a",
   "metadata": {},
   "outputs": [
    {
     "name": "stdout",
     "output_type": "stream",
     "text": [
      "[4 5]\n"
     ]
    }
   ],
   "source": [
    "arr1 = np.array([1, 2, 3, 4, 5])\n",
    "arr2 = np.array([4, 5, 6, 7, 8])\n",
    "\n",
    "result = np.intersect1d(arr1, arr2)\n",
    "print(result)"
   ]
  },
  {
   "cell_type": "markdown",
   "id": "37443e82-6b25-41ad-a540-6608e3ee2a70",
   "metadata": {},
   "source": [
    "### `np.setdiff1d(arr1, arr2)` -  returns the unique values in the first array that are not present in the second array"
   ]
  },
  {
   "cell_type": "code",
   "execution_count": 40,
   "id": "dbf6f28a-3796-4eeb-be93-f2e070fadf15",
   "metadata": {},
   "outputs": [
    {
     "name": "stdout",
     "output_type": "stream",
     "text": [
      "[1 2 3]\n"
     ]
    }
   ],
   "source": [
    "arr1 = np.array([1, 2, 3, 4, 5])\n",
    "arr2 = np.array([4, 5, 6, 7, 8])\n",
    "\n",
    "result = np.setdiff1d(arr1, arr2)\n",
    "print(result)"
   ]
  }
 ],
 "metadata": {
  "kernelspec": {
   "display_name": "Python 3 (ipykernel)",
   "language": "python",
   "name": "python3"
  },
  "language_info": {
   "codemirror_mode": {
    "name": "ipython",
    "version": 3
   },
   "file_extension": ".py",
   "mimetype": "text/x-python",
   "name": "python",
   "nbconvert_exporter": "python",
   "pygments_lexer": "ipython3",
   "version": "3.13.2"
  }
 },
 "nbformat": 4,
 "nbformat_minor": 5
}
