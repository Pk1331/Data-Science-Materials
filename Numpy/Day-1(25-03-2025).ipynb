{
 "cells": [
  {
   "attachments": {},
   "cell_type": "markdown",
   "id": "0d0c9ed9-cf7d-40d8-9b61-b578d230e18c",
   "metadata": {},
   "source": [
    "# Numpy\n",
    "- NumPy is a Python library used for working with arrays.\n"
   ]
  },
  {
   "cell_type": "code",
   "execution_count": 3,
   "id": "64778f48-e339-439d-931f-fc94a33074b1",
   "metadata": {},
   "outputs": [],
   "source": [
    "import numpy as np"
   ]
  },
  {
   "cell_type": "markdown",
   "id": "6ae6bc31-c840-47f2-8b72-fc22ca2657e2",
   "metadata": {},
   "source": [
    "## Advantages of NumPy Over Python Lists\n",
    "### 1. Speed (Faster Computation)\n",
    "   - NumPy arrays use **contiguous memory allocation**, making operations 50x faster than Python lists.\n",
    "   - Uses optimized vectorized operations instead of slow for loops."
   ]
  },
  {
   "cell_type": "markdown",
   "id": "82a7c5e8-895b-4b28-bf32-8e84db74026c",
   "metadata": {},
   "source": [
    "#### Example"
   ]
  },
  {
   "cell_type": "code",
   "execution_count": 4,
   "id": "5942c49c-35aa-404a-9193-46b95c36074d",
   "metadata": {},
   "outputs": [
    {
     "name": "stdout",
     "output_type": "stream",
     "text": [
      "List Time: 0.003153085708618164\n",
      "NumPy Time: 0.0004150867462158203\n"
     ]
    }
   ],
   "source": [
    "\n",
    "import time\n",
    "\n",
    "lst = list(range(1000000))\n",
    "arr = np.array(lst)\n",
    "\n",
    "start = time.time()\n",
    "sum(lst)  # Using Python list\n",
    "end = time.time()\n",
    "print(\"List Time:\", end - start)\n",
    "\n",
    "start = time.time()\n",
    "np.sum(arr)  # Using NumPy\n",
    "end = time.time()\n",
    "print(\"NumPy Time:\", end - start)\n"
   ]
  },
  {
   "cell_type": "markdown",
   "id": "90e1ffd6-2c92-4ea2-ad27-fab8cdde303e",
   "metadata": {},
   "source": [
    "### 2.Less Memory Usage\n",
    "- Python lists store each element separately (with metadata), making them memory-heavy.\n",
    "- NumPy stores elements efficiently in a fixed-type array, using less memory."
   ]
  },
  {
   "cell_type": "code",
   "execution_count": 5,
   "id": "bdf15112-440d-4c9b-bcb6-bde5d012f01b",
   "metadata": {},
   "outputs": [
    {
     "name": "stdout",
     "output_type": "stream",
     "text": [
      "List Memory: 8056\n",
      "NumPy Memory: 8000\n"
     ]
    }
   ],
   "source": [
    "import sys\n",
    "\n",
    "lst = list(range(1000))\n",
    "arr = np.array(lst)\n",
    "\n",
    "print(\"List Memory:\", sys.getsizeof(lst))\n",
    "print(\"NumPy Memory:\", arr.nbytes)\n"
   ]
  },
  {
   "cell_type": "markdown",
   "id": "c6625db4-fa77-41af-9ae4-a462246a4aaf",
   "metadata": {},
   "source": [
    "### 3.Supports Multi-Dimensional Arrays\n",
    "- Lists are 1D by default, whereas NumPy supports multi-dimensional arrays (matrices, tensors)."
   ]
  },
  {
   "cell_type": "code",
   "execution_count": 7,
   "id": "d675dc9d-fdf3-4577-8d78-7c612d18c790",
   "metadata": {},
   "outputs": [
    {
     "name": "stdout",
     "output_type": "stream",
     "text": [
      "[[1 2]\n",
      " [3 4]]\n"
     ]
    }
   ],
   "source": [
    "arr2D = np.array([[1, 2], [3, 4]])\n",
    "print(arr2D)"
   ]
  },
  {
   "cell_type": "markdown",
   "id": "c7ca8269-82fd-4db7-819a-bd2d55368b1c",
   "metadata": {},
   "source": [
    "## **Vectorization** allows you to perform operations on whole arrays at once, making the code cleaner, faster, and more efficient than using loops."
   ]
  },
  {
   "cell_type": "markdown",
   "id": "231fb01d-c7a6-4590-a71e-446504cbba2e",
   "metadata": {},
   "source": [
    "### 4. Built-in Mathematical Operations\n",
    "- NumPy provides vectorized operations (addition, multiplication, etc.), making calculations much faster."
   ]
  },
  {
   "cell_type": "code",
   "execution_count": 9,
   "id": "fad9150e-fcdb-41ac-9c94-907d6552f717",
   "metadata": {},
   "outputs": [
    {
     "name": "stdout",
     "output_type": "stream",
     "text": [
      "[5, 7, 9]\n",
      "[5 7 9]\n"
     ]
    }
   ],
   "source": [
    "lst1 = [1, 2, 3]\n",
    "lst2 = [4, 5, 6]\n",
    "# Using List\n",
    "result_list = [x + y for x, y in zip(lst1, lst2)]\n",
    "\n",
    "# Using NumPy\n",
    "arr1 = np.array(lst1)\n",
    "arr2 = np.array(lst2)\n",
    "result_numpy = arr1 + arr2  # Faster!\n",
    "\n",
    "print(result_list)   # [5, 7, 9]\n",
    "print(result_numpy)  # [5, 7, 9]"
   ]
  },
  {
   "cell_type": "markdown",
   "id": "8d7d9921-2b0c-4e97-8aa1-6af8f6b29b40",
   "metadata": {},
   "source": [
    "### 5. Supports Advanced Functions\n",
    "- NumPy provides linear algebra, random number generation, and statistical functions, which lists lack."
   ]
  },
  {
   "cell_type": "code",
   "execution_count": 11,
   "id": "4263612c-fdd0-4599-bb1e-9b3a67c49f0d",
   "metadata": {},
   "outputs": [
    {
     "name": "stdout",
     "output_type": "stream",
     "text": [
      "Mean: 30.0\n",
      "Std Dev: 14.142135623730951\n"
     ]
    }
   ],
   "source": [
    "arr = np.array([10, 20, 30, 40, 50])\n",
    "\n",
    "print(\"Mean:\", np.mean(arr))  # 30.0\n",
    "print(\"Std Dev:\", np.std(arr))  # 14.14"
   ]
  },
  {
   "cell_type": "markdown",
   "id": "2316fbdd-469a-4387-accf-6e73747104ef",
   "metadata": {},
   "source": [
    "### 6. Easy Data Manipulation (Slicing, Reshaping)\n",
    "- NumPy provides powerful slicing, reshaping, and filtering capabilities that are complex with lists."
   ]
  },
  {
   "cell_type": "code",
   "execution_count": 14,
   "id": "1e52db04-46d8-44d9-97cb-8e993a2bcac0",
   "metadata": {},
   "outputs": [
    {
     "name": "stdout",
     "output_type": "stream",
     "text": [
      "[2 5]\n"
     ]
    }
   ],
   "source": [
    "arr = np.array([[1, 2, 3], [4, 5, 6]])\n",
    "print(arr[:, 1])  # Extract second column → [2, 5]\n"
   ]
  },
  {
   "cell_type": "markdown",
   "id": "2c885b5c-06b5-4317-a7fc-c03340bc8af5",
   "metadata": {},
   "source": [
    "**4. Installing Numpy Library**"
   ]
  },
  {
   "cell_type": "code",
   "execution_count": 15,
   "id": "d4b66e60-5565-47cd-9d33-7351996e2203",
   "metadata": {},
   "outputs": [
    {
     "ename": "SyntaxError",
     "evalue": "invalid syntax (3334831111.py, line 1)",
     "output_type": "error",
     "traceback": [
      "  \u001b[36mCell\u001b[39m\u001b[36m \u001b[39m\u001b[32mIn[15]\u001b[39m\u001b[32m, line 1\u001b[39m\n\u001b[31m    \u001b[39m\u001b[31m* Install Numpy Package\u001b[39m\n              ^\n\u001b[31mSyntaxError\u001b[39m\u001b[31m:\u001b[39m invalid syntax\n"
     ]
    }
   ],
   "source": [
    "* Install Numpy Package \n",
    "\n",
    "  `! pip install Numpy`\n",
    "* Uninstall Numpy Package \n",
    "\n",
    "  `! pip uninstall Numpy`\n",
    "\n",
    "* Upgrade Numpy Package \n",
    "\n",
    "  `! pip install --upgrade Numpy`\n",
    "\n",
    "* Show Numpy Package \n",
    "\n",
    "  `! pip show Numpy`\n",
    "\n",
    "* Show Numpy Version \n",
    "\n",
    "  `np.__version__`\n",
    "\n",
    "  `  e.g 1.21.5`\n",
    "\n",
    "  where; \n",
    "      1 = Major Number (Big Update)\n",
    "      21 = Minor Number (Minor Changes)\n",
    "      5 = Revision Number (Solved Bugs)\n",
    "\n",
    "* Import Numpy Package \n",
    "\n",
    "  `Import Numpy as np`"
   ]
  },
  {
   "cell_type": "markdown",
   "id": "3b2564b0-3b3f-4141-8842-2b29aea64bd5",
   "metadata": {},
   "source": [
    "### Check Numpy version\n"
   ]
  },
  {
   "cell_type": "code",
   "execution_count": 8,
   "id": "cc1bcc05-bc55-4543-b7db-3d8fde68023c",
   "metadata": {},
   "outputs": [
    {
     "name": "stdout",
     "output_type": "stream",
     "text": [
      "2.2.4\n"
     ]
    }
   ],
   "source": [
    "print(np.__version__)"
   ]
  },
  {
   "cell_type": "markdown",
   "id": "58e795f9-12cb-48bd-ba7d-e30d72f55ad4",
   "metadata": {},
   "source": [
    "## Creating Arrays\n",
    "### 0-D Array"
   ]
  },
  {
   "cell_type": "code",
   "execution_count": 10,
   "id": "bcf7da84-5f43-4561-8ec1-543b3643806c",
   "metadata": {},
   "outputs": [
    {
     "name": "stdout",
     "output_type": "stream",
     "text": [
      "11\n"
     ]
    }
   ],
   "source": [
    "ar = np.array(11)\n",
    "print(ar)"
   ]
  },
  {
   "cell_type": "markdown",
   "id": "86e94094-9706-491d-acd6-53f77836e1cb",
   "metadata": {},
   "source": [
    "### 1-D Array"
   ]
  },
  {
   "cell_type": "code",
   "execution_count": 2,
   "id": "0a481917-8005-4886-9411-0f838053f841",
   "metadata": {},
   "outputs": [
    {
     "name": "stdout",
     "output_type": "stream",
     "text": [
      "1-D Array : [1 2 3 4]\n"
     ]
    }
   ],
   "source": [
    "A = np.array([1,2,3,4])\n",
    "print(\"1-D Array :\",A)"
   ]
  },
  {
   "cell_type": "markdown",
   "id": "dd6c6283-9c15-4c04-9d89-221df1666928",
   "metadata": {},
   "source": [
    "### 2-D Array (Matrix)"
   ]
  },
  {
   "cell_type": "code",
   "execution_count": 6,
   "id": "245a680c-a2f1-4ec6-9780-bdec408134fb",
   "metadata": {},
   "outputs": [
    {
     "name": "stdout",
     "output_type": "stream",
     "text": [
      "[[1 2 3]\n",
      " [3 4 5]]\n"
     ]
    }
   ],
   "source": [
    "matrix = np.array([[1,2,3],[3,4,5]])\n",
    "print(matrix)"
   ]
  },
  {
   "cell_type": "markdown",
   "id": "4f9a39b9-2891-47a4-86b4-63ba642c4d24",
   "metadata": {},
   "source": [
    "### 3-D Array"
   ]
  },
  {
   "cell_type": "code",
   "execution_count": 7,
   "id": "66505151-ab48-4f35-8a7f-5951602befda",
   "metadata": {},
   "outputs": [
    {
     "name": "stdout",
     "output_type": "stream",
     "text": [
      "[[[1 2]\n",
      "  [3 4]]\n",
      "\n",
      " [[5 6]\n",
      "  [7 8]]]\n"
     ]
    }
   ],
   "source": [
    "arr = np.array([[[1,2],[3,4]],[[5,6],[7,8]]])\n",
    "print(arr)"
   ]
  },
  {
   "cell_type": "markdown",
   "id": "d70240a7-d448-47ff-91db-f0251d8265ea",
   "metadata": {},
   "source": [
    "### `ndim` propery - Check how many dimensions the arrays have"
   ]
  },
  {
   "cell_type": "code",
   "execution_count": 12,
   "id": "1f8c18b5-deb0-4c0f-8cb5-66debf37249c",
   "metadata": {},
   "outputs": [
    {
     "name": "stdout",
     "output_type": "stream",
     "text": [
      "0\n",
      "1\n",
      "2\n",
      "3\n"
     ]
    }
   ],
   "source": [
    "print(ar.ndim)\n",
    "print(A.ndim)\n",
    "print(matrix.ndim)\n",
    "print(arr.ndim)"
   ]
  },
  {
   "cell_type": "markdown",
   "id": "4b29c279-a1dd-423e-9d5f-2bf00dcef87d",
   "metadata": {},
   "source": [
    "### `shape` propery - It return no of rows and columns (row X column)"
   ]
  },
  {
   "cell_type": "code",
   "execution_count": 15,
   "id": "925149c9-e062-42b3-95ff-92c54257db00",
   "metadata": {},
   "outputs": [
    {
     "name": "stdout",
     "output_type": "stream",
     "text": [
      "(2, 3)\n"
     ]
    }
   ],
   "source": [
    "print(matrix.shape)"
   ]
  },
  {
   "cell_type": "markdown",
   "id": "c13dd56c-fd5f-4c61-80b7-41702935683e",
   "metadata": {},
   "source": [
    "### `dtype` propery - returns the data type of the array\n",
    "- i - integer\n",
    "- b - boolean\n",
    "- u - unsigned integer\n",
    "- f - float\n",
    "- c - complex float\n",
    "- m - timedelta\n",
    "- M - datetime\n",
    "- O - object\n",
    "- S - string\n",
    "- U - unicode string\n",
    "- V - fixed chunk of memory for other type ( void )"
   ]
  },
  {
   "cell_type": "code",
   "execution_count": 17,
   "id": "2e71283c-f49b-40be-8d2b-7b903d66c486",
   "metadata": {},
   "outputs": [
    {
     "name": "stdout",
     "output_type": "stream",
     "text": [
      "int64\n"
     ]
    }
   ],
   "source": [
    "print(matrix.dtype)"
   ]
  },
  {
   "cell_type": "code",
   "execution_count": 18,
   "id": "28b5ac33-d466-4bcc-8c69-04c12ecc3668",
   "metadata": {},
   "outputs": [
    {
     "name": "stdout",
     "output_type": "stream",
     "text": [
      "['Male' 'Female']\n",
      "<U6\n"
     ]
    }
   ],
   "source": [
    "gender = np.array(['Male','Female'])\n",
    "print(gender)\n",
    "print(gender.dtype)"
   ]
  },
  {
   "cell_type": "markdown",
   "id": "17bcd064-e914-4e21-b0cf-05adc50d97c2",
   "metadata": {},
   "source": [
    "### `size` propery - returns total no.of elements"
   ]
  },
  {
   "cell_type": "code",
   "execution_count": 44,
   "id": "3a1837be-c50d-4bab-a84c-33709834f308",
   "metadata": {},
   "outputs": [
    {
     "name": "stdout",
     "output_type": "stream",
     "text": [
      "4\n",
      "6\n"
     ]
    }
   ],
   "source": [
    "print(A.size)\n",
    "print(matrix.size)"
   ]
  },
  {
   "cell_type": "markdown",
   "id": "3c9cb37a-65d4-4d55-8086-49e0f5f23d8d",
   "metadata": {},
   "source": [
    "## Access Array Elements\n",
    "- Array indexing is the same as accessing an array element.\n",
    "- You can access an array element by referring to its **index number**.\n",
    "\n"
   ]
  },
  {
   "cell_type": "code",
   "execution_count": 21,
   "id": "9c43b521-445a-4b35-9373-def444318b34",
   "metadata": {},
   "outputs": [
    {
     "name": "stdout",
     "output_type": "stream",
     "text": [
      "index-0 : Ande\n",
      "index-1 : Pavan\n",
      "index-2 : Kumar\n"
     ]
    }
   ],
   "source": [
    "name = np.array(['Ande','Pavan','Kumar'])\n",
    "print(\"index-0 :\",name[0])\n",
    "print(\"index-1 :\",name[1])\n",
    "print(\"index-2 :\",name[2])"
   ]
  },
  {
   "cell_type": "markdown",
   "id": "a9d35b3b-83d7-40d3-85c8-f74ffdb87407",
   "metadata": {},
   "source": [
    "### Access 2-D Arrays"
   ]
  },
  {
   "cell_type": "code",
   "execution_count": 27,
   "id": "3e7440b3-f979-4096-bf91-9c16c65df91f",
   "metadata": {},
   "outputs": [
    {
     "name": "stdout",
     "output_type": "stream",
     "text": [
      "[[ 1  2  3  4  5]\n",
      " [ 6  7  8  9 10]]\n",
      "2\n"
     ]
    }
   ],
   "source": [
    "arr = np.array([[1,2,3,4,5], [6,7,8,9,10]])\n",
    "print(arr)\n",
    "# first row first column\n",
    "print(arr[0,1]) "
   ]
  },
  {
   "cell_type": "markdown",
   "id": "69b4a4e1-7435-422e-ac3c-99082d4e2067",
   "metadata": {},
   "source": [
    "### Access 3-D Arrays"
   ]
  },
  {
   "cell_type": "code",
   "execution_count": 32,
   "id": "228e19be-4281-4b4c-b258-5fd5f352b341",
   "metadata": {},
   "outputs": [
    {
     "name": "stdout",
     "output_type": "stream",
     "text": [
      "[[[ 1  2  3]\n",
      "  [ 4  5  6]]\n",
      "\n",
      " [[ 7  8  9]\n",
      "  [10 11 12]]]\n",
      "(2, 2, 3)\n",
      "11\n"
     ]
    }
   ],
   "source": [
    "arr = np.array([[[1, 2, 3], [4, 5, 6]], [[7, 8, 9], [10, 11, 12]]])\n",
    "print(arr)\n",
    "print(arr.shape) # (depth, rows, columns).\n",
    "print(arr[1,1,1])"
   ]
  },
  {
   "cell_type": "markdown",
   "id": "ede7b72c-acc1-4207-a291-d2dcbf15fc3d",
   "metadata": {},
   "source": [
    "### Slicing arrays\n",
    "-  Slicing in python means taking elements from one given index to another given index.\n",
    "-  **[start:end]** (end means end-1 index)\n",
    "-  **[start:end:step]**\n",
    "### 1-D array\n"
   ]
  },
  {
   "cell_type": "code",
   "execution_count": 40,
   "id": "4431e60e-5922-4cd0-ba32-0bca2017c619",
   "metadata": {},
   "outputs": [
    {
     "name": "stdout",
     "output_type": "stream",
     "text": [
      "[2 3 4 5]\n",
      "[3 4 5 6 7]\n",
      "[1 2 3 4]\n",
      "[1 3 5 7]\n"
     ]
    }
   ],
   "source": [
    "arr = np.array([1, 2, 3, 4, 5, 6, 7])\n",
    "# Start & End\n",
    "print(arr[1:5]) \n",
    "\n",
    "# Start\n",
    "print(arr[2:])\n",
    "\n",
    "#End\n",
    "print(arr[:4])\n",
    "\n",
    "#Step by 2\n",
    "print(arr[0:7:2])"
   ]
  },
  {
   "cell_type": "markdown",
   "id": "4e5dd8df-48a4-42d2-b970-8b79d038d1b0",
   "metadata": {},
   "source": [
    "#### Negative Slicing\n",
    "- Use the minus operator to refer to an index from the end (Negative index starts **-1** from end of array)"
   ]
  },
  {
   "cell_type": "code",
   "execution_count": 36,
   "id": "b7439773-f735-47c2-a28d-5e162d880d92",
   "metadata": {},
   "outputs": [
    {
     "name": "stdout",
     "output_type": "stream",
     "text": [
      "[5 6]\n"
     ]
    }
   ],
   "source": [
    "print(arr[-3:-1])"
   ]
  },
  {
   "cell_type": "markdown",
   "id": "b4c3d88b-ac42-44d3-8b5c-258c92f9b183",
   "metadata": {},
   "source": [
    "### 2-D Array\n",
    "- **arr[row_start:row_end, col_start:col_end]**"
   ]
  },
  {
   "cell_type": "code",
   "execution_count": 54,
   "id": "11c4fcc6-290c-4c86-8052-5844cf604080",
   "metadata": {},
   "outputs": [
    {
     "name": "stdout",
     "output_type": "stream",
     "text": [
      "(2, 5)\n",
      "[[1 2 3]\n",
      " [6 7 8]]\n"
     ]
    }
   ],
   "source": [
    "arr = np.array([[1, 2, 3, 4, 5], [6, 7, 8, 9, 10]])\n",
    "print(arr.shape)\n",
    "print(arr[0:2, 0:3])"
   ]
  },
  {
   "cell_type": "code",
   "execution_count": null,
   "id": "e89fd3ef-4e52-4c26-b9d4-7dbfc04f8d53",
   "metadata": {},
   "outputs": [],
   "source": []
  }
 ],
 "metadata": {
  "kernelspec": {
   "display_name": "Python 3 (ipykernel)",
   "language": "python",
   "name": "python3"
  },
  "language_info": {
   "codemirror_mode": {
    "name": "ipython",
    "version": 3
   },
   "file_extension": ".py",
   "mimetype": "text/x-python",
   "name": "python",
   "nbconvert_exporter": "python",
   "pygments_lexer": "ipython3",
   "version": "3.13.2"
  }
 },
 "nbformat": 4,
 "nbformat_minor": 5
}
