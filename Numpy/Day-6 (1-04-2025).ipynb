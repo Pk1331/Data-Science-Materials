{
 "cells": [
  {
   "cell_type": "code",
   "execution_count": 3,
   "id": "1223d516-b688-4f2a-915b-df8ca63e360f",
   "metadata": {},
   "outputs": [],
   "source": [
    "import numpy as np"
   ]
  },
  {
   "cell_type": "markdown",
   "id": "d01af51b-03d7-472e-b921-788941d26a89",
   "metadata": {},
   "source": [
    "\n",
    "### **1. Create a 1D NumPy Array**\n",
    "Create a 1D array of numbers from 10 to 50 with a step of 5.\n",
    "\n",
    "---"
   ]
  },
  {
   "cell_type": "code",
   "execution_count": 4,
   "id": "9847135f-0294-442c-b9cf-648dbb094b0c",
   "metadata": {},
   "outputs": [
    {
     "name": "stdout",
     "output_type": "stream",
     "text": [
      "[10 15 20 25 30 35 40 45]\n"
     ]
    }
   ],
   "source": [
    "arr = np.arange(10,50,5)\n",
    "print(arr)"
   ]
  },
  {
   "cell_type": "markdown",
   "id": "e66b8bb5-b530-474a-be12-a7fa3266275a",
   "metadata": {},
   "source": [
    "### **2. Reshape a 1D Array to 2D**\n",
    "Reshape the array you created in problem 1 into a 2x4 matrix.\n",
    "\n",
    "---"
   ]
  },
  {
   "cell_type": "code",
   "execution_count": 5,
   "id": "753a170f-8965-4900-ae55-179e5d2a5ad1",
   "metadata": {},
   "outputs": [
    {
     "name": "stdout",
     "output_type": "stream",
     "text": [
      "[[10 15 20 25]\n",
      " [30 35 40 45]]\n"
     ]
    }
   ],
   "source": [
    "reshaped_arr = np.reshape(arr,(2,4))\n",
    "print(reshaped_arr)"
   ]
  },
  {
   "cell_type": "markdown",
   "id": "817748f6-dd7a-436e-8efc-dc3a9cfb1e6e",
   "metadata": {},
   "source": [
    "### **3. Find the Maximum, Minimum, and Mean**\n",
    "Given an array `arr = np.array([15, 28, 19, 12, 37, 55, 43, 25])`, find the maximum, minimum, and mean values of the array.\n",
    "\n",
    "---"
   ]
  },
  {
   "cell_type": "code",
   "execution_count": 6,
   "id": "d87c97ed-1795-4bcc-b378-b52e016d9f0e",
   "metadata": {},
   "outputs": [
    {
     "name": "stdout",
     "output_type": "stream",
     "text": [
      "55\n",
      "12\n",
      "29.25\n"
     ]
    }
   ],
   "source": [
    "arr = np.array([15, 28, 19, 12, 37, 55, 43, 25])\n",
    "maxi = np.max(arr)\n",
    "mini = np.min(arr)\n",
    "Mean = np.mean(arr)\n",
    "print(maxi)\n",
    "print(mini)\n",
    "print(Mean)"
   ]
  },
  {
   "cell_type": "markdown",
   "id": "4c7da1d4-491d-4c3f-a4dc-1cbc1a012240",
   "metadata": {},
   "source": [
    "### **4. Create a Zero Matrix**\n",
    "Create a 4x4 matrix filled with zeros, except for the diagonal, which should have values of 1.\n",
    "\n",
    "---"
   ]
  },
  {
   "cell_type": "code",
   "execution_count": 10,
   "id": "a5617492-eba8-4d11-bca7-811d70ec3d9d",
   "metadata": {},
   "outputs": [
    {
     "name": "stdout",
     "output_type": "stream",
     "text": [
      "[[1. 0. 0. 0.]\n",
      " [0. 1. 0. 0.]\n",
      " [0. 0. 1. 0.]\n",
      " [0. 0. 0. 1.]]\n"
     ]
    }
   ],
   "source": [
    "arr = np.eye(4)\n",
    "print(arr)"
   ]
  },
  {
   "cell_type": "markdown",
   "id": "1bd64293-c7ac-4304-abaf-f6c54a845885",
   "metadata": {},
   "source": [
    "### **5. Slicing and Indexing**\n",
    "Given an array `arr = np.array([[1, 2, 3], [4, 5, 6], [7, 8, 9]])`, slice and extract the submatrix:\n",
    "```\n",
    "[[5, 6],\n",
    " [8, 9]]\n",
    "```\n",
    "\n",
    "---"
   ]
  },
  {
   "cell_type": "code",
   "execution_count": 15,
   "id": "7d7c8b59-2c95-40e0-b474-407cb585ddc8",
   "metadata": {},
   "outputs": [
    {
     "name": "stdout",
     "output_type": "stream",
     "text": [
      "[[5 6]\n",
      " [8 9]]\n"
     ]
    }
   ],
   "source": [
    "arr = np.array([[1, 2, 3], [4, 5, 6], [7, 8, 9]])\n",
    "res = arr[1:,1:]\n",
    "print(res)"
   ]
  },
  {
   "cell_type": "markdown",
   "id": "89425d56-1c3c-406d-81f9-68c758c5201c",
   "metadata": {},
   "source": [
    "### **6. Element-wise Operations**\n",
    "Create two random 2x2 matrices and perform the following operations:\n",
    "- Addition\n",
    "- Subtraction\n",
    "- Element-wise multiplication\n",
    "- Element-wise division\n",
    "\n",
    "---"
   ]
  },
  {
   "cell_type": "code",
   "execution_count": 28,
   "id": "ff5486b8-5db5-4cfb-9190-1f648d15e5d5",
   "metadata": {},
   "outputs": [
    {
     "name": "stdout",
     "output_type": "stream",
     "text": [
      "[[8 2]\n",
      " [3 8]]\n",
      "[[16  4]\n",
      " [ 6 16]]\n",
      "[[0 0]\n",
      " [0 0]]\n",
      "[[64  4]\n",
      " [ 9 64]]\n",
      "[[1. 1.]\n",
      " [1. 1.]]\n"
     ]
    }
   ],
   "source": [
    "arr = np.random.randint(1,10,(2,2))\n",
    "print(arr)\n",
    "print(np.add(arr,arr))\n",
    "print(np.subtract(arr,arr))\n",
    "print(np.multiply(arr,arr))\n",
    "print(np.divide(arr,arr))"
   ]
  },
  {
   "cell_type": "markdown",
   "id": "0434b1a2-d242-4b83-bcb3-ce02ec969e9f",
   "metadata": {},
   "source": [
    "### **7. Find Non-zero Elements**\n",
    "Create an array `arr = np.array([0, 3, 0, 7, 0, 1])`. Find the indices of non-zero elements.\n",
    "\n",
    "---"
   ]
  },
  {
   "cell_type": "code",
   "execution_count": 18,
   "id": "1e6c05f9-e909-4928-802a-73ca54f5fc53",
   "metadata": {},
   "outputs": [
    {
     "name": "stdout",
     "output_type": "stream",
     "text": [
      "(array([1, 3, 5]),)\n"
     ]
    }
   ],
   "source": [
    "arr = np.array([0, 3, 0, 7, 0, 1])\n",
    "res = np.nonzero(arr)\n",
    "print(res)"
   ]
  },
  {
   "cell_type": "markdown",
   "id": "413da461-3055-4539-b029-6d5c45898f93",
   "metadata": {},
   "source": [
    "### **8. Dot Product of Two Vectors**\n",
    "Given two vectors:\n",
    "```\n",
    "a = np.array([1, 2, 3])\n",
    "b = np.array([4, 5, 6])\n",
    "```\n",
    "Find the dot product of `a` and `b`.\n",
    "\n",
    "---"
   ]
  },
  {
   "cell_type": "code",
   "execution_count": 29,
   "id": "e72cbdd8-ef34-4643-9eeb-9918cd2772b3",
   "metadata": {},
   "outputs": [
    {
     "name": "stdout",
     "output_type": "stream",
     "text": [
      "32\n"
     ]
    }
   ],
   "source": [
    "a = np.array([1, 2, 3])\n",
    "b = np.array([4, 5, 6])\n",
    "res = np.dot(a,b)\n",
    "print(res)"
   ]
  },
  {
   "cell_type": "markdown",
   "id": "2ad8bebf-40a6-4f1d-96ad-829d26c18c72",
   "metadata": {},
   "source": [
    "### **9. Generate Random Numbers**\n",
    "Generate an array of 10 random numbers following a uniform distribution between 0 and 1. Then, find their sum and standard deviation.\n",
    "\n",
    "---"
   ]
  },
  {
   "cell_type": "code",
   "execution_count": 32,
   "id": "cef1b8c8-4ef6-4e80-906a-3cb367eab0c8",
   "metadata": {},
   "outputs": [
    {
     "name": "stdout",
     "output_type": "stream",
     "text": [
      "[0.57624801 0.74363035 0.22673875 0.4826365  0.6217069  0.1685949\n",
      " 0.44384044 0.25112571 0.51185374 0.1959663 ]\n",
      "4.222341602779181\n",
      "0.19025736866229132\n"
     ]
    }
   ],
   "source": [
    "arr = np.random.rand(10)\n",
    "print(arr)\n",
    "print(np.sum(arr))\n",
    "print(np.std(arr))"
   ]
  },
  {
   "cell_type": "markdown",
   "id": "598cc893-a190-48cb-bf75-5eb8c83ec3ca",
   "metadata": {},
   "source": [
    "### **10. Broadcasting in NumPy**\n",
    "Given the following array:\n",
    "```\n",
    "arr = np.array([[1], [2], [3]])\n",
    "```\n",
    "Use broadcasting to add the array `np.array([10, 20, 30])` to each row of `arr`.\n",
    "\n",
    "---"
   ]
  },
  {
   "cell_type": "code",
   "execution_count": 33,
   "id": "92f1f108-4508-4f0f-8af4-96f2b9940a1e",
   "metadata": {},
   "outputs": [
    {
     "name": "stdout",
     "output_type": "stream",
     "text": [
      "[[11 21 31]\n",
      " [12 22 32]\n",
      " [13 23 33]]\n"
     ]
    }
   ],
   "source": [
    "arr1 = np.array([[1], [2], [3]])\n",
    "arr2 = np.array([10, 20, 30])\n",
    "print(arr1+arr2)"
   ]
  },
  {
   "cell_type": "markdown",
   "id": "0d501840-c57b-4c5a-befb-559e5d2a05c5",
   "metadata": {},
   "source": [
    "### **11. Sorting**\n",
    "Sort the following array `arr = np.array([12, 4, 19, 33, 2, 7])` in ascending order.\n",
    "\n",
    "---"
   ]
  },
  {
   "cell_type": "code",
   "execution_count": 34,
   "id": "cd9851ce-df5f-4f4d-bf2b-76ec140f7ef7",
   "metadata": {},
   "outputs": [
    {
     "name": "stdout",
     "output_type": "stream",
     "text": [
      "[ 2  4  7 12 19 33]\n"
     ]
    }
   ],
   "source": [
    "arr = np.array([12, 4, 19, 33, 2, 7])\n",
    "print(np.sort(arr))"
   ]
  },
  {
   "cell_type": "markdown",
   "id": "8931276b-8225-40b0-a785-ccdfebacc5d4",
   "metadata": {},
   "source": [
    "### **12. Cumulative Sum**\n",
    "Create an array `arr = np.array([1, 2, 3, 4, 5])`. Compute the cumulative sum of the elements in this array.\n",
    "\n",
    "---"
   ]
  },
  {
   "cell_type": "code",
   "execution_count": 37,
   "id": "09b3f795-9e00-478b-a73f-205c488cdc0f",
   "metadata": {},
   "outputs": [
    {
     "name": "stdout",
     "output_type": "stream",
     "text": [
      "[ 1  3  6 10 15]\n"
     ]
    }
   ],
   "source": [
    "arr = np.array([1, 2, 3, 4, 5])\n",
    "print(np.cumsum(arr))"
   ]
  },
  {
   "cell_type": "markdown",
   "id": "a02b65ff-dc98-4817-9148-34ac2f8f40a0",
   "metadata": {},
   "source": [
    "### **13. Find the Percentile**\n",
    "Given the array `arr = np.array([1, 2, 3, 4, 5, 6, 7, 8, 9, 10])`, find the 25th percentile of the data.\n",
    "\n",
    "---"
   ]
  },
  {
   "cell_type": "code",
   "execution_count": 39,
   "id": "d9a53fcb-9110-4662-9604-e4c20dee4ed6",
   "metadata": {},
   "outputs": [
    {
     "name": "stdout",
     "output_type": "stream",
     "text": [
      "3.25\n"
     ]
    }
   ],
   "source": [
    "arr = np.array([1, 2, 3, 4, 5, 6, 7, 8, 9, 10])\n",
    "print(np.percentile(arr,25))"
   ]
  },
  {
   "cell_type": "markdown",
   "id": "ecb5e09a-48e4-4d68-af58-f102685afa28",
   "metadata": {},
   "source": [
    "### **14. Matrix Multiplication**\n",
    "Create two matrices:\n",
    "```\n",
    "a = np.array([[1, 2], [3, 4]])\n",
    "b = np.array([[5, 6], [7, 8]])\n",
    "```\n",
    "Perform matrix multiplication of `a` and `b`.\n",
    "\n",
    "---"
   ]
  },
  {
   "cell_type": "code",
   "execution_count": 41,
   "id": "37884947-fe51-49a1-a9fb-bc15502aa6a0",
   "metadata": {},
   "outputs": [
    {
     "name": "stdout",
     "output_type": "stream",
     "text": [
      "[[19 22]\n",
      " [43 50]]\n"
     ]
    }
   ],
   "source": [
    "a = np.array([[1, 2], [3, 4]])\n",
    "b = np.array([[5, 6], [7, 8]])\n",
    "print(np.matmul(a,b))"
   ]
  },
  {
   "cell_type": "markdown",
   "id": "37f60536-7c5c-4a6e-bdcf-18e1fecfbdef",
   "metadata": {},
   "source": [
    "### **15. Mean Absolute Deviation**\n",
    "Given an array `arr = np.array([1, 3, 5, 7, 9])`, calculate the mean absolute deviation (MAD).\n",
    "\n",
    "---"
   ]
  },
  {
   "cell_type": "code",
   "execution_count": 48,
   "id": "05bb9805-3ff6-4cc2-894e-9b1a26295ca9",
   "metadata": {},
   "outputs": [
    {
     "name": "stdout",
     "output_type": "stream",
     "text": [
      "2.4\n"
     ]
    }
   ],
   "source": [
    "arr = np.array([1, 3, 5, 7, 9])\n",
    "MAD = np.mean(abs(np.mean(arr) - arr))\n",
    "print(MAD)"
   ]
  },
  {
   "cell_type": "markdown",
   "id": "7e93e661-3f7f-4a77-85ed-c33c8cc5d738",
   "metadata": {},
   "source": [
    "### **16. Replace Elements**\n",
    "Given the array `arr = np.array([1, 2, 3, 4, 5, 6, 7])`, replace all elements greater than 4 with the value 99.\n",
    "\n",
    "---"
   ]
  },
  {
   "cell_type": "code",
   "execution_count": 55,
   "id": "4957a7e2-f97d-4601-9b31-4c89fe0c37f6",
   "metadata": {},
   "outputs": [
    {
     "name": "stdout",
     "output_type": "stream",
     "text": [
      "[ 1  2  3  4 99 99 99]\n"
     ]
    }
   ],
   "source": [
    "arr = np.array([1, 2, 3, 4, 5, 6, 7])\n",
    "arr[arr>4] = 99\n",
    "print(arr)"
   ]
  },
  {
   "cell_type": "markdown",
   "id": "0d7ae6e8-ad08-4e44-86d3-f43333f260de",
   "metadata": {},
   "source": [
    "### **17. Normalize an Array**\n",
    "Normalize the given array `arr = np.array([10, 20, 30, 40])` such that the sum of the elements equals 1.\n",
    "\n",
    "---"
   ]
  },
  {
   "cell_type": "code",
   "execution_count": 61,
   "id": "9e35c492-7b9b-4ed9-95fd-318d194b38f3",
   "metadata": {},
   "outputs": [
    {
     "name": "stdout",
     "output_type": "stream",
     "text": [
      "[0.1 0.2 0.3 0.4]\n"
     ]
    }
   ],
   "source": [
    "arr = np.array([10, 20, 30, 40])\n",
    "print(arr/(np.sum(arr)))"
   ]
  },
  {
   "cell_type": "markdown",
   "id": "b90bf82c-e005-4ae3-bac3-055fc4ca00ef",
   "metadata": {},
   "source": [
    "### **18. Unique Elements**\n",
    "Create an array `arr = np.array([1, 2, 3, 2, 4, 1, 5, 3])` and find the unique elements in the array.\n",
    "\n",
    "---\n"
   ]
  },
  {
   "cell_type": "code",
   "execution_count": 56,
   "id": "27159d07-cea0-4cee-92ed-c2674c0ebd6c",
   "metadata": {},
   "outputs": [
    {
     "name": "stdout",
     "output_type": "stream",
     "text": [
      "[1 2 3 4 5]\n"
     ]
    }
   ],
   "source": [
    "arr = np.array([1, 2, 3, 2, 4, 1, 5, 3])\n",
    "print(np.unique(arr))"
   ]
  },
  {
   "cell_type": "markdown",
   "id": "638bb6e7-dc65-4eb1-804f-ee6bbb121b6f",
   "metadata": {},
   "source": [
    "### **19. Stack Arrays**\n",
    "Given two arrays `a = np.array([1, 2, 3])` and `b = np.array([4, 5, 6])`, vertically stack these arrays to form a 2x3 matrix.\n",
    "\n",
    "---\n"
   ]
  },
  {
   "cell_type": "code",
   "execution_count": 67,
   "id": "9f16755a-cfaf-461e-b3a6-8c2da538c421",
   "metadata": {},
   "outputs": [
    {
     "name": "stdout",
     "output_type": "stream",
     "text": [
      "[[1 2 3]\n",
      " [4 5 6]]\n"
     ]
    }
   ],
   "source": [
    "a = np.array([1, 2, 3])\n",
    "b = np.array([4, 5, 6])\n",
    "res = np.vstack((a,b))\n",
    "print(res)"
   ]
  },
  {
   "cell_type": "markdown",
   "id": "59415aff-ff77-4fbb-afb7-4b0532c34475",
   "metadata": {},
   "source": [
    "### **20. Solve a System of Linear Equations**\n",
    "Solve the following system of linear equations using NumPy:\n",
    "```\n",
    "2x + 3y = 10\n",
    "4x - y = 5\n",
    "```\n",
    "\n",
    "---"
   ]
  },
  {
   "cell_type": "code",
   "execution_count": 73,
   "id": "9a3eab75-2799-4c7e-bba1-ccf31491fb5c",
   "metadata": {},
   "outputs": [
    {
     "name": "stdout",
     "output_type": "stream",
     "text": [
      "[1.78571429 2.14285714]\n"
     ]
    }
   ],
   "source": [
    "a = np.array([[2,3],[4,-1]])\n",
    "b = np.array([10,5])\n",
    "print(np.linalg.solve(a,b))\n"
   ]
  },
  {
   "cell_type": "markdown",
   "id": "7a0fa9cc-bb62-4741-ba7b-d0b397aef443",
   "metadata": {},
   "source": [
    "### **21. Create an Identity Matrix**\n",
    "Create a 5x5 identity matrix.\n",
    "\n",
    "---"
   ]
  },
  {
   "cell_type": "code",
   "execution_count": 69,
   "id": "f01d5bfa-813a-4c49-934c-ff37402e3d1f",
   "metadata": {},
   "outputs": [
    {
     "name": "stdout",
     "output_type": "stream",
     "text": [
      "[[1. 0. 0. 0. 0.]\n",
      " [0. 1. 0. 0. 0.]\n",
      " [0. 0. 1. 0. 0.]\n",
      " [0. 0. 0. 1. 0.]\n",
      " [0. 0. 0. 0. 1.]]\n"
     ]
    }
   ],
   "source": [
    "print(np.eye(5))"
   ]
  },
  {
   "cell_type": "markdown",
   "id": "2db258e2-6860-40bf-8587-88cc5899c107",
   "metadata": {},
   "source": [
    "\n",
    "### **22. Find the Determinant**\n",
    "Given a 2x2 matrix:\n",
    "```\n",
    "a = np.array([[1, 2], [3, 4]])\n",
    "```\n",
    "Find its determinant.\n",
    "\n",
    "---"
   ]
  },
  {
   "cell_type": "code",
   "execution_count": 74,
   "id": "16b273e2-0f57-4f50-8eb1-978c93f013c5",
   "metadata": {},
   "outputs": [
    {
     "name": "stdout",
     "output_type": "stream",
     "text": [
      "-2.0000000000000004\n"
     ]
    }
   ],
   "source": [
    "a = np.array([[1, 2], [3, 4]])\n",
    "print(np.linalg.det(a))"
   ]
  },
  {
   "cell_type": "markdown",
   "id": "f6a306fc-66f7-4c17-80f1-2339a6fc8a22",
   "metadata": {},
   "source": [
    "### **23. Reverse an Array**\n",
    "Given the array `arr = np.array([1, 2, 3, 4, 5])`, reverse the order of its elements.\n",
    "\n",
    "---"
   ]
  },
  {
   "cell_type": "code",
   "execution_count": 75,
   "id": "a4a41e61-492c-49e9-8073-ca6e5b542efe",
   "metadata": {},
   "outputs": [
    {
     "name": "stdout",
     "output_type": "stream",
     "text": [
      "[5 4 3 2 1]\n"
     ]
    }
   ],
   "source": [
    "arr = np.array([1, 2, 3, 4, 5])\n",
    "print(arr[::-1])"
   ]
  },
  {
   "cell_type": "markdown",
   "id": "6fda9dab-07cc-44cd-9184-8e8f3881bfd0",
   "metadata": {},
   "source": [
    "### **24. Histogram**\n",
    "Generate 100 random numbers following a normal distribution and plot a histogram of the values using Matplotlib.\n",
    "\n",
    "---\n"
   ]
  },
  {
   "cell_type": "code",
   "execution_count": 85,
   "id": "65dd27bc-4963-4756-9e92-f819ce0fefc8",
   "metadata": {},
   "outputs": [],
   "source": [
    "import matplotlib.pyplot as plt\n"
   ]
  },
  {
   "cell_type": "code",
   "execution_count": 92,
   "id": "0744f953-4308-4814-bf6c-72bd73284946",
   "metadata": {},
   "outputs": [
    {
     "data": {
      "image/png": "[encoded data removed]",
      "text/plain": [
       "<Figure size 640x480 with 1 Axes>"
      ]
     },
     "metadata": {},
     "output_type": "display_data"
    }
   ],
   "source": [
    "arr = np.random.randn(100)\n",
    "plt.hist(arr,bins=40,edgecolor='black',alpha=0.7)\n",
    "plt.xlabel(\"Value\")\n",
    "plt.ylabel(\"Frequency\")\n",
    "plt.show()"
   ]
  },
  {
   "cell_type": "markdown",
   "id": "d942afd6-30e2-48ae-9e0e-a60ddc59c41c",
   "metadata": {},
   "source": [
    "### **25. Euclidean Distance Between Two Points**\n",
    "Given two points:\n",
    "```\n",
    "p1 = np.array([1, 2])\n",
    "p2 = np.array([4, 6])\n",
    "```\n",
    "Find the Euclidean distance between `p1` and `p2`.\n",
    "\n",
    "---\n"
   ]
  },
  {
   "cell_type": "code",
   "execution_count": 93,
   "id": "a70b8a14-48ea-4903-ac1e-48c5e78d48fa",
   "metadata": {},
   "outputs": [
    {
     "name": "stdout",
     "output_type": "stream",
     "text": [
      "5.0\n"
     ]
    }
   ],
   "source": [
    "p1 = np.array([1, 2])\n",
    "p2 = np.array([4, 6])\n",
    "print(np.linalg.norm(p1-p2))"
   ]
  },
  {
   "cell_type": "code",
   "execution_count": null,
   "id": "0dc7d9fd-ba9c-4cc8-82e7-5fbb26e70a0d",
   "metadata": {},
   "outputs": [],
   "source": []
  }
 ],
 "metadata": {
  "kernelspec": {
   "display_name": "Python 3 (ipykernel)",
   "language": "python",
   "name": "python3"
  },
  "language_info": {
   "codemirror_mode": {
    "name": "ipython",
    "version": 3
   },
   "file_extension": ".py",
   "mimetype": "text/x-python",
   "name": "python",
   "nbconvert_exporter": "python",
   "pygments_lexer": "ipython3",
   "version": "3.13.2"
  }
 },
 "nbformat": 4,
 "nbformat_minor": 5
}
