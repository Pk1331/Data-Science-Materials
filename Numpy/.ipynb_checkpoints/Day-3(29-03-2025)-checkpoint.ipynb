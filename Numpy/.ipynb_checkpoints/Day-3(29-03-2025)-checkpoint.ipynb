{
 "cells": [
  {
   "cell_type": "markdown",
   "id": "514b8bda-ff06-4c7e-8cd3-5f44af21164a",
   "metadata": {},
   "source": [
    "# Day-3"
   ]
  },
  {
   "cell_type": "code",
   "execution_count": 1,
   "id": "b9012531-55c6-4a08-ae29-f28bb6ee5886",
   "metadata": {},
   "outputs": [],
   "source": [
    "import numpy as np"
   ]
  },
  {
   "cell_type": "markdown",
   "id": "e88db2af-8aef-4e88-91d0-8c3a2f7cfbcd",
   "metadata": {},
   "source": [
    "##  Mathematical Functions\n",
    "- `np.add(arr1, arr2)` - Element-wise addition.\n",
    "- `np.subtract(arr1, arr2)` - Element-wise subtraction.\n",
    "- `np.multiply(arr1, arr2)` - Element-wise multiplication.\n",
    "- `np.divide(arr1, arr2)` - Element-wise division.\n",
    "- `np.power(arr, n)` - Raises elements to the power of n.\n",
    "- `np.sqrt(arr)` - Computes the square root of each element.\n",
    "- `np.sin(arr)`, `np.cos(arr)`, `np.tan(arr)` - Trigonometric functions.\n",
    "- `np.log(arr)` - Natural logarithm of elements.\n",
    "- `np.exp(arr)` - Exponential of elements.\n",
    "- `np.abs(arr)` - Absolute value of elements.\n"
   ]
  },
  {
   "cell_type": "code",
   "execution_count": 2,
   "id": "5cf1fabd-8273-48fb-8661-bb10e37d523b",
   "metadata": {},
   "outputs": [],
   "source": [
    "# Sample array\n",
    "arr1 = np.array([1, 2, 3, 4, 5])\n",
    "arr2 = np.array([5, 4, 3, 2, 1])"
   ]
  },
  {
   "cell_type": "markdown",
   "id": "6d27d645-766a-4a76-b7ad-21cb79e22c6e",
   "metadata": {},
   "source": [
    "### 1️⃣ Addition"
   ]
  },
  {
   "cell_type": "code",
   "execution_count": 3,
   "id": "18b828a7-157f-416f-b36f-63620882c1ba",
   "metadata": {},
   "outputs": [
    {
     "name": "stdout",
     "output_type": "stream",
     "text": [
      "[6 6 6 6 6]\n"
     ]
    }
   ],
   "source": [
    "print(np.add(arr1, arr2))  # [6 6 6 6 6]"
   ]
  },
  {
   "cell_type": "markdown",
   "id": "094971ac-eca6-4be3-8041-189f2f1208c4",
   "metadata": {},
   "source": [
    "### 2️⃣ Subtraction"
   ]
  },
  {
   "cell_type": "code",
   "execution_count": 4,
   "id": "beb918ee-09cc-4487-9c81-117316235b18",
   "metadata": {},
   "outputs": [
    {
     "name": "stdout",
     "output_type": "stream",
     "text": [
      "[-4 -2  0  2  4]\n"
     ]
    }
   ],
   "source": [
    "print(np.subtract(arr1, arr2))  # [-4 -2  0  2  4]"
   ]
  },
  {
   "cell_type": "markdown",
   "id": "bda03377-b4b2-496f-a5ed-2954e2a99ef8",
   "metadata": {},
   "source": [
    "### 3️⃣ Multiplication"
   ]
  },
  {
   "cell_type": "code",
   "execution_count": 5,
   "id": "7ed244bf-79c2-4ce6-a122-ad33dc4a3415",
   "metadata": {},
   "outputs": [
    {
     "name": "stdout",
     "output_type": "stream",
     "text": [
      "[5 8 9 8 5]\n"
     ]
    }
   ],
   "source": [
    "print(np.multiply(arr1, arr2))  # [5 8 9 8 5]"
   ]
  },
  {
   "cell_type": "markdown",
   "id": "f0a08763-1c40-4680-9582-3c608e1d31af",
   "metadata": {},
   "source": [
    "### 4️⃣ Division"
   ]
  },
  {
   "cell_type": "code",
   "execution_count": 6,
   "id": "309627fc-9675-4576-9c83-6a62add2217b",
   "metadata": {},
   "outputs": [
    {
     "name": "stdout",
     "output_type": "stream",
     "text": [
      "[0.2 0.5 1.  2.  5. ]\n"
     ]
    }
   ],
   "source": [
    "print(np.divide(arr1, arr2))  # [0.2 0.5 1.  2.  5. ]"
   ]
  },
  {
   "cell_type": "markdown",
   "id": "a671f8c4-39b8-4964-8d1c-becea2e82ce5",
   "metadata": {},
   "source": [
    "### 5️⃣ Power (Raise to Power n)"
   ]
  },
  {
   "cell_type": "code",
   "execution_count": 7,
   "id": "b853794c-4be1-4525-aad2-b4caded12777",
   "metadata": {},
   "outputs": [
    {
     "name": "stdout",
     "output_type": "stream",
     "text": [
      "[ 1  4  9 16 25]\n"
     ]
    }
   ],
   "source": [
    "print(np.power(arr1, 2))  # [ 1  4  9 16 25]"
   ]
  },
  {
   "cell_type": "markdown",
   "id": "a42d4a0b-cfac-414e-bebf-277289ad4960",
   "metadata": {},
   "source": [
    "### 6️⃣ Square Root"
   ]
  },
  {
   "cell_type": "code",
   "execution_count": 8,
   "id": "c3801f35-75b6-4be2-bac6-fea45bc594bb",
   "metadata": {},
   "outputs": [
    {
     "name": "stdout",
     "output_type": "stream",
     "text": [
      "[1.         1.41421356 1.73205081 2.         2.23606798]\n"
     ]
    }
   ],
   "source": [
    "print(np.sqrt(arr1))  # [1.         1.41421356 1.73205081 2.         2.23606798]"
   ]
  },
  {
   "cell_type": "markdown",
   "id": "f1afec6f-ff27-4353-84d7-e60c1a70ce1f",
   "metadata": {},
   "source": [
    "### 7️⃣ Trigonometric Functions"
   ]
  },
  {
   "cell_type": "code",
   "execution_count": 9,
   "id": "640da251-ebe1-46e6-86df-9d7a2cfb97b3",
   "metadata": {},
   "outputs": [
    {
     "name": "stdout",
     "output_type": "stream",
     "text": [
      "[0.0000000e+00 1.0000000e+00 1.2246468e-16]\n",
      "[ 1.000000e+00  6.123234e-17 -1.000000e+00]\n",
      "[ 0.00000000e+00  1.63312394e+16 -1.22464680e-16]\n"
     ]
    }
   ],
   "source": [
    "angles = np.array([0, np.pi/2, np.pi])\n",
    "print(np.sin(angles))  # [ 0.  1.  0.]\n",
    "print(np.cos(angles))  # [ 1.  0. -1.]\n",
    "print(np.tan(angles))  # [ 0.  1.634E16  0.]"
   ]
  },
  {
   "cell_type": "markdown",
   "id": "662b6873-6192-43f4-beec-7a6320a1a076",
   "metadata": {},
   "source": [
    "### 8️⃣ Logarithm (Natural Log)"
   ]
  },
  {
   "cell_type": "code",
   "execution_count": 10,
   "id": "265bfef9-c704-4b37-b329-c06de59a31c7",
   "metadata": {},
   "outputs": [
    {
     "name": "stdout",
     "output_type": "stream",
     "text": [
      "[0.         0.69314718 1.09861229 1.38629436 1.60943791]\n"
     ]
    }
   ],
   "source": [
    "print(np.log(arr1))  # [0.         0.69314718 1.09861229 1.38629436 1.60943791]"
   ]
  },
  {
   "cell_type": "markdown",
   "id": "a66d8dda-c67b-4b16-8073-2515f468bb82",
   "metadata": {},
   "source": [
    "### 9️⃣ Exponential "
   ]
  },
  {
   "cell_type": "code",
   "execution_count": 11,
   "id": "ee9a7c7a-a9fe-461a-a15c-0c5121f5c590",
   "metadata": {},
   "outputs": [
    {
     "name": "stdout",
     "output_type": "stream",
     "text": [
      "[  2.71828183   7.3890561   20.08553692  54.59815003 148.4131591 ]\n"
     ]
    }
   ],
   "source": [
    "print(np.exp(arr1))  # [  2.71828183   7.3890561   20.08553692  54.59815003 148.4131591 ]"
   ]
  },
  {
   "cell_type": "markdown",
   "id": "0f2a653a-5bfa-4967-b0e4-2fe315620a91",
   "metadata": {},
   "source": [
    "### 🔟 Absolute Value"
   ]
  },
  {
   "cell_type": "code",
   "execution_count": 12,
   "id": "8902a554-f035-4261-a897-f3373a6dbffe",
   "metadata": {},
   "outputs": [
    {
     "name": "stdout",
     "output_type": "stream",
     "text": [
      "[1 2 3 4 5]\n"
     ]
    }
   ],
   "source": [
    "arr_neg = np.array([-1, -2, -3, 4, 5])\n",
    "print(np.abs(arr_neg))  # [1 2 3 4 5]"
   ]
  },
  {
   "cell_type": "markdown",
   "id": "b04398b1-1567-4fa9-b10f-d10c0ac7e254",
   "metadata": {},
   "source": [
    "## Aggregate Functions\n",
    "- `np.sum(arr)` - Sum of elements.\n",
    "- `np.prod(arr)` - Product of elements.\n",
    "- `np.cumsum(arr)` - Cumulative sum of elements.\n",
    "- `np.cumprod(arr)` - Cumulative product of elements.\n",
    "- `np.min(arr)` - Returns the minimum value of the array elements.\n",
    "- `np.max(arr)` - Returns the maximum value of the array elements.\n"
   ]
  },
  {
   "cell_type": "markdown",
   "id": "951044cf-c4c6-4974-8b2d-c8794eb9e10b",
   "metadata": {},
   "source": [
    "### 1️⃣ Sum of Elements"
   ]
  },
  {
   "cell_type": "code",
   "execution_count": 13,
   "id": "081cf40b-90cd-4d23-97ec-46c8321fcbbc",
   "metadata": {},
   "outputs": [
    {
     "name": "stdout",
     "output_type": "stream",
     "text": [
      "15\n"
     ]
    }
   ],
   "source": [
    "print(np.sum(arr1))  # 15"
   ]
  },
  {
   "cell_type": "markdown",
   "id": "90a8e1d1-0977-4884-bb29-fd834c949f74",
   "metadata": {},
   "source": [
    "### 2️⃣ Product of Elements"
   ]
  },
  {
   "cell_type": "code",
   "execution_count": 14,
   "id": "ffeb9b7a-f2e4-481c-8fbf-490e77d99bda",
   "metadata": {},
   "outputs": [
    {
     "name": "stdout",
     "output_type": "stream",
     "text": [
      "120\n"
     ]
    }
   ],
   "source": [
    "print(np.prod(arr1))  # 120"
   ]
  },
  {
   "cell_type": "markdown",
   "id": "786cfd9d-e760-4de9-a728-c2b2d1d26422",
   "metadata": {},
   "source": [
    "### 3️⃣ Cumulative Sum"
   ]
  },
  {
   "cell_type": "code",
   "execution_count": 15,
   "id": "e6a02bf5-ce74-47e4-91e8-b6c0ecf70995",
   "metadata": {},
   "outputs": [
    {
     "name": "stdout",
     "output_type": "stream",
     "text": [
      "[ 1  3  6 10 15]\n"
     ]
    }
   ],
   "source": [
    "print(np.cumsum(arr1))  # [ 1  3  6 10 15]"
   ]
  },
  {
   "cell_type": "markdown",
   "id": "bf351956-24fb-4e4e-8e58-ee4292958869",
   "metadata": {},
   "source": [
    "### 4️⃣ Cumulative Product"
   ]
  },
  {
   "cell_type": "code",
   "execution_count": 16,
   "id": "cc2ccad7-1737-40c9-854f-1fc952c02381",
   "metadata": {},
   "outputs": [
    {
     "name": "stdout",
     "output_type": "stream",
     "text": [
      "[  1   2   6  24 120]\n"
     ]
    }
   ],
   "source": [
    "print(np.cumprod(arr1))  # [  1   2   6  24 120]"
   ]
  },
  {
   "cell_type": "markdown",
   "id": "539c5c61-889e-4d1f-9989-e5394a5e2bd8",
   "metadata": {},
   "source": [
    "### 5️⃣ Min Value"
   ]
  },
  {
   "cell_type": "code",
   "execution_count": 17,
   "id": "915d623a-ed8c-4409-aaa7-3a04c49b1394",
   "metadata": {},
   "outputs": [
    {
     "name": "stdout",
     "output_type": "stream",
     "text": [
      "1\n"
     ]
    }
   ],
   "source": [
    "print(np.min(arr1))"
   ]
  },
  {
   "cell_type": "markdown",
   "id": "99adcb03-11d7-4e0c-a38f-e20264d96432",
   "metadata": {},
   "source": [
    "### 6️⃣ Max value"
   ]
  },
  {
   "cell_type": "code",
   "execution_count": 18,
   "id": "f4543431-054d-4b57-8f81-fd591ff27c3f",
   "metadata": {},
   "outputs": [
    {
     "name": "stdout",
     "output_type": "stream",
     "text": [
      "5\n"
     ]
    }
   ],
   "source": [
    "print(np.max(arr1))"
   ]
  },
  {
   "cell_type": "markdown",
   "id": "71edef7c-8fb5-4b9d-8364-9b3d9be01f24",
   "metadata": {},
   "source": [
    "## In NumPy, \n",
    "### `axis` defines the direction along which operations (like sum, mean) are performed in a multi-dimensional array\n",
    "### `Axis 0` (Rows) → Operates vertically (down the columns).\n",
    "\n",
    "### `Axis 1` (Columns) → Operates horizontally (across the rows).\n",
    "\n",
    "\n"
   ]
  },
  {
   "cell_type": "markdown",
   "id": "f79b4474-6168-4c98-b595-af75cea1498a",
   "metadata": {},
   "source": [
    "### Example without axis (axis = None (default))"
   ]
  },
  {
   "cell_type": "code",
   "execution_count": 19,
   "id": "d1be8e61-f572-4010-9624-ee2607077dc5",
   "metadata": {},
   "outputs": [
    {
     "name": "stdout",
     "output_type": "stream",
     "text": [
      "[[1 2]\n",
      " [3 4]]\n",
      "Sum: 10\n"
     ]
    }
   ],
   "source": [
    "arr = np.array([[1, 2], [3, 4]])\n",
    "print(arr)\n",
    "print(\"Sum:\",np.sum(arr))"
   ]
  },
  {
   "cell_type": "markdown",
   "id": "41b93432-ba91-4ec6-acb5-53a574e4b8a2",
   "metadata": {},
   "source": [
    "### `axis =0`\n",
    "####  If you sum along axis=0, NumPy will take the sum of each column (downward direction)."
   ]
  },
  {
   "cell_type": "code",
   "execution_count": 20,
   "id": "ece72698-3406-4a72-8fc6-429cf2d7b3d7",
   "metadata": {},
   "outputs": [
    {
     "name": "stdout",
     "output_type": "stream",
     "text": [
      "[4 6]\n"
     ]
    }
   ],
   "source": [
    "print(np.sum(arr,axis=0))"
   ]
  },
  {
   "cell_type": "markdown",
   "id": "4a6956e0-6daf-4abe-9651-a4017753f1d3",
   "metadata": {},
   "source": [
    "### `axis =1`\n",
    "#### If you sum along axis=1, NumPy will take the sum of each row (across direction)."
   ]
  },
  {
   "cell_type": "code",
   "execution_count": 21,
   "id": "0750d12d-8cad-48c4-9183-21f00b9432c1",
   "metadata": {},
   "outputs": [
    {
     "data": {
      "text/plain": [
       "array([3, 7])"
      ]
     },
     "execution_count": 21,
     "metadata": {},
     "output_type": "execute_result"
    }
   ],
   "source": [
    "np.sum(arr, axis=1)"
   ]
  },
  {
   "cell_type": "markdown",
   "id": "b0dc2aee-ab2e-4acb-9715-96df0a0ac126",
   "metadata": {},
   "source": [
    "## Array Reshaping & Manipulation Functions\n",
    "- `np.reshape(arr, new_shape)` - Reshapes the array to a new shape.\n",
    "- `np.ravel(arr)` - Flattens the array to 1D.\n",
    "- `np.transpose(arr)` - Transposes the array (rows become columns).\n",
    "- `np.swapaxes(arr, axis1, axis2)` - Swaps two axes of the array.\n",
    "- `np.expand_dims(arr, axis)` - Expands an array by adding a new axis.\n",
    "- `np.squeeze(arr)` - Removes single-dimensional entries from the shape.\n",
    "- `np.concatenate((arr1, arr2), axis)` - Concatenates two arrays along a given axis.\n",
    "- `np.stack(arrays, axis)` - Stacks arrays along a new axis.\n",
    "- `np.hstack(arrays)` - Stacks arrays horizontally.\n",
    "- `np.vstack(arrays)` - Stacks arrays vertically.\n",
    "- `np.split(arr, indices_or_sections)` - Splits an array into sub-arrays.\n",
    "- `np.tile(arr, reps)` - Repeats an array."
   ]
  },
  {
   "cell_type": "code",
   "execution_count": 22,
   "id": "8ab256db-1d38-4047-b48e-2e0c98f39928",
   "metadata": {},
   "outputs": [],
   "source": [
    "# Sample array\n",
    "arr = np.array([[1, 2, 3], [4, 5, 6]])"
   ]
  },
  {
   "cell_type": "markdown",
   "id": "0bb8f938-04a9-48eb-b8e7-0a460a0d9ceb",
   "metadata": {},
   "source": [
    "### 1️⃣ Reshape: `np.reshape(arr, new_shape)`"
   ]
  },
  {
   "cell_type": "code",
   "execution_count": 23,
   "id": "d1ddfa1e-48b3-412c-ac95-743f5c857d3a",
   "metadata": {},
   "outputs": [
    {
     "name": "stdout",
     "output_type": "stream",
     "text": [
      "before reshaping:  (2, 3)\n",
      "[[1 2]\n",
      " [3 4]\n",
      " [5 6]]\n",
      "after reshaping:  (3, 2)\n"
     ]
    }
   ],
   "source": [
    "print(\"before reshaping: \",arr.shape)\n",
    "reshaped_arr = np.reshape(arr, (3, 2))\n",
    "print(reshaped_arr)\n",
    "print(\"after reshaping: \",reshaped_arr.shape)"
   ]
  },
  {
   "cell_type": "markdown",
   "id": "cd5c0a78-5763-4048-ac04-d81dc5e2cf23",
   "metadata": {},
   "source": [
    "### 2️⃣ Flatten: `np.ravel(arr)`"
   ]
  },
  {
   "cell_type": "code",
   "execution_count": 24,
   "id": "af848d42-275b-4f5f-9fa7-aaa6554c383f",
   "metadata": {},
   "outputs": [
    {
     "name": "stdout",
     "output_type": "stream",
     "text": [
      "[1 2 3 4 5 6]\n"
     ]
    }
   ],
   "source": [
    "flattened_arr = np.ravel(arr)\n",
    "print(flattened_arr)"
   ]
  },
  {
   "cell_type": "markdown",
   "id": "fd9cff2f-e04b-4dbd-82a2-9c1764a9a4f2",
   "metadata": {},
   "source": [
    "### 3️⃣ Transpose: `np.transpose(arr)`"
   ]
  },
  {
   "cell_type": "code",
   "execution_count": 25,
   "id": "c06dd7ce-cf90-4498-846b-9f1ebe8584e1",
   "metadata": {},
   "outputs": [
    {
     "name": "stdout",
     "output_type": "stream",
     "text": [
      "[[1 4]\n",
      " [2 5]\n",
      " [3 6]]\n"
     ]
    }
   ],
   "source": [
    "transposed_arr = np.transpose(arr)\n",
    "print(transposed_arr)"
   ]
  },
  {
   "cell_type": "markdown",
   "id": "4f549201-6692-4143-a14e-50bd98651e04",
   "metadata": {},
   "source": [
    "### 4️⃣ Swap Axes: `np.swapaxes(arr, axis1, axis2)`"
   ]
  },
  {
   "cell_type": "code",
   "execution_count": 26,
   "id": "4cde534a-348a-4b1c-a8d5-fac6c27cbde2",
   "metadata": {},
   "outputs": [
    {
     "name": "stdout",
     "output_type": "stream",
     "text": [
      "[[1 4]\n",
      " [2 5]\n",
      " [3 6]]\n"
     ]
    }
   ],
   "source": [
    "swapped_axes_arr = np.swapaxes(arr, 0, 1)\n",
    "print(swapped_axes_arr)"
   ]
  },
  {
   "cell_type": "markdown",
   "id": "6bd6e384-2253-44f0-83b6-6a5258c6bab4",
   "metadata": {},
   "source": [
    "### 5️⃣ Expand Dimensions: `np.expand_dims(arr, axis)`"
   ]
  },
  {
   "cell_type": "code",
   "execution_count": 27,
   "id": "ddb56b7d-bab3-4dbf-a661-ca074a35410a",
   "metadata": {},
   "outputs": [
    {
     "name": "stdout",
     "output_type": "stream",
     "text": [
      "Before Expanding:  2\n",
      "[[[1 2 3]\n",
      "  [4 5 6]]]\n",
      "After Expanding:  3\n"
     ]
    }
   ],
   "source": [
    "print(\"Before Expanding: \",arr.ndim)\n",
    "expanded_arr = np.expand_dims(arr, axis=0)\n",
    "print(expanded_arr)\n",
    "print(\"After Expanding: \",expanded_arr.ndim)"
   ]
  },
  {
   "cell_type": "markdown",
   "id": "1d24cf28-6e10-4661-b7fb-593604e500bf",
   "metadata": {},
   "source": [
    "### 6️⃣ Squeeze Dimensions: `np.squeeze(arr)`"
   ]
  },
  {
   "cell_type": "code",
   "execution_count": 28,
   "id": "1a44e86f-b2b6-4ee1-bc1e-885b0e9dc73f",
   "metadata": {},
   "outputs": [
    {
     "name": "stdout",
     "output_type": "stream",
     "text": [
      "3\n",
      "[1 2 3]\n",
      "1\n"
     ]
    }
   ],
   "source": [
    "arr_with_single_dim = np.array([[[1], [2], [3]]])\n",
    "print(arr_with_single_dim.ndim)\n",
    "squeezed_arr = np.squeeze(arr_with_single_dim)\n",
    "print(squeezed_arr) \n",
    "print(squeezed_arr.ndim)"
   ]
  },
  {
   "cell_type": "markdown",
   "id": "786ad7e8-caca-42c3-8ff9-5135d357c5ee",
   "metadata": {},
   "source": [
    "### 7️⃣ Concatenate: `np.concatenate((arr1, arr2), axis)`"
   ]
  },
  {
   "cell_type": "code",
   "execution_count": 29,
   "id": "bbb98e69-fe9d-4a44-aeb0-42a68b6918c0",
   "metadata": {},
   "outputs": [
    {
     "name": "stdout",
     "output_type": "stream",
     "text": [
      "[[1 2]\n",
      " [3 4]\n",
      " [5 6]\n",
      " [7 8]]\n"
     ]
    }
   ],
   "source": [
    "arr1 = np.array([[1, 2], [3, 4]])\n",
    "arr2 = np.array([[5, 6], [7, 8]])\n",
    "concatenated_arr = np.concatenate((arr1, arr2), axis=0)\n",
    "print(concatenated_arr)"
   ]
  },
  {
   "cell_type": "markdown",
   "id": "db24df50-b877-4f16-9ca6-5cadcd662e8a",
   "metadata": {},
   "source": [
    "### 8️⃣ Stack: `np.stack(arrays, axis)`\n",
    "#### Stacking in NumPy means combining multiple arrays along a specified axis"
   ]
  },
  {
   "cell_type": "code",
   "execution_count": 30,
   "id": "bee533e2-8503-4bb4-a97a-84e5a425495e",
   "metadata": {},
   "outputs": [
    {
     "name": "stdout",
     "output_type": "stream",
     "text": [
      "[[[1 2]\n",
      "  [3 4]]\n",
      "\n",
      " [[5 6]\n",
      "  [7 8]]]\n"
     ]
    }
   ],
   "source": [
    "stacked_arr = np.stack((arr1, arr2), axis=0)\n",
    "print(stacked_arr)"
   ]
  },
  {
   "cell_type": "markdown",
   "id": "a8bc37f9-f845-47b2-bb8a-60496eab8d30",
   "metadata": {},
   "source": [
    "### 9️⃣ Horizontal Stack: `np.hstack(arrays)`"
   ]
  },
  {
   "cell_type": "code",
   "execution_count": 31,
   "id": "b712ee06-bf2a-496a-887c-861a2116e1d7",
   "metadata": {},
   "outputs": [
    {
     "name": "stdout",
     "output_type": "stream",
     "text": [
      "[[1 2 5 6]\n",
      " [3 4 7 8]]\n"
     ]
    }
   ],
   "source": [
    "hstacked_arr = np.hstack((arr1, arr2))\n",
    "print(hstacked_arr)"
   ]
  },
  {
   "cell_type": "markdown",
   "id": "0da0d081-1e17-4d33-b2d3-b65ca5c7a813",
   "metadata": {},
   "source": [
    "### 🔟 Vertical Stack: `np.vstack(arrays)`"
   ]
  },
  {
   "cell_type": "code",
   "execution_count": 32,
   "id": "6805d744-2049-4e5e-89bc-0626dd16829b",
   "metadata": {},
   "outputs": [
    {
     "name": "stdout",
     "output_type": "stream",
     "text": [
      "[[1 2]\n",
      " [3 4]\n",
      " [5 6]\n",
      " [7 8]]\n"
     ]
    }
   ],
   "source": [
    "vstacked_arr = np.vstack((arr1, arr2))\n",
    "print(vstacked_arr)"
   ]
  },
  {
   "cell_type": "markdown",
   "id": "b1e24078-efc1-45bf-b191-c06006f74792",
   "metadata": {},
   "source": [
    "### 1️⃣1️⃣ Split: `np.split(arr, indices_or_sections)\n",
    "#### Splitting means dividing an array into multiple sub-arrays."
   ]
  },
  {
   "cell_type": "code",
   "execution_count": 38,
   "id": "8036752a-85e8-4535-88e6-6ac829841587",
   "metadata": {},
   "outputs": [
    {
     "name": "stdout",
     "output_type": "stream",
     "text": [
      "[array([1, 2]), array([3, 4]), array([5, 6])]\n"
     ]
    }
   ],
   "source": [
    "arr = np.array([1, 2, 3, 4, 5, 6])\n",
    "result = np.split(arr, 3) \n",
    "print(result)"
   ]
  },
  {
   "cell_type": "code",
   "execution_count": 48,
   "id": "1c46b1bc-7d4c-43c2-8eab-e5e795493296",
   "metadata": {},
   "outputs": [
    {
     "name": "stdout",
     "output_type": "stream",
     "text": [
      "[array([[1, 2, 3, 4]]), array([[5, 6, 7, 8]])]\n"
     ]
    }
   ],
   "source": [
    "arr2D = np.array([[1, 2, 3, 4], [5, 6, 7, 8]])\n",
    "result = np.split(arr2D, 2) \n",
    "print(result)"
   ]
  },
  {
   "cell_type": "markdown",
   "id": "e50b71cd-66ae-431b-b181-efe693be5062",
   "metadata": {},
   "source": [
    "### 1️⃣2️⃣ `np.array_split(arr, indices_or_sections)`\n",
    "#### Similar to split(), but allows unequal splits."
   ]
  },
  {
   "cell_type": "code",
   "execution_count": 50,
   "id": "750936c6-8590-4960-8726-aa170d5b4c8b",
   "metadata": {},
   "outputs": [
    {
     "name": "stdout",
     "output_type": "stream",
     "text": [
      "[array([1, 2]), array([3, 4]), array([5]), array([6])]\n"
     ]
    }
   ],
   "source": [
    "result = np.array_split(arr, 4)  # Split into 4 parts\n",
    "print(result)"
   ]
  },
  {
   "cell_type": "code",
   "execution_count": 51,
   "id": "ada2bf1f-7c20-461e-ab90-7454b5514d3d",
   "metadata": {},
   "outputs": [
    {
     "name": "stdout",
     "output_type": "stream",
     "text": [
      "[array([[1, 2, 3, 4]]), array([[5, 6, 7, 8]]), array([], shape=(0, 4), dtype=int64)]\n"
     ]
    }
   ],
   "source": [
    "result = np.array_split(arr2D, 3) \n",
    "print(result)"
   ]
  },
  {
   "cell_type": "markdown",
   "id": "1be67881-bbe3-43d4-9e7e-bf287307bd10",
   "metadata": {},
   "source": [
    "### 1️⃣3️⃣  Tile: `np.tile(arr, reps)`\n",
    "#### The np.tile() function repeats an array multiple times to create a larger array by tiling the input array along specified axes."
   ]
  },
  {
   "cell_type": "code",
   "execution_count": 54,
   "id": "4cd999b3-fb4c-41fc-a59a-7e2a77cd36df",
   "metadata": {},
   "outputs": [
    {
     "name": "stdout",
     "output_type": "stream",
     "text": [
      "[1 2 3 1 2 3]\n"
     ]
    }
   ],
   "source": [
    "arr = np.array([1, 2, 3])\n",
    "result = np.tile(arr, 2)\n",
    "print(result)"
   ]
  },
  {
   "cell_type": "code",
   "execution_count": 55,
   "id": "52ec78e7-9d5f-46b8-b0e2-720713ae3743",
   "metadata": {},
   "outputs": [
    {
     "name": "stdout",
     "output_type": "stream",
     "text": [
      "[[1 2 1 2 1 2]\n",
      " [3 4 3 4 3 4]\n",
      " [1 2 1 2 1 2]\n",
      " [3 4 3 4 3 4]]\n"
     ]
    }
   ],
   "source": [
    "arr2D = np.array([[1, 2], [3, 4]])\n",
    "result = np.tile(arr2D, (2, 3))  # Repeat 2 times along rows, 3 times along columns\n",
    "print(result)"
   ]
  },
  {
   "cell_type": "markdown",
   "id": "ca2109b1-08f9-4b2f-beab-716d3e2d0c4e",
   "metadata": {},
   "source": [
    "## Sorting, Searching, & Counting\n",
    "- `np.sort(arr)` - Returns a sorted copy of the array.\n",
    "- `np.argsort(arr)` - Returns the indices that would sort the array.\n",
    "- `np.argmin(arr)` - Returns the index of the minimum value.\n",
    "- `np.argmax(arr)` - Returns the index of the maximum value.\n",
    "- `np.searchsorted(arr, value)` - Finds indices where elements should be inserted.\n",
    "- `np.count_nonzero(arr)` - Counts non-zero elements."
   ]
  },
  {
   "cell_type": "code",
   "execution_count": 58,
   "id": "622b92d0-5f9c-4e44-a0b8-669db473ec15",
   "metadata": {},
   "outputs": [],
   "source": [
    "arr = np.array([3, 1, 7, 9, 2, 5])"
   ]
  },
  {
   "cell_type": "markdown",
   "id": "6421c3a9-f7ef-42c9-acd0-39253c95da68",
   "metadata": {},
   "source": [
    "### 1️⃣ Sort: `np.sort(arr)`\n",
    "#### Returns a sorted copy of the array."
   ]
  },
  {
   "cell_type": "code",
   "execution_count": 57,
   "id": "9276bdfb-5926-4cb5-af94-b4daa2539823",
   "metadata": {},
   "outputs": [
    {
     "name": "stdout",
     "output_type": "stream",
     "text": [
      "[1 2 3 5 7 9]\n"
     ]
    }
   ],
   "source": [
    "sorted_arr = np.sort(arr)\n",
    "print(sorted_arr)  "
   ]
  },
  {
   "cell_type": "markdown",
   "id": "0a7ced54-8819-4b3e-b894-478b159b49c8",
   "metadata": {},
   "source": [
    "### 2️⃣ Argsort: `np.argsort(arr)`\n",
    "#### Returns the indices that would sort the array."
   ]
  },
  {
   "cell_type": "code",
   "execution_count": 61,
   "id": "7b23a800-4d74-47af-9fa2-d5937a565bc8",
   "metadata": {},
   "outputs": [
    {
     "name": "stdout",
     "output_type": "stream",
     "text": [
      "[1 4 0 5 2 3]\n"
     ]
    }
   ],
   "source": [
    "sorted_indices = np.argsort(arr)\n",
    "print(sorted_indices)  "
   ]
  },
  {
   "cell_type": "markdown",
   "id": "f6564f8c-1f28-44a4-a0be-64f901e3cddc",
   "metadata": {},
   "source": [
    "### 3️⃣ Argmin: `np.argmin(arr)`\n",
    "#### Returns the index of the minimum value."
   ]
  },
  {
   "cell_type": "code",
   "execution_count": 63,
   "id": "ca76625d-3252-41eb-8998-631bef2f2752",
   "metadata": {},
   "outputs": [
    {
     "name": "stdout",
     "output_type": "stream",
     "text": [
      "1\n"
     ]
    }
   ],
   "source": [
    "min_index = np.argmin(arr)\n",
    "print(min_index)"
   ]
  },
  {
   "cell_type": "markdown",
   "id": "8dcef620-1df2-4730-b762-022afcdcf3ed",
   "metadata": {},
   "source": [
    "### 4️⃣ Argmax: `np.argmax(arr)`\n",
    "####  Returns the index of the maximum value."
   ]
  },
  {
   "cell_type": "code",
   "execution_count": 64,
   "id": "3a582007-e52f-479e-b040-9968a26c1f7b",
   "metadata": {},
   "outputs": [
    {
     "name": "stdout",
     "output_type": "stream",
     "text": [
      "3\n"
     ]
    }
   ],
   "source": [
    "max_index = np.argmax(arr)\n",
    "print(max_index)"
   ]
  },
  {
   "cell_type": "markdown",
   "id": "69bd6fce-d300-41eb-afae-f6ae165731c8",
   "metadata": {},
   "source": [
    "### 5️⃣ SearchSorted: `np.searchsorted(sorted_array, value, side='left')`\n",
    "#### Finds indices where elements should be inserted.\n",
    "#### find the index position where a given value "
   ]
  },
  {
   "cell_type": "code",
   "execution_count": 65,
   "id": "429729b2-640a-43e2-8fc3-14620c7d2316",
   "metadata": {},
   "outputs": [
    {
     "name": "stdout",
     "output_type": "stream",
     "text": [
      "2\n"
     ]
    }
   ],
   "source": [
    "arr = np.array([10, 20, 30, 40, 50])  # Sorted array\n",
    "index = np.searchsorted(arr, 25)\n",
    "print(index)"
   ]
  },
  {
   "cell_type": "markdown",
   "id": "33f011c2-ed00-4de0-aab3-9ac7a2c1b7d2",
   "metadata": {},
   "source": [
    "### 6️⃣ Count Non-Zero: `np.count_nonzero(arr)`\n",
    "#### Counts non-zero elements."
   ]
  },
  {
   "cell_type": "code",
   "execution_count": 66,
   "id": "760ab784-c384-4605-bcd0-f691d438319c",
   "metadata": {},
   "outputs": [
    {
     "name": "stdout",
     "output_type": "stream",
     "text": [
      "5\n"
     ]
    }
   ],
   "source": [
    "nonzero_count = np.count_nonzero(arr)\n",
    "print(nonzero_count)  "
   ]
  },
  {
   "cell_type": "markdown",
   "id": "d791e269-3098-4256-b14a-e5b69c5c764e",
   "metadata": {},
   "source": [
    "## Array Indexing & Slicing\n",
    "- `arr[start:stop:step]` - Slices an array.\n",
    "- `np.where(condition)` - Returns the indices where the condition is True.\n",
    "- `np.take(arr, indices)` - Takes elements from an array along an axis.\n",
    "- `np.choose(choices, index)` - Selects elements based on indices.\n",
    "- `np.nonzero(arr)` - Returns the indices of non-zero elements.\n",
    "- `np.ix_(*arrays)` - Constructs an open mesh grid for array indexing.\n"
   ]
  },
  {
   "cell_type": "code",
   "execution_count": 111,
   "id": "b3e169c8-342c-47de-a24e-2cbcc14c7de7",
   "metadata": {},
   "outputs": [],
   "source": [
    "# Sample array\n",
    "arr = np.array([10, 20, 30, 40, 50, 60, 70, 80])"
   ]
  },
  {
   "cell_type": "markdown",
   "id": "49c3b635-a0d2-4eee-94df-adc9480f6cd1",
   "metadata": {},
   "source": [
    "### 1️⃣ Slicing: `arr[start:stop:step]`\n",
    "#### Slices an array."
   ]
  },
  {
   "cell_type": "code",
   "execution_count": 81,
   "id": "a8a0a6af-7634-43cb-9a32-7347ebdae728",
   "metadata": {},
   "outputs": [
    {
     "name": "stdout",
     "output_type": "stream",
     "text": [
      "[20 40 60]\n"
     ]
    }
   ],
   "source": [
    "sliced_arr = arr[1:6:2]  \n",
    "print(sliced_arr)  "
   ]
  },
  {
   "cell_type": "markdown",
   "id": "a0d89d53-3568-4c0d-b8c6-f467c7d52516",
   "metadata": {},
   "source": [
    "### 2️⃣ Where: `np.where(condition, [x, y])`\n",
    "#### return the indices or elements of an array that satisfy a certain condition\n",
    "- condition: A condition that returns a boolean array (True/False).\n",
    "- x (optional): The value to be returned where the condition is True.\n",
    "- y (optional): The value to be returned where the condition is False."
   ]
  },
  {
   "cell_type": "code",
   "execution_count": 85,
   "id": "7532bb6b-f21e-448c-b56f-3a2574c69d17",
   "metadata": {},
   "outputs": [
    {
     "name": "stdout",
     "output_type": "stream",
     "text": [
      "(array([4, 5, 6, 7]),)\n"
     ]
    }
   ],
   "source": [
    "# Finding Indices Where Condition is True\n",
    "indices = np.where(arr > 40)\n",
    "print(indices) "
   ]
  },
  {
   "cell_type": "code",
   "execution_count": 86,
   "id": "76c5f235-6b82-449f-894f-9d13d76cf45c",
   "metadata": {},
   "outputs": [
    {
     "name": "stdout",
     "output_type": "stream",
     "text": [
      "[0 0 0 1 1 1 1 1]\n"
     ]
    }
   ],
   "source": [
    "# Replace Elements Based on Condition\n",
    "new_arr = np.where(arr > 30, 1, 0)\n",
    "print(new_arr)"
   ]
  },
  {
   "cell_type": "markdown",
   "id": "9420d7c9-7f0f-4bd1-b6b8-f7c2711822ac",
   "metadata": {},
   "source": [
    "### 3️⃣ Take: `np.take(arr, indices, axis=None)`\n",
    "#### extract specific elements from an array based on their indices"
   ]
  },
  {
   "cell_type": "code",
   "execution_count": 90,
   "id": "9209e11f-d983-4249-aac3-060540512ee7",
   "metadata": {},
   "outputs": [
    {
     "name": "stdout",
     "output_type": "stream",
     "text": [
      "[10 30 50]\n"
     ]
    }
   ],
   "source": [
    "indices = [0, 2, 4]  \n",
    "result = np.take(arr, indices)\n",
    "print(result)"
   ]
  },
  {
   "cell_type": "code",
   "execution_count": 98,
   "id": "f3edb358-a9e7-4a75-b9e4-ae978fd6a6dd",
   "metadata": {},
   "outputs": [
    {
     "name": "stdout",
     "output_type": "stream",
     "text": [
      "[[1 2]\n",
      " [5 6]]\n",
      "-----------\n",
      "[[1 2]\n",
      " [3 4]\n",
      " [5 6]]\n"
     ]
    }
   ],
   "source": [
    "arr1 = np.array([[1, 2], [3, 4], [5, 6]])\n",
    "indices = [0, 2]\n",
    "\n",
    "# Take elements along axis 0 (rows)\n",
    "result_axis_0 = np.take(arr1, indices, axis=0)\n",
    "print(result_axis_0)  # Takes the 0th and 2nd rows\n",
    "print(\"-----------\")\n",
    "\n",
    "indices = [0, 1]\n",
    "# Take elements along axis 1 (columns)\n",
    "result_axis_1 = np.take(arr1, indices, axis=1)\n",
    "print(result_axis_1)  # Takes the 0th and 1nd columns\n"
   ]
  },
  {
   "cell_type": "markdown",
   "id": "49ec172b-fd5b-428a-bf23-ef04bc182d3b",
   "metadata": {},
   "source": [
    "### 4️⃣ Choose: `np.choose(index, choices)`\n",
    "####  construct an array from a set of arrays by picking elements from them based on an index array. "
   ]
  },
  {
   "cell_type": "code",
   "execution_count": 100,
   "id": "cad3ba5f-1c88-47c4-a0c3-c725a7de895b",
   "metadata": {},
   "outputs": [
    {
     "name": "stdout",
     "output_type": "stream",
     "text": [
      "[1 5 9]\n"
     ]
    }
   ],
   "source": [
    "choices = np.array([[1, 2, 3], [4, 5, 6], [7, 8, 9]])\n",
    "index = np.array([0, 1, 2])\n",
    "selected = np.choose(index, choices)\n",
    "print(selected) "
   ]
  },
  {
   "cell_type": "code",
   "execution_count": 104,
   "id": "93f3131f-b205-42cb-a4c1-d4fd2e917fa6",
   "metadata": {},
   "outputs": [
    {
     "name": "stdout",
     "output_type": "stream",
     "text": [
      "[10 60 30 80]\n"
     ]
    }
   ],
   "source": [
    "# If a[i] is 0, it selects from choices[0], if a[i] is 1, it selects from choices[1], and so on.\n",
    "a = np.array([0, 1, 0, 1])\n",
    "choices = [np.array([10, 20, 30, 40]), np.array([50, 60, 70, 80])]\n",
    "result = np.choose(a, choices)\n",
    "print(result)"
   ]
  },
  {
   "cell_type": "markdown",
   "id": "ffbbaa09-74e4-4cf5-b501-37bebef38953",
   "metadata": {},
   "source": [
    "### 5️⃣ Nonzero: `np.nonzero(arr)`\n",
    "####  return the indices of elements that are non-zero in an array"
   ]
  },
  {
   "cell_type": "code",
   "execution_count": 112,
   "id": "bc3504a9-0923-4b5a-b190-79b859b66a8c",
   "metadata": {},
   "outputs": [
    {
     "name": "stdout",
     "output_type": "stream",
     "text": [
      "(array([0, 1, 2, 3, 4, 5, 6, 7]),)\n"
     ]
    }
   ],
   "source": [
    "result = np.nonzero(arr)\n",
    "print(result)"
   ]
  },
  {
   "cell_type": "code",
   "execution_count": 114,
   "id": "a0ed9ee9-41c7-417a-baa8-cde29bbec2a1",
   "metadata": {},
   "outputs": [
    {
     "name": "stdout",
     "output_type": "stream",
     "text": [
      "(array([1, 3, 4]),)\n"
     ]
    }
   ],
   "source": [
    "arr1 = np.array([0, 3, 0, 5, 6])\n",
    "result = np.nonzero(arr1)\n",
    "print(result)"
   ]
  },
  {
   "cell_type": "code",
   "execution_count": 116,
   "id": "dbd0b9ec-6277-444d-9e97-687b139e33f8",
   "metadata": {},
   "outputs": [
    {
     "name": "stdout",
     "output_type": "stream",
     "text": [
      "(array([0, 1, 1]), array([1, 0, 2]))\n"
     ]
    }
   ],
   "source": [
    "arr_2d = np.array([[0, 2, 0], \n",
    "                   [3, 0, 4]])\n",
    "\n",
    "result_2d = np.nonzero(arr_2d)\n",
    "print(result_2d)"
   ]
  },
  {
   "cell_type": "markdown",
   "id": "2c1dd01c-db54-4b59-ad0b-47d30c87e67a",
   "metadata": {},
   "source": [
    "### 6️⃣ ix_: `np.ix_(*arrays)`\n",
    "#### that allows you to create an open mesh from multiple sequences,\n",
    "- <span style=\"font-size: 16px;\">which is useful when you want to access elements of a multidimensional array with advanced indexing.<span/>\n",
    "- <span style=\"font-size: 16px;\">It is commonly used when you want to **extract a submatrix** or perform operations on **specific rows and columns** of a multidimensional array.<span/>"
   ]
  },
  {
   "cell_type": "code",
   "execution_count": 121,
   "id": "233df61f-a04e-407c-9c74-a5622af7dd46",
   "metadata": {},
   "outputs": [
    {
     "name": "stdout",
     "output_type": "stream",
     "text": [
      "[[ 4  6]\n",
      " [12 14]]\n"
     ]
    }
   ],
   "source": [
    "# Create a 4x4 array\n",
    "matrix = np.array([[ 0,  1,  2,  3],\n",
    "                   [ 4,  5,  6,  7],\n",
    "                   [ 8,  9, 10, 11],\n",
    "                   [12, 13, 14, 15]])\n",
    "\n",
    "# Select row indices [1, 3] and column indices [0, 2]\n",
    "row_indices = np.array([1, 3])\n",
    "col_indices = np.array([0, 2])\n",
    "\n",
    "# Use np.ix_() to create index arrays for the rows and columns\n",
    "result = matrix[np.ix_(row_indices, col_indices)]\n",
    "\n",
    "print(result)"
   ]
  },
  {
   "cell_type": "markdown",
   "id": "a3e11f3b-4ed4-4ab0-a9e3-ebdc975f137f",
   "metadata": {},
   "source": [
    "## **Broadcasting** \n",
    "- <span style=\"font-size: 20px;\">It is a powerful mechanism that allows NumPy to perform **element-wise operations** on arrays of **different shapes**</span>\n",
    "- <span style=\"font-size: 20px;\">arrays of unequal shapes by \"**stretching**\" the <u>smaller</u> array across the larger one without actually copying data.</span>\n",
    "### **Rules of Broadcasting**\n",
    "1. <span style=\"font-size: 18px;\">**Same dimensions**: If two arrays have the same shape, element-wise operations are straightforward.\n",
    ".</span>\n",
    "2. <span style=\"font-size: 18px;\">**Single-element dimensions**: If an array has a dimension of size 1, it can be stretched to match the corresponding dimension of the larger array.</span>\n",
    "3. <span style=\"font-size: 18px;\">**Arrays with different shapes:**: NumPy compares the shapes of the two arrays, starting from the rightmost dimension, and works its way left.</span>\n",
    "\n",
    "    - <span style=\"font-size: 16px;\">If the dimensions are equal, or one of the dimensions is 1, broadcasting is possible.</span>\n",
    "    - <span style=\"font-size: 16px;\">If the arrays do not satisfy the above conditions, a `ValueError` will be raised.</span>\n",
    "\n"
   ]
  },
  {
   "cell_type": "code",
   "execution_count": 118,
   "id": "6048b619-be08-49af-aed1-69ae3b95d867",
   "metadata": {},
   "outputs": [
    {
     "name": "stdout",
     "output_type": "stream",
     "text": [
      "[11 12 13]\n"
     ]
    }
   ],
   "source": [
    "arr = np.array([1, 2, 3])\n",
    "\n",
    "# Adding a scalar (which is treated as shape ())\n",
    "result = arr + 10\n",
    "\n",
    "print(result)"
   ]
  },
  {
   "cell_type": "code",
   "execution_count": 119,
   "id": "379bd2a1-6d56-4892-b8b4-c9ef04bfacc4",
   "metadata": {},
   "outputs": [
    {
     "name": "stdout",
     "output_type": "stream",
     "text": [
      "[[11 22 33]\n",
      " [14 25 36]]\n"
     ]
    }
   ],
   "source": [
    "# Array of shape (2, 3)\n",
    "arr1 = np.array([[1, 2, 3], \n",
    "                 [4, 5, 6]])\n",
    "\n",
    "# Array of shape (1, 3)\n",
    "arr2 = np.array([[10, 20, 30]])\n",
    "\n",
    "# Broadcasting arr2 to the shape of arr1\n",
    "result = arr1 + arr2\n",
    "\n",
    "print(result)\n"
   ]
  },
  {
   "cell_type": "code",
   "execution_count": 120,
   "id": "28e40d1c-a0d7-455d-aaa8-a0590b4f4cbc",
   "metadata": {},
   "outputs": [
    {
     "ename": "ValueError",
     "evalue": "operands could not be broadcast together with shapes (3,) (2,) ",
     "output_type": "error",
     "traceback": [
      "\u001b[31m---------------------------------------------------------------------------\u001b[39m",
      "\u001b[31mValueError\u001b[39m                                Traceback (most recent call last)",
      "\u001b[36mCell\u001b[39m\u001b[36m \u001b[39m\u001b[32mIn[120]\u001b[39m\u001b[32m, line 5\u001b[39m\n\u001b[32m      2\u001b[39m arr2 = np.array([\u001b[32m1\u001b[39m, \u001b[32m2\u001b[39m])\n\u001b[32m      4\u001b[39m \u001b[38;5;66;03m# This will throw an error because the shapes (3,) and (2,) are incompatible\u001b[39;00m\n\u001b[32m----> \u001b[39m\u001b[32m5\u001b[39m result = \u001b[43marr1\u001b[49m\u001b[43m \u001b[49m\u001b[43m+\u001b[49m\u001b[43m \u001b[49m\u001b[43marr2\u001b[49m\n",
      "\u001b[31mValueError\u001b[39m: operands could not be broadcast together with shapes (3,) (2,) "
     ]
    }
   ],
   "source": [
    "arr1 = np.array([1, 2, 3])\n",
    "arr2 = np.array([1, 2])\n",
    "\n",
    "# This will throw an error because the shapes (3,) and (2,) are incompatible\n",
    "result = arr1 + arr2\n"
   ]
  },
  {
   "cell_type": "code",
   "execution_count": null,
   "id": "00259f45-8c4f-4e13-8259-b3c7c8c7a1b4",
   "metadata": {},
   "outputs": [],
   "source": []
  }
 ],
 "metadata": {
  "kernelspec": {
   "display_name": "Python 3 (ipykernel)",
   "language": "python",
   "name": "python3"
  },
  "language_info": {
   "codemirror_mode": {
    "name": "ipython",
    "version": 3
   },
   "file_extension": ".py",
   "mimetype": "text/x-python",
   "name": "python",
   "nbconvert_exporter": "python",
   "pygments_lexer": "ipython3",
   "version": "3.13.2"
  }
 },
 "nbformat": 4,
 "nbformat_minor": 5
}
