{
 "cells": [
  {
   "cell_type": "code",
   "execution_count": 3,
   "id": "2888b9b9-855e-448a-948d-dcebb020b57e",
   "metadata": {},
   "outputs": [],
   "source": [
    "import numpy as np"
   ]
  },
  {
   "cell_type": "markdown",
   "id": "13fac13e-8284-4d11-b1e2-8d9133ba8062",
   "metadata": {},
   "source": [
    "## Simple Matrix using Numpy "
   ]
  },
  {
   "cell_type": "code",
   "execution_count": 4,
   "id": "f18dd680-8e35-41f4-844d-45d22d75219c",
   "metadata": {},
   "outputs": [
    {
     "name": "stdout",
     "output_type": "stream",
     "text": [
      "[[1 2 3]\n",
      " [4 5 6]]\n"
     ]
    }
   ],
   "source": [
    "matrix = np.array([[1,2,3],[4,5,6]])\n",
    "print(matrix)"
   ]
  },
  {
   "cell_type": "markdown",
   "id": "10d75852-9c94-47d9-baa0-c88c2f68622e",
   "metadata": {},
   "source": [
    "### Home Work\n",
    "- Create a 3×3 matrix in Python using NumPy."
   ]
  },
  {
   "cell_type": "code",
   "execution_count": 5,
   "id": "9b4739fa-2af2-44f8-9457-f1c01f2a36e3",
   "metadata": {},
   "outputs": [
    {
     "name": "stdout",
     "output_type": "stream",
     "text": [
      "[[1 2 3]\n",
      " [4 5 6]\n",
      " [7 8 9]]\n"
     ]
    }
   ],
   "source": [
    "mat = np.array([[1,2,3],[4,5,6],[7,8,9]])\n",
    "print(mat)"
   ]
  },
  {
   "cell_type": "markdown",
   "id": "bbf9fbee-e65a-463d-a0d8-9effb39ac770",
   "metadata": {},
   "source": [
    "## Home work\n",
    "- Create a scalar and a vector in Python."
   ]
  },
  {
   "cell_type": "code",
   "execution_count": 7,
   "id": "7b4fbcb5-0eed-4f20-9bee-39931e39eaf6",
   "metadata": {},
   "outputs": [
    {
     "name": "stdout",
     "output_type": "stream",
     "text": [
      "Scalar :  11\n",
      "Vector :  [1 2 3]\n"
     ]
    }
   ],
   "source": [
    "scalar = 11\n",
    "print(\"Scalar : \",scalar)\n",
    "\n",
    "vector = np.array([1,2,3])\n",
    "print(\"Vector : \",vector)"
   ]
  },
  {
   "cell_type": "markdown",
   "id": "b4036184-6724-43f5-9550-177ff233a625",
   "metadata": {},
   "source": [
    "## Vector Operations"
   ]
  },
  {
   "cell_type": "markdown",
   "id": "50b5e458-2e16-403a-9a41-173fde64e53d",
   "metadata": {},
   "source": [
    "### Vector Addition & Subtraction "
   ]
  },
  {
   "cell_type": "code",
   "execution_count": 10,
   "id": "a93f4d86-d5bd-4dd2-85b9-75b7fa86a8f2",
   "metadata": {},
   "outputs": [
    {
     "name": "stdout",
     "output_type": "stream",
     "text": [
      "Vector Addition:  [4 4 4]\n",
      "Vector Subtraction:  [-2  0  2]\n"
     ]
    }
   ],
   "source": [
    "A = np.array([1,2,3])\n",
    "B = np.array([3,2,1])\n",
    "print(\"Vector Addition: \",(A+B))\n",
    "print(\"Vector Subtraction: \",(A-B))\n"
   ]
  },
  {
   "cell_type": "markdown",
   "id": "97340545-d5e2-4191-adaf-e9fa58a4362c",
   "metadata": {},
   "source": [
    "### Scalar Multiplication"
   ]
  },
  {
   "cell_type": "code",
   "execution_count": 12,
   "id": "58553170-c856-4b6b-825e-9699d9aff708",
   "metadata": {},
   "outputs": [
    {
     "name": "stdout",
     "output_type": "stream",
     "text": [
      "Scalar Multiplication: [ 6  9 12]\n"
     ]
    }
   ],
   "source": [
    "C = np.array([2, 3, 4])\n",
    "scalar = 3\n",
    "\n",
    "result = scalar * C\n",
    "\n",
    "print(\"Scalar Multiplication:\", result)\n"
   ]
  },
  {
   "cell_type": "markdown",
   "id": "0a0b2cee-b790-4746-b78a-987e219a214a",
   "metadata": {},
   "source": [
    "###  Dot Product"
   ]
  },
  {
   "cell_type": "code",
   "execution_count": 13,
   "id": "3e8cd91a-466c-4b11-a8be-fb6ae0b0b2eb",
   "metadata": {},
   "outputs": [
    {
     "name": "stdout",
     "output_type": "stream",
     "text": [
      "Dot Product: 32\n"
     ]
    }
   ],
   "source": [
    "A = np.array([1, 2, 3])\n",
    "B = np.array([4, 5, 6])\n",
    "\n",
    "dot_product = np.dot(A, B)\n",
    "\n",
    "print(\"Dot Product:\", dot_product)\n"
   ]
  },
  {
   "cell_type": "markdown",
   "id": "9575cc9e-13db-4f53-bf70-9a038a9264fc",
   "metadata": {},
   "source": [
    "### Cross Product (Vector Product)"
   ]
  },
  {
   "cell_type": "code",
   "execution_count": 15,
   "id": "b550d74a-f8bc-4bbb-8ead-6cecea1cc06f",
   "metadata": {},
   "outputs": [
    {
     "name": "stdout",
     "output_type": "stream",
     "text": [
      "Cross Product: [-3  6 -3]\n"
     ]
    }
   ],
   "source": [
    "A = np.array([1, 2, 3])\n",
    "B = np.array([4, 5, 6])\n",
    "\n",
    "cross_product = np.cross(A, B)\n",
    "print(\"Cross Product:\", cross_product)"
   ]
  },
  {
   "cell_type": "markdown",
   "id": "1f558b0f-3946-4aa0-bfcd-bff8b87da9e5",
   "metadata": {},
   "source": [
    "# Matrix\n",
    "- matrix is represented as a list of lists in NumPy. Each inner list represents a row of the matrix.\n"
   ]
  },
  {
   "cell_type": "code",
   "execution_count": 16,
   "id": "1ee8cd70-fa1e-4927-945b-b285b36c5d0f",
   "metadata": {},
   "outputs": [
    {
     "name": "stdout",
     "output_type": "stream",
     "text": [
      "Matrix A:\n",
      " [[1 2 3]\n",
      " [4 5 6]\n",
      " [7 8 9]]\n"
     ]
    }
   ],
   "source": [
    "A = np.array([[1, 2, 3], [4, 5, 6], [7, 8, 9]])\n",
    "print(\"Matrix A:\\n\", A)"
   ]
  },
  {
   "cell_type": "markdown",
   "id": "281f6ead-a30d-4a8f-9939-88aa85c8191c",
   "metadata": {},
   "source": [
    "## Basic Matrix Operations"
   ]
  },
  {
   "cell_type": "markdown",
   "id": "052f02ac-4587-43e8-906f-0c3581a70113",
   "metadata": {},
   "source": [
    "### Addition & Subtraction"
   ]
  },
  {
   "cell_type": "code",
   "execution_count": 17,
   "id": "ffa4c7bb-dcac-4841-b8bb-de1486c8e5e6",
   "metadata": {},
   "outputs": [
    {
     "name": "stdout",
     "output_type": "stream",
     "text": [
      "Matrix Addition:\n",
      " [[ 6  8]\n",
      " [10 12]]\n",
      "Matrix Subtraction:\n",
      " [[-4 -4]\n",
      " [-4 -4]]\n"
     ]
    }
   ],
   "source": [
    "A = np.array([[1, 2], [3, 4]])\n",
    "B = np.array([[5, 6], [7, 8]])\n",
    "\n",
    "add_result = A + B\n",
    "sub_result = A - B\n",
    "\n",
    "print(\"Matrix Addition:\\n\", add_result)\n",
    "print(\"Matrix Subtraction:\\n\", sub_result)\n"
   ]
  },
  {
   "cell_type": "markdown",
   "id": "c6c5f6fd-d141-43ba-a0f5-4881a60dd793",
   "metadata": {},
   "source": [
    "### Scalar Multiplication"
   ]
  },
  {
   "cell_type": "code",
   "execution_count": 19,
   "id": "f132e7df-a4c9-4c97-94b2-d997a0117034",
   "metadata": {},
   "outputs": [
    {
     "name": "stdout",
     "output_type": "stream",
     "text": [
      "Scalar Multiplication:\n",
      " [[2 4]\n",
      " [6 8]]\n"
     ]
    }
   ],
   "source": [
    "scalar = 2\n",
    "scalar_mult = scalar * A\n",
    "print(\"Scalar Multiplication:\\n\", scalar_mult)\n"
   ]
  },
  {
   "cell_type": "markdown",
   "id": "078b7c9e-4d1c-4a96-b4be-736f06d6ab9c",
   "metadata": {},
   "source": [
    "### Matrix Multiplication (Dot Product)"
   ]
  },
  {
   "cell_type": "code",
   "execution_count": 20,
   "id": "0cc8cdda-5569-48fd-b474-108d98ead529",
   "metadata": {},
   "outputs": [
    {
     "name": "stdout",
     "output_type": "stream",
     "text": [
      "Matrix Multiplication:\n",
      " [[19 22]\n",
      " [43 50]]\n"
     ]
    }
   ],
   "source": [
    "matrix_mult = np.dot(A, B)\n",
    "print(\"Matrix Multiplication:\\n\", matrix_mult)\n"
   ]
  },
  {
   "cell_type": "markdown",
   "id": "e6d46d44-9222-4b19-850a-217bb50e8abc",
   "metadata": {},
   "source": [
    "### Determinant of a Matrix"
   ]
  },
  {
   "cell_type": "code",
   "execution_count": 22,
   "id": "e8f99fb6-2af5-4480-b940-e4deb5cfeed5",
   "metadata": {},
   "outputs": [
    {
     "name": "stdout",
     "output_type": "stream",
     "text": [
      "Determinant of A: -6.0\n"
     ]
    }
   ],
   "source": [
    "A = np.array([[4, 3], [6, 3]])\n",
    "det_A = np.linalg.det(A)\n",
    "\n",
    "print(\"Determinant of A:\", det_A)"
   ]
  },
  {
   "cell_type": "markdown",
   "id": "708192e6-5152-4e31-9c05-353f214a7bf0",
   "metadata": {},
   "source": [
    "### Inverse of a Matrix\n"
   ]
  },
  {
   "cell_type": "code",
   "execution_count": 23,
   "id": "a4d492bf-5ffb-47a3-ad79-bfab928ce899",
   "metadata": {},
   "outputs": [
    {
     "name": "stdout",
     "output_type": "stream",
     "text": [
      "Inverse of A:\n",
      " [[-0.5         0.5       ]\n",
      " [ 1.         -0.66666667]]\n"
     ]
    }
   ],
   "source": [
    "A_inv = np.linalg.inv(A)\n",
    "print(\"Inverse of A:\\n\", A_inv)\n"
   ]
  },
  {
   "cell_type": "markdown",
   "id": "b1c231f5-1334-4998-9fb5-0712388c9202",
   "metadata": {},
   "source": [
    "### Singular & Non-Singular Matrices\n",
    "- A matrix is classified as singular or non-singular based on its determinant.\n",
    "- ✅ Non-Singular Matrix → Has a non-zero determinant (invertible)\n",
    "- ❌ Singular Matrix → Has a zero determinant (not invertible)"
   ]
  },
  {
   "cell_type": "code",
   "execution_count": 25,
   "id": "2cfad1d3-cc27-47c4-9a69-8c2aa3de4aa1",
   "metadata": {},
   "outputs": [
    {
     "name": "stdout",
     "output_type": "stream",
     "text": [
      "Matrix A is Non-Singular (Invertible)\n"
     ]
    }
   ],
   "source": [
    "A = np.array([[1, 2], [3, 4]])\n",
    "det_A = np.linalg.det(A)\n",
    "\n",
    "if det_A != 0 :\n",
    "    print(\"Matrix A is Non-Singular (Invertible)\")\n",
    "else:\n",
    "    print(\"Matrix A is Singular (Not Invertible)\")"
   ]
  },
  {
   "cell_type": "code",
   "execution_count": 26,
   "id": "d3fc7ebe-8038-4f09-8511-9b9c09d2e829",
   "metadata": {},
   "outputs": [
    {
     "name": "stdout",
     "output_type": "stream",
     "text": [
      "Matrix A is Singular (Not Invertible)\n"
     ]
    }
   ],
   "source": [
    "B = np.array([[2,1],[4,2]])\n",
    "det_B = np.linalg.det(B)\n",
    "\n",
    "if det_B != 0 :\n",
    "    print(\"Matrix A is Non-Singular (Invertible)\")\n",
    "else:\n",
    "    print(\"Matrix A is Singular (Not Invertible)\")\n"
   ]
  },
  {
   "cell_type": "markdown",
   "id": "a011ec20-436d-4f20-81c2-0001835ffa6d",
   "metadata": {},
   "source": [
    "### Rank of a Matrix\n",
    "- The rank of a matrix is the number of linearly independent rows or columns.\n",
    "- ✅ Linearly Independent → No vector in the set can be written as a combination of the others.\n",
    "- ❌ Linearly Dependent → At least one vector is a combination of others.\n",
    "- Vectors V1 = [1, 2], V2 = [2, 4] --> V2 = 2 × V1\n"
   ]
  },
  {
   "cell_type": "code",
   "execution_count": 28,
   "id": "8ebd8aaa-e19a-4e4c-af40-3463377c347c",
   "metadata": {},
   "outputs": [
    {
     "name": "stdout",
     "output_type": "stream",
     "text": [
      "Rank of Matrix B: 2\n"
     ]
    }
   ],
   "source": [
    "B = np.array([[1, 2, 3], [4, 5, 6], [7, 8, 9]])\n",
    "rank_B = np.linalg.matrix_rank(B)\n",
    "\n",
    "print(\"Rank of Matrix B:\", rank_B)"
   ]
  },
  {
   "cell_type": "code",
   "execution_count": null,
   "id": "8ecc1228-acf2-468c-ad6b-bf0e9e3da22d",
   "metadata": {},
   "outputs": [],
   "source": []
  }
 ],
 "metadata": {
  "kernelspec": {
   "display_name": "Python 3 (ipykernel)",
   "language": "python",
   "name": "python3"
  },
  "language_info": {
   "codemirror_mode": {
    "name": "ipython",
    "version": 3
   },
   "file_extension": ".py",
   "mimetype": "text/x-python",
   "name": "python",
   "nbconvert_exporter": "python",
   "pygments_lexer": "ipython3",
   "version": "3.13.2"
  }
 },
 "nbformat": 4,
 "nbformat_minor": 5
}
