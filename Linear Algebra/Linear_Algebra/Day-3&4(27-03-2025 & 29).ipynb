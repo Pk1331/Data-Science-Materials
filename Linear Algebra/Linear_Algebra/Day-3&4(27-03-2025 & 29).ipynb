{
 "cells": [
  {
   "cell_type": "code",
   "execution_count": 5,
   "id": "275a8f36-257b-4669-9bac-c87a1afe1c74",
   "metadata": {},
   "outputs": [],
   "source": [
    "import numpy as np"
   ]
  },
  {
   "cell_type": "markdown",
   "id": "bf78e1be-2571-40f8-bbbe-b4e53293b4a1",
   "metadata": {},
   "source": [
    "# NumPy Functions\n",
    "\n",
    "## 1️⃣ Array Creation Functions\n",
    "- `np.array(object)` - Creates an array.\n",
    "- `np.zeros(shape)` - Creates an array filled with zeros.\n",
    "- `np.ones(shape)` - Creates an array filled with ones.\n",
    "- `np.empty(shape)` - Creates an empty array (values are not initialized).\n",
    "- `np.eye(N)` - Creates an identity matrix.\n",
    "- `np.arange(start, stop, step)` - Creates an array with values within a specified range.\n",
    "- `np.linspace(start, stop, num)` - Creates an array with evenly spaced values.\n",
    "- `np.full(shape, value)` - Creates an array filled with a specified value.\n",
    "- `np.random.rand(d0, d1, ..., dn)` - Creates an array with random values (between 0 and 1).\n",
    "- `np.random.randint(low, high, size)` - Creates an array with random integers."
   ]
  },
  {
   "cell_type": "markdown",
   "id": "ab7d1162-adeb-4bfe-b6c3-dc9615407246",
   "metadata": {},
   "source": [
    "# Examples\n",
    "## **np.array(list or tuple )** \n",
    "- Creates a NumPy array from a Python list or another sequence."
   ]
  },
  {
   "cell_type": "code",
   "execution_count": 6,
   "id": "7a8019fc-e78e-4014-9d42-dc7976aa6563",
   "metadata": {},
   "outputs": [
    {
     "name": "stdout",
     "output_type": "stream",
     "text": [
      "[1 2 3 4 5]\n"
     ]
    }
   ],
   "source": [
    "# Example\n",
    "arr = np.array([1, 2, 3, 4, 5])\n",
    "print(arr)"
   ]
  },
  {
   "cell_type": "markdown",
   "id": "e8a6fce4-0ba4-4df9-b93d-a3cfa04fb9df",
   "metadata": {},
   "source": [
    "## **np.zeros((row,col))**  \n",
    "- Creates an array of a given shape filled with **zeros**."
   ]
  },
  {
   "cell_type": "code",
   "execution_count": 11,
   "id": "e603c720-5e8a-47ca-a60a-fc43321d2cbf",
   "metadata": {},
   "outputs": [
    {
     "name": "stdout",
     "output_type": "stream",
     "text": [
      "[[0. 0. 0.]\n",
      " [0. 0. 0.]]\n"
     ]
    }
   ],
   "source": [
    "arr = np.zeros((2,3))\n",
    "print(arr)"
   ]
  },
  {
   "cell_type": "markdown",
   "id": "477af6d1-bbc1-4015-ba4c-22fbfe19e3d0",
   "metadata": {},
   "source": [
    "## **np.ones((row,col))**  \n",
    "- Creates an array of a given shape filled with **ones**."
   ]
  },
  {
   "cell_type": "code",
   "execution_count": 14,
   "id": "f6b3c88d-88dc-4341-bb3e-1aef35a36995",
   "metadata": {},
   "outputs": [
    {
     "name": "stdout",
     "output_type": "stream",
     "text": [
      "[[1. 1.]\n",
      " [1. 1.]]\n"
     ]
    }
   ],
   "source": [
    "arr = np.ones((2,2))\n",
    "print(arr)"
   ]
  },
  {
   "cell_type": "markdown",
   "id": "b0dcf1f6-7183-4962-bc4b-403d4673ae6f",
   "metadata": {},
   "source": [
    "## **np.empty((row,col))**  \n",
    "- Creates an **empty array** with uninitialized values.\n",
    "- (Note: The values are not necessarily zero, they are just placeholders and uninitialized.)"
   ]
  },
  {
   "cell_type": "code",
   "execution_count": 17,
   "id": "2c9f5481-aa19-4be0-bb50-22f38660fa3d",
   "metadata": {},
   "outputs": [
    {
     "name": "stdout",
     "output_type": "stream",
     "text": [
      "[[0. 0. 0.]\n",
      " [0. 0. 0.]]\n"
     ]
    }
   ],
   "source": [
    "arr = np.empty((2,3))\n",
    "print(arr)"
   ]
  },
  {
   "cell_type": "markdown",
   "id": "44051ad0-a942-428c-b7c2-bac4f734ae2e",
   "metadata": {},
   "source": [
    "## **np.eye(N, M=None, k=0, dtype=float, order='C')**  \n",
    "- Creates an **identity matrix** with 1s on the diagonal and 0s elsewhere.\n",
    "- N: Number of rows in the output.\n",
    "- M: Number of columns (if None, defaults to N, creating a square matrix).\n",
    "- k: Diagonal offset (0 for the main diagonal, positive for diagonals above, negative for below).\n"
   ]
  },
  {
   "cell_type": "code",
   "execution_count": 29,
   "id": "43ff03bc-b07e-4dd9-a4af-bd22d0bad268",
   "metadata": {},
   "outputs": [
    {
     "name": "stdout",
     "output_type": "stream",
     "text": [
      "[[1. 0. 0.]\n",
      " [0. 1. 0.]\n",
      " [0. 0. 1.]]\n"
     ]
    }
   ],
   "source": [
    "mat = np.eye(3,dtype=float)\n",
    "print(mat)"
   ]
  },
  {
   "cell_type": "markdown",
   "id": "c51f2ccd-bd7d-4405-9852-3e45641289fd",
   "metadata": {},
   "source": [
    "## **np.arange(start,stop,step)**  \n",
    "- Creates an array with values in a specified range (**range_array**).\n"
   ]
  },
  {
   "cell_type": "code",
   "execution_count": 31,
   "id": "9c77a171-e6f1-476c-9dc9-e7453c7cf70c",
   "metadata": {},
   "outputs": [
    {
     "name": "stdout",
     "output_type": "stream",
     "text": [
      "[0 2 4 6 8]\n"
     ]
    }
   ],
   "source": [
    "range_array= np.arange(0,10,2)\n",
    "print(range_array)"
   ]
  },
  {
   "cell_type": "markdown",
   "id": "dea8a4db-7994-4412-9b74-a0e7d1a18a98",
   "metadata": {},
   "source": [
    "\n",
    "## **np.linspace(start, stop, num=50, endpoint=True, retstep=False, dtype=None, axis=0)**  \n",
    "- Creates an array with evenly spaced values between a start and stop value (**Linear Space**).\n",
    "    - **start**: Starting value of the sequence.\n",
    "    - **stop**: End value of the sequence.\n",
    "    - **num**: Number of values to generate.\n",
    "    - **endpoint**: If True, the stop value is included.\n",
    "    - **retstep**: If True, it also returns the step size.\n",
    "    - **dtype**: Data type for the output array.\n",
    "    - **axis**: Axis along which the values are generated.\n"
   ]
  },
  {
   "cell_type": "code",
   "execution_count": 35,
   "id": "857d6f30-c7e9-4318-8128-923b9d925a7d",
   "metadata": {},
   "outputs": [
    {
     "name": "stdout",
     "output_type": "stream",
     "text": [
      "[1.  1.2 1.4 1.6 1.8 2. ]\n"
     ]
    }
   ],
   "source": [
    "linear_space = np.linspace(1,2,6)\n",
    "print(linear_space)"
   ]
  },
  {
   "cell_type": "markdown",
   "id": "a518af90-939a-4683-8691-20fa91141e31",
   "metadata": {},
   "source": [
    "## **np.full(shape, fill_value, dtype=None, order='C')**  \n",
    "- Creates an array filled with a specified value.\n"
   ]
  },
  {
   "cell_type": "code",
   "execution_count": 37,
   "id": "c6f37b18-b072-4600-add7-3017efe4e0dc",
   "metadata": {},
   "outputs": [
    {
     "name": "stdout",
     "output_type": "stream",
     "text": [
      "[[11 11]\n",
      " [11 11]]\n"
     ]
    }
   ],
   "source": [
    "arr = np.full((2,2),11)\n",
    "print(arr)"
   ]
  },
  {
   "cell_type": "markdown",
   "id": "c640c481-a8dd-4c48-9207-558f07472c47",
   "metadata": {},
   "source": [
    "## **np.random.rand()**  \n",
    "- Creates an array with random values between 0 and 1.`"
   ]
  },
  {
   "cell_type": "code",
   "execution_count": 39,
   "id": "a0299ac6-7986-459c-a043-b23cd07a4740",
   "metadata": {},
   "outputs": [
    {
     "name": "stdout",
     "output_type": "stream",
     "text": [
      "[[0.40863948 0.49270409 0.63150383]\n",
      " [0.65602243 0.46433595 0.09107531]]\n"
     ]
    }
   ],
   "source": [
    "# 2X 3 matrix\n",
    "random_array = np.random.rand(2, 3)\n",
    "print(random_array)\n"
   ]
  },
  {
   "cell_type": "markdown",
   "id": "31d5cbaf-1bf5-4936-ba58-26521f5c3ceb",
   "metadata": {},
   "source": [
    "## **np.random.randint(low, high=None, size=None, dtype=int)**  \n",
    "- Creates an array with random integers from a specified range.\n",
    "    - **low**: Lowest integer to be drawn.\n",
    "    - **high**: If provided, the range is [low, high). If not, the range is [0, low).\n",
    "    - **size**: Output shape.\n",
    "    - **dtype**: Data type of the output array (default is int)."
   ]
  },
  {
   "cell_type": "code",
   "execution_count": 40,
   "id": "3c4365e1-b699-4755-8a51-c13d9d8f760e",
   "metadata": {},
   "outputs": [
    {
     "name": "stdout",
     "output_type": "stream",
     "text": [
      "[[23 38 28]\n",
      " [12 36 16]]\n"
     ]
    }
   ],
   "source": [
    "random_int_array = np.random.randint(10, 50, size=(2, 3))\n",
    "print(random_int_array)\n"
   ]
  },
  {
   "cell_type": "code",
   "execution_count": 41,
   "id": "a5307649-6975-4de4-9cb1-b4a9db049df3",
   "metadata": {},
   "outputs": [
    {
     "name": "stdout",
     "output_type": "stream",
     "text": [
      "[[1 1 2]\n",
      " [1 2 3]]\n"
     ]
    }
   ],
   "source": [
    "random_int_array = np.random.randint(10, size=(2, 3))\n",
    "print(random_int_array)\n"
   ]
  },
  {
   "cell_type": "markdown",
   "id": "d17aca64-ee60-4c1f-b4fa-1cccac8e3da6",
   "metadata": {},
   "source": [
    "# Practice"
   ]
  },
  {
   "cell_type": "markdown",
   "id": "08b9db1e-c161-4e3f-9954-d900d61407a7",
   "metadata": {},
   "source": [
    "1. **Create a 1D array from a list**  \n",
    "   Convert the Python list `[1, 2, 3, 4, 5]` into a NumPy array."
   ]
  },
  {
   "cell_type": "code",
   "execution_count": 42,
   "id": "603f65e7-f3bc-4046-8f08-d94e11318d12",
   "metadata": {},
   "outputs": [
    {
     "name": "stdout",
     "output_type": "stream",
     "text": [
      "[1 2 3 4 5]\n"
     ]
    }
   ],
   "source": [
    "arr = np.array([1,2,3,4,5])\n",
    "print(arr)"
   ]
  },
  {
   "cell_type": "markdown",
   "id": "5e2b97ba-1e0f-4bd0-8c3c-8423d056f38b",
   "metadata": {},
   "source": [
    "2. **Create a 3x3 array of zeros**  \n",
    "   Create a 3x3 array filled with zeros."
   ]
  },
  {
   "cell_type": "code",
   "execution_count": 43,
   "id": "61e68248-d36d-4b4d-90d4-2de1ca6baff3",
   "metadata": {},
   "outputs": [
    {
     "name": "stdout",
     "output_type": "stream",
     "text": [
      "[[0. 0. 0.]\n",
      " [0. 0. 0.]\n",
      " [0. 0. 0.]]\n"
     ]
    }
   ],
   "source": [
    "arr = np.zeros((3,3))\n",
    "print(arr)"
   ]
  },
  {
   "cell_type": "markdown",
   "id": "624c3be9-7989-4f78-ab2c-7e8f88fb492a",
   "metadata": {},
   "source": [
    "3. **Create a 2D array of ones with shape (2, 5)**  \n",
    "   Use `np.ones()` to create a 2x5 array filled with ones."
   ]
  },
  {
   "cell_type": "code",
   "execution_count": 44,
   "id": "e0ef01d3-fa9a-4c27-a1e6-2c9c03b1208f",
   "metadata": {},
   "outputs": [
    {
     "name": "stdout",
     "output_type": "stream",
     "text": [
      "[[1. 1. 1. 1. 1.]\n",
      " [1. 1. 1. 1. 1.]]\n"
     ]
    }
   ],
   "source": [
    "arr = np.ones((2,5))\n",
    "print(arr)"
   ]
  },
  {
   "cell_type": "markdown",
   "id": "ec541068-7969-48af-b0f6-f6119169fd90",
   "metadata": {},
   "source": [
    "4. **Generate an array with values from 10 to 20**  \n",
    "   Use `np.arange()` to generate an array with values from 10 to 20 (inclusive).\n",
    "   "
   ]
  },
  {
   "cell_type": "code",
   "execution_count": 47,
   "id": "22b57cb1-2cec-4c21-9f06-abd802979d22",
   "metadata": {},
   "outputs": [
    {
     "name": "stdout",
     "output_type": "stream",
     "text": [
      "[10 11 12 13 14 15 16 17 18 19 20]\n"
     ]
    }
   ],
   "source": [
    "arr = np.arange(10,21,1)\n",
    "print(arr)"
   ]
  },
  {
   "cell_type": "markdown",
   "id": "65ff9118-b6f9-438a-8bca-1b480995978e",
   "metadata": {},
   "source": [
    "5. **Create an identity matrix of size 4**  \n",
    "   Create a 4x4 identity matrix."
   ]
  },
  {
   "cell_type": "code",
   "execution_count": 50,
   "id": "9dfa63e6-dcd4-445a-b873-080f9e93eca1",
   "metadata": {},
   "outputs": [
    {
     "name": "stdout",
     "output_type": "stream",
     "text": [
      "[[1. 0. 0. 0.]\n",
      " [0. 1. 0. 0.]\n",
      " [0. 0. 1. 0.]\n",
      " [0. 0. 0. 1.]]\n"
     ]
    }
   ],
   "source": [
    "arr = np.eye(4)\n",
    "print(arr)"
   ]
  },
  {
   "cell_type": "markdown",
   "id": "4f9f6181-4ec7-402e-9af6-eddbed5093e9",
   "metadata": {},
   "source": [
    "6. **Create a 4x4 array with random integers**  \n",
    "   Create a 4x4 array with random integers between 0 and 100 using `np.random.randint()`."
   ]
  },
  {
   "cell_type": "code",
   "execution_count": 55,
   "id": "ba14c004-3d43-478d-9ecb-8e9a69b14377",
   "metadata": {},
   "outputs": [
    {
     "name": "stdout",
     "output_type": "stream",
     "text": [
      "[[62 87 17 23]\n",
      " [94 73 95 16]\n",
      " [43 15 86 85]\n",
      " [64 22 28 53]]\n"
     ]
    }
   ],
   "source": [
    "arr = np.random.randint(100,size=(4,4))\n",
    "print(arr)"
   ]
  },
  {
   "cell_type": "markdown",
   "id": "262fcd10-063a-4057-a3b1-b504b5e37d22",
   "metadata": {},
   "source": [
    "3. **Create an array of even numbers between 0 and 20**  \n",
    "   Use `np.arange()` to generate an array with even numbers between 0 and 20."
   ]
  },
  {
   "cell_type": "code",
   "execution_count": 104,
   "id": "09b5f44d-48ed-43c7-85f6-bdf9c87dd5ac",
   "metadata": {},
   "outputs": [
    {
     "name": "stdout",
     "output_type": "stream",
     "text": [
      "[ 0  2  4  6  8 10 12 14 16 18]\n"
     ]
    }
   ],
   "source": [
    "even = np.arange(0,20,2)\n",
    "print(even)"
   ]
  },
  {
   "cell_type": "markdown",
   "id": "ac829211-58d6-4ed7-9fd7-6d1c44568930",
   "metadata": {},
   "source": [
    "## 2️⃣ Array Inspection Functions\n",
    "- `np.shape(arr)` - Returns the shape of the array.\n",
    "- `np.size(arr)` - Returns the total number of elements.\n",
    "- `np.ndim(arr)` - Returns the number of dimensions (axes).\n",
    "- `arr.dtype` - Returns the data type of the elements in the array.\n",
    "- `np.itemsize(arr)` - Returns the size (in bytes) of each array element.\n",
    "- `np.length(arr)` - Returns the length of the array.\n",
    "- `np.info(np.func)` - Displays information about a NumPy function."
   ]
  },
  {
   "cell_type": "markdown",
   "id": "a5c89a15-fcfc-4a51-aeeb-20702bd290f6",
   "metadata": {},
   "source": [
    "### Example "
   ]
  },
  {
   "cell_type": "code",
   "execution_count": 84,
   "id": "4c1373ea-f509-4c4a-bd68-af6852910c04",
   "metadata": {},
   "outputs": [
    {
     "name": "stdout",
     "output_type": "stream",
     "text": [
      "[[1 2 3]\n",
      " [4 5 6]\n",
      " [7 8 9]]\n"
     ]
    }
   ],
   "source": [
    "arr = np.arange(1,10).reshape(3,3)\n",
    "print(arr)"
   ]
  },
  {
   "cell_type": "markdown",
   "id": "7b031544-5ffb-45a0-ae45-f2c27d95c4d2",
   "metadata": {},
   "source": [
    "## **np.shape()**\n",
    "- Returns shape(row,column) of the array"
   ]
  },
  {
   "cell_type": "code",
   "execution_count": 86,
   "id": "67840e58-bb82-4e5f-8e90-86d44d2c6095",
   "metadata": {},
   "outputs": [
    {
     "name": "stdout",
     "output_type": "stream",
     "text": [
      "(3, 3)\n"
     ]
    }
   ],
   "source": [
    "print(np.shape(arr))"
   ]
  },
  {
   "cell_type": "markdown",
   "id": "b567905b-b5e2-4391-b0db-ff401cc47136",
   "metadata": {},
   "source": [
    "## **np.size()**\n",
    "- Returns the total number of elements in an array"
   ]
  },
  {
   "cell_type": "code",
   "execution_count": 87,
   "id": "cafeed55-dc6e-4ccf-9d18-aedfd906c275",
   "metadata": {},
   "outputs": [
    {
     "name": "stdout",
     "output_type": "stream",
     "text": [
      "9\n"
     ]
    }
   ],
   "source": [
    "print(np.size(arr))"
   ]
  },
  {
   "cell_type": "markdown",
   "id": "016e59e4-3b8b-4b66-b708-744147eb5d70",
   "metadata": {},
   "source": [
    "## **np.ndim(arr)**\n",
    "- Returns the number of dimensions (axes)."
   ]
  },
  {
   "cell_type": "code",
   "execution_count": 96,
   "id": "70d7f14d-c8fa-4189-8068-01efe1bb7dc4",
   "metadata": {},
   "outputs": [
    {
     "name": "stdout",
     "output_type": "stream",
     "text": [
      "2\n"
     ]
    }
   ],
   "source": [
    "print(np.ndim(arr))"
   ]
  },
  {
   "cell_type": "markdown",
   "id": "35b54aae-9775-4a6c-b80c-136c543502d6",
   "metadata": {},
   "source": [
    "## **arr.dtype**\n",
    "- Returns the data type of the elements in the array."
   ]
  },
  {
   "cell_type": "code",
   "execution_count": 98,
   "id": "4eabe5af-9401-4aaf-bf22-adae74fc031d",
   "metadata": {},
   "outputs": [
    {
     "name": "stdout",
     "output_type": "stream",
     "text": [
      "int64\n"
     ]
    }
   ],
   "source": [
    "arr = np.array([1, 2, 3])\n",
    "print(arr.dtype)  "
   ]
  },
  {
   "cell_type": "markdown",
   "id": "3046c3b1-97a3-4a98-8b5a-50b2eb823db7",
   "metadata": {},
   "source": [
    "## **np.itemsize()**\n",
    "- Returns the size (in bytes) of each element in the array."
   ]
  },
  {
   "cell_type": "code",
   "execution_count": 101,
   "id": "274d9e22-2aef-4bee-83a3-6f1f2126cad9",
   "metadata": {},
   "outputs": [
    {
     "name": "stdout",
     "output_type": "stream",
     "text": [
      "8\n"
     ]
    }
   ],
   "source": [
    "arr = np.array([1, 2, 3])\n",
    "print(arr.itemsize)"
   ]
  },
  {
   "cell_type": "markdown",
   "id": "160ab2ee-2ee1-4543-ae90-456842cf4768",
   "metadata": {},
   "source": [
    "## **np.info()**\n",
    "- Displays information about a NumPy function or method."
   ]
  },
  {
   "cell_type": "code",
   "execution_count": 100,
   "id": "836eec3f-757b-4900-9423-562a52dc1cba",
   "metadata": {},
   "outputs": [
    {
     "name": "stdout",
     "output_type": "stream",
     "text": [
      "class:  ndarray\n",
      "shape:  (3,)\n",
      "strides:  (8,)\n",
      "itemsize:  8\n",
      "aligned:  True\n",
      "contiguous:  True\n",
      "fortran:  True\n",
      "data pointer: 0x600002913fc0\n",
      "byteorder:  little\n",
      "byteswap:  False\n",
      "type: int64\n",
      "None\n"
     ]
    }
   ],
   "source": [
    "print(np.info(arr)) "
   ]
  },
  {
   "cell_type": "code",
   "execution_count": 103,
   "id": "9b898077-dbc1-45fd-a599-f7e4eaa4e860",
   "metadata": {},
   "outputs": [
    {
     "name": "stdout",
     "output_type": "stream",
     "text": [
      "array(object, dtype=None, *, copy=True, order='K', subok=False, ndmin=0,\n",
      "      like=None)\n",
      "\n",
      "Create an array.\n",
      "\n",
      "Parameters\n",
      "----------\n",
      "object : array_like\n",
      "    An array, any object exposing the array interface, an object whose\n",
      "    ``__array__`` method returns an array, or any (nested) sequence.\n",
      "    If object is a scalar, a 0-dimensional array containing object is\n",
      "    returned.\n",
      "dtype : data-type, optional\n",
      "    The desired data-type for the array. If not given, NumPy will try to use\n",
      "    a default ``dtype`` that can represent the values (by applying promotion\n",
      "    rules when necessary.)\n",
      "copy : bool, optional\n",
      "    If ``True`` (default), then the array data is copied. If ``None``,\n",
      "    a copy will only be made if ``__array__`` returns a copy, if obj is\n",
      "    a nested sequence, or if a copy is needed to satisfy any of the other\n",
      "    requirements (``dtype``, ``order``, etc.). Note that any copy of\n",
      "    the data is shallow, i.e., for arrays with object dtype, the new\n",
      "    array will point to the same objects. See Examples for `ndarray.copy`.\n",
      "    For ``False`` it raises a ``ValueError`` if a copy cannot be avoided.\n",
      "    Default: ``True``.\n",
      "order : {'K', 'A', 'C', 'F'}, optional\n",
      "    Specify the memory layout of the array. If object is not an array, the\n",
      "    newly created array will be in C order (row major) unless 'F' is\n",
      "    specified, in which case it will be in Fortran order (column major).\n",
      "    If object is an array the following holds.\n",
      "\n",
      "    ===== ========= ===================================================\n",
      "    order  no copy                     copy=True\n",
      "    ===== ========= ===================================================\n",
      "    'K'   unchanged F & C order preserved, otherwise most similar order\n",
      "    'A'   unchanged F order if input is F and not C, otherwise C order\n",
      "    'C'   C order   C order\n",
      "    'F'   F order   F order\n",
      "    ===== ========= ===================================================\n",
      "\n",
      "    When ``copy=None`` and a copy is made for other reasons, the result is\n",
      "    the same as if ``copy=True``, with some exceptions for 'A', see the\n",
      "    Notes section. The default order is 'K'.\n",
      "subok : bool, optional\n",
      "    If True, then sub-classes will be passed-through, otherwise\n",
      "    the returned array will be forced to be a base-class array (default).\n",
      "ndmin : int, optional\n",
      "    Specifies the minimum number of dimensions that the resulting\n",
      "    array should have.  Ones will be prepended to the shape as\n",
      "    needed to meet this requirement.\n",
      "like : array_like, optional\n",
      "    Reference object to allow the creation of arrays which are not\n",
      "    NumPy arrays. If an array-like passed in as ``like`` supports\n",
      "    the ``__array_function__`` protocol, the result will be defined\n",
      "    by it. In this case, it ensures the creation of an array object\n",
      "    compatible with that passed in via this argument.\n",
      "\n",
      "    .. versionadded:: 1.20.0\n",
      "\n",
      "Returns\n",
      "-------\n",
      "out : ndarray\n",
      "    An array object satisfying the specified requirements.\n",
      "\n",
      "See Also\n",
      "--------\n",
      "empty_like : Return an empty array with shape and type of input.\n",
      "ones_like : Return an array of ones with shape and type of input.\n",
      "zeros_like : Return an array of zeros with shape and type of input.\n",
      "full_like : Return a new array with shape of input filled with value.\n",
      "empty : Return a new uninitialized array.\n",
      "ones : Return a new array setting values to one.\n",
      "zeros : Return a new array setting values to zero.\n",
      "full : Return a new array of given shape filled with value.\n",
      "copy: Return an array copy of the given object.\n",
      "\n",
      "\n",
      "Notes\n",
      "-----\n",
      "When order is 'A' and ``object`` is an array in neither 'C' nor 'F' order,\n",
      "and a copy is forced by a change in dtype, then the order of the result is\n",
      "not necessarily 'C' as expected. This is likely a bug.\n",
      "\n",
      "Examples\n",
      "--------\n",
      ">>> import numpy as np\n",
      ">>> np.array([1, 2, 3])\n",
      "array([1, 2, 3])\n",
      "\n",
      "Upcasting:\n",
      "\n",
      ">>> np.array([1, 2, 3.0])\n",
      "array([ 1.,  2.,  3.])\n",
      "\n",
      "More than one dimension:\n",
      "\n",
      ">>> np.array([[1, 2], [3, 4]])\n",
      "array([[1, 2],\n",
      "       [3, 4]])\n",
      "\n",
      "Minimum dimensions 2:\n",
      "\n",
      ">>> np.array([1, 2, 3], ndmin=2)\n",
      "array([[1, 2, 3]])\n",
      "\n",
      "Type provided:\n",
      "\n",
      ">>> np.array([1, 2, 3], dtype=complex)\n",
      "array([ 1.+0.j,  2.+0.j,  3.+0.j])\n",
      "\n",
      "Data-type consisting of more than one element:\n",
      "\n",
      ">>> x = np.array([(1,2),(3,4)],dtype=[('a','<i4'),('b','<i4')])\n",
      ">>> x['a']\n",
      "array([1, 3], dtype=int32)\n",
      "\n",
      "Creating an array from sub-classes:\n",
      "\n",
      ">>> np.array(np.asmatrix('1 2; 3 4'))\n",
      "array([[1, 2],\n",
      "       [3, 4]])\n",
      "\n",
      ">>> np.array(np.asmatrix('1 2; 3 4'), subok=True)\n",
      "matrix([[1, 2],\n",
      "        [3, 4]])\n",
      "None\n"
     ]
    }
   ],
   "source": [
    "print(np.info(np.array))"
   ]
  },
  {
   "cell_type": "markdown",
   "id": "99f68b02-720b-4e2d-8843-d8f323e42ed8",
   "metadata": {},
   "source": [
    "\n",
    "# 🟡 Medium Level:\n",
    "\n",
    "1. **Reshape an array**  \n",
    "   Create a 1D array from 1 to 9, then reshape it into a 3x3 matrix.\n"
   ]
  },
  {
   "cell_type": "code",
   "execution_count": 52,
   "id": "7b91089a-0c4e-4cca-b2b2-ae632a75c965",
   "metadata": {},
   "outputs": [
    {
     "name": "stdout",
     "output_type": "stream",
     "text": [
      "[[1 2 3]\n",
      " [4 5 6]\n",
      " [7 8 9]]\n"
     ]
    }
   ],
   "source": [
    "arr= np.array([1,2,3,4,5,6,7,8,9])\n",
    "reshaped_arr = np.reshape(arr,(3,3))\n",
    "print(reshaped_arr)"
   ]
  },
  {
   "cell_type": "markdown",
   "id": "aca4e28d-23dc-4de0-836f-d267c505497d",
   "metadata": {},
   "source": [
    "4. **Find the maximum and minimum values**  \n",
    "   Create an array of random integers and find the maximum and minimum values in the array."
   ]
  },
  {
   "cell_type": "code",
   "execution_count": 60,
   "id": "72f87d85-412f-488e-b8f8-f600e2b5a409",
   "metadata": {},
   "outputs": [
    {
     "name": "stdout",
     "output_type": "stream",
     "text": [
      "[[19 87 23]\n",
      " [ 5 60 78]\n",
      " [38 70 26]]\n",
      "5\n",
      "87\n"
     ]
    }
   ],
   "source": [
    "arr = np.random.randint(100,size=(3,3))\n",
    "print(arr)\n",
    "min_val = np.min(arr)\n",
    "print(min_val)\n",
    "max_val = np.max(arr)\n",
    "print(max_val)"
   ]
  },
  {
   "cell_type": "markdown",
   "id": "202b9849-cd10-4dc7-9f22-c3954e1d5f3e",
   "metadata": {},
   "source": [
    "5. **Find the sum of all elements in a 2D array**  \n",
    "   Create a 3x3 matrix with values from 1 to 9 and find the sum of all its elements."
   ]
  },
  {
   "cell_type": "code",
   "execution_count": 79,
   "id": "0bcfeaaa-a6f8-4b05-936d-5519606ad2b6",
   "metadata": {},
   "outputs": [
    {
     "name": "stdout",
     "output_type": "stream",
     "text": [
      "[[1 2 3]\n",
      " [4 5 6]\n",
      " [7 8 9]]\n",
      "45\n"
     ]
    }
   ],
   "source": [
    "#matrix = np.array([[1,2,3],[4,5,6],[7,8,9]])\n",
    "matrix = np.arange(1,10).reshape(3,3)\n",
    "print(matrix)\n",
    "Sum_of_Matrix = np.sum(matrix)\n",
    "print(Sum_of_Matrix)"
   ]
  },
  {
   "cell_type": "markdown",
   "id": "2fcb2d47-8c76-4a1c-b5c0-ef1d7bd64154",
   "metadata": {},
   "source": [
    "## 3️⃣ Mathematical Functions\n",
    "- `np.add(arr1, arr2)` - Element-wise addition.\n",
    "- `np.subtract(arr1, arr2)` - Element-wise subtraction.\n",
    "- `np.multiply(arr1, arr2)` - Element-wise multiplication.\n",
    "- `np.divide(arr1, arr2)` - Element-wise division.\n",
    "- `np.power(arr, n)` - Raises elements to the power of n.\n",
    "- `np.sqrt(arr)` - Computes the square root of each element.\n",
    "- `np.sin(arr)`, `np.cos(arr)`, `np.tan(arr)` - Trigonometric functions.\n",
    "- `np.log(arr)` - Natural logarithm of elements.\n",
    "- `np.exp(arr)` - Exponential of elements.\n",
    "- `np.abs(arr)` - Absolute value of elements.\n",
    "- `np.sum(arr)` - Sum of elements.\n",
    "- `np.prod(arr)` - Product of elements.\n",
    "- `np.cumsum(arr)` - Cumulative sum of elements.\n",
    "- `np.cumprod(arr)` - Cumulative product of elements."
   ]
  },
  {
   "cell_type": "code",
   "execution_count": 117,
   "id": "fd79e6ab-b339-44a1-ae01-00d5d2944c11",
   "metadata": {},
   "outputs": [],
   "source": [
    "# Sample array\n",
    "arr1 = np.array([1, 2, 3, 4, 5])\n",
    "arr2 = np.array([5, 4, 3, 2, 1])"
   ]
  },
  {
   "cell_type": "markdown",
   "id": "51f2ea10-83a0-42dc-a218-4ae515b0338b",
   "metadata": {},
   "source": [
    "### 1️⃣ Addition"
   ]
  },
  {
   "cell_type": "code",
   "execution_count": 119,
   "id": "54a553bf-a550-4b4e-97f2-b24927c61458",
   "metadata": {},
   "outputs": [
    {
     "name": "stdout",
     "output_type": "stream",
     "text": [
      "[6 6 6 6 6]\n"
     ]
    }
   ],
   "source": [
    "print(np.add(arr1, arr2))  # [6 6 6 6 6]"
   ]
  },
  {
   "cell_type": "markdown",
   "id": "ca6015e9-3c6d-4f50-9d33-4b6546116133",
   "metadata": {},
   "source": [
    "### 2️⃣ Subtraction"
   ]
  },
  {
   "cell_type": "code",
   "execution_count": 131,
   "id": "54f73653-1456-4f9f-b2d8-359e9f98397c",
   "metadata": {},
   "outputs": [
    {
     "name": "stdout",
     "output_type": "stream",
     "text": [
      "[-4 -2  0  2  4]\n"
     ]
    }
   ],
   "source": [
    "print(np.subtract(arr1, arr2))  # [-4 -2  0  2  4]"
   ]
  },
  {
   "cell_type": "markdown",
   "id": "e50f6f0d-1820-405d-a1d9-86064215318b",
   "metadata": {},
   "source": [
    "### 3️⃣ Multiplication"
   ]
  },
  {
   "cell_type": "code",
   "execution_count": 132,
   "id": "948d3ecd-a4d5-452e-89a6-ecde82bfe530",
   "metadata": {},
   "outputs": [
    {
     "name": "stdout",
     "output_type": "stream",
     "text": [
      "[5 8 9 8 5]\n"
     ]
    }
   ],
   "source": [
    "print(np.multiply(arr1, arr2))  # [5 8 9 8 5]"
   ]
  },
  {
   "cell_type": "markdown",
   "id": "a5223c93-9b2a-4a97-abe1-4a319fb08bbf",
   "metadata": {},
   "source": [
    "### 4️⃣ Division"
   ]
  },
  {
   "cell_type": "code",
   "execution_count": 133,
   "id": "1f1977eb-7aef-47e8-8abc-3c3764724297",
   "metadata": {},
   "outputs": [
    {
     "name": "stdout",
     "output_type": "stream",
     "text": [
      "[0.2 0.5 1.  2.  5. ]\n"
     ]
    }
   ],
   "source": [
    "print(np.divide(arr1, arr2))  # [0.2 0.5 1.  2.  5. ]"
   ]
  },
  {
   "cell_type": "markdown",
   "id": "29add08b-c483-45e1-acbf-5c4b7c7b5e41",
   "metadata": {},
   "source": [
    "### 5️⃣ Power (Raise to Power n)"
   ]
  },
  {
   "cell_type": "code",
   "execution_count": 134,
   "id": "f3c3c278-92ea-4bca-9f86-5f6c160558da",
   "metadata": {},
   "outputs": [
    {
     "name": "stdout",
     "output_type": "stream",
     "text": [
      "[ 1  4  9 16 25]\n"
     ]
    }
   ],
   "source": [
    "print(np.power(arr1, 2))  # [ 1  4  9 16 25]"
   ]
  },
  {
   "cell_type": "markdown",
   "id": "bc525c46-384b-48c3-9697-f2d1624c6d77",
   "metadata": {},
   "source": [
    "### 6️⃣ Square Root"
   ]
  },
  {
   "cell_type": "code",
   "execution_count": 135,
   "id": "74f4ac20-b79a-4d7a-985a-c31323c6fc8f",
   "metadata": {},
   "outputs": [
    {
     "name": "stdout",
     "output_type": "stream",
     "text": [
      "[1.         1.41421356 1.73205081 2.         2.23606798]\n"
     ]
    }
   ],
   "source": [
    "print(np.sqrt(arr1))  # [1.         1.41421356 1.73205081 2.         2.23606798]"
   ]
  },
  {
   "cell_type": "markdown",
   "id": "d2c048d1-3f0b-4bbd-ab6e-fcbcad3333b8",
   "metadata": {},
   "source": [
    "### 7️⃣ Trigonometric Functions"
   ]
  },
  {
   "cell_type": "code",
   "execution_count": 136,
   "id": "1219cec9-c573-4f13-b212-3ddcd98a4283",
   "metadata": {},
   "outputs": [
    {
     "name": "stdout",
     "output_type": "stream",
     "text": [
      "[0.0000000e+00 1.0000000e+00 1.2246468e-16]\n",
      "[ 1.000000e+00  6.123234e-17 -1.000000e+00]\n",
      "[ 0.00000000e+00  1.63312394e+16 -1.22464680e-16]\n"
     ]
    }
   ],
   "source": [
    "angles = np.array([0, np.pi/2, np.pi])\n",
    "print(np.sin(angles))  # [ 0.  1.  0.]\n",
    "print(np.cos(angles))  # [ 1.  0. -1.]\n",
    "print(np.tan(angles))  # [ 0.  1.634E16  0.]"
   ]
  },
  {
   "cell_type": "markdown",
   "id": "74f5fd6c-af16-4f9f-8f65-d891b281cada",
   "metadata": {},
   "source": [
    "### 8️⃣ Logarithm (Natural Log)"
   ]
  },
  {
   "cell_type": "code",
   "execution_count": 137,
   "id": "40c205b6-cd1b-4ccf-84e6-e3221b59d617",
   "metadata": {},
   "outputs": [
    {
     "name": "stdout",
     "output_type": "stream",
     "text": [
      "[0.         0.69314718 1.09861229 1.38629436 1.60943791]\n"
     ]
    }
   ],
   "source": [
    "print(np.log(arr1))  # [0.         0.69314718 1.09861229 1.38629436 1.60943791]"
   ]
  },
  {
   "cell_type": "markdown",
   "id": "3fbc1e54-c69e-4cfa-a543-22227f675fbd",
   "metadata": {},
   "source": [
    "### 9️⃣ Exponential"
   ]
  },
  {
   "cell_type": "code",
   "execution_count": 138,
   "id": "ee55e1c1-cd74-4c60-8d25-0aec4e620976",
   "metadata": {},
   "outputs": [
    {
     "name": "stdout",
     "output_type": "stream",
     "text": [
      "[  2.71828183   7.3890561   20.08553692  54.59815003 148.4131591 ]\n"
     ]
    }
   ],
   "source": [
    "print(np.exp(arr1))  # [  2.71828183   7.3890561   20.08553692  54.59815003 148.4131591 ]"
   ]
  },
  {
   "cell_type": "markdown",
   "id": "01dd5859-8be1-4172-b5cb-0ae6cb814968",
   "metadata": {},
   "source": [
    "### 🔟 Absolute Value"
   ]
  },
  {
   "cell_type": "code",
   "execution_count": 139,
   "id": "98edc82c-f0cb-4195-83c8-112b02b3f941",
   "metadata": {},
   "outputs": [
    {
     "name": "stdout",
     "output_type": "stream",
     "text": [
      "[1 2 3 4 5]\n"
     ]
    }
   ],
   "source": [
    "arr_neg = np.array([-1, -2, -3, 4, 5])\n",
    "print(np.abs(arr_neg))  # [1 2 3 4 5]"
   ]
  },
  {
   "cell_type": "markdown",
   "id": "b8b0d266-8e13-4d3e-b490-4f33d5d0b0e1",
   "metadata": {},
   "source": [
    "### 1️⃣1️⃣ Sum of Elements"
   ]
  },
  {
   "cell_type": "code",
   "execution_count": 140,
   "id": "06c6bceb-4906-4d50-9f21-0f6bc542ea21",
   "metadata": {},
   "outputs": [
    {
     "name": "stdout",
     "output_type": "stream",
     "text": [
      "15\n"
     ]
    }
   ],
   "source": [
    "print(np.sum(arr1))  # 15"
   ]
  },
  {
   "cell_type": "markdown",
   "id": "07f21449-82bf-429b-8bee-fd1ebcba0649",
   "metadata": {},
   "source": [
    "### 1️⃣2️⃣ Product of Elements"
   ]
  },
  {
   "cell_type": "code",
   "execution_count": 141,
   "id": "6bf93213-c20e-4b0c-a2f6-0e922aa76a31",
   "metadata": {},
   "outputs": [
    {
     "name": "stdout",
     "output_type": "stream",
     "text": [
      "120\n"
     ]
    }
   ],
   "source": [
    "print(np.prod(arr1))  # 120"
   ]
  },
  {
   "cell_type": "markdown",
   "id": "0d9132a2-ba3d-4bd0-a8ac-7abeed746ec0",
   "metadata": {},
   "source": [
    "### 1️⃣3️⃣ Cumulative Sum"
   ]
  },
  {
   "cell_type": "code",
   "execution_count": 142,
   "id": "02e95b59-5d24-446c-95c0-caa1301dc90d",
   "metadata": {},
   "outputs": [
    {
     "name": "stdout",
     "output_type": "stream",
     "text": [
      "[ 1  3  6 10 15]\n"
     ]
    }
   ],
   "source": [
    "print(np.cumsum(arr1))  # [ 1  3  6 10 15]"
   ]
  },
  {
   "cell_type": "markdown",
   "id": "846f4701-227d-452e-8010-558e8fb8c1ba",
   "metadata": {},
   "source": [
    "### 1️⃣4️⃣ Cumulative Product"
   ]
  },
  {
   "cell_type": "code",
   "execution_count": 144,
   "id": "a7937379-3f00-4b7d-8b83-22282b387977",
   "metadata": {},
   "outputs": [
    {
     "name": "stdout",
     "output_type": "stream",
     "text": [
      "[  1   2   6  24 120]\n"
     ]
    }
   ],
   "source": [
    "print(np.cumprod(arr1))  # [  1   2   6  24 120]"
   ]
  },
  {
   "cell_type": "markdown",
   "id": "93eedd3b-9851-4e0c-a865-ebf19e34650c",
   "metadata": {},
   "source": [
    "## 4️⃣ Array Reshaping & Manipulation Functions\n",
    "- `np.reshape(arr, new_shape)` - Reshapes the array to a new shape.\n",
    "- `np.ravel(arr)` - Flattens the array to 1D.\n",
    "- `np.transpose(arr)` - Transposes the array (rows become columns).\n",
    "- `np.swapaxes(arr, axis1, axis2)` - Swaps two axes of the array.\n",
    "- `np.expand_dims(arr, axis)` - Expands an array by adding a new axis.\n",
    "- `np.squeeze(arr)` - Removes single-dimensional entries from the shape.\n",
    "- `np.concatenate((arr1, arr2), axis)` - Concatenates two arrays along a given axis.\n",
    "- `np.stack(arrays, axis)` - Stacks arrays along a new axis.\n",
    "- `np.hstack(arrays)` - Stacks arrays horizontally.\n",
    "- `np.vstack(arrays)` - Stacks arrays vertically.\n",
    "- `np.split(arr, indices_or_sections)` - Splits an array into sub-arrays.\n",
    "- `np.tile(arr, reps)` - Repeats an array."
   ]
  },
  {
   "cell_type": "markdown",
   "id": "e45b728b-c534-4eb5-ade6-a0c49bfc8f77",
   "metadata": {},
   "source": [
    "### Examples"
   ]
  },
  {
   "cell_type": "markdown",
   "id": "e991fa0d-7b6e-4674-beab-267021126aa0",
   "metadata": {},
   "source": [
    "### `np.reshape(arr, new_shape)`\n",
    "- Reshapes the array to a new shape."
   ]
  },
  {
   "cell_type": "code",
   "execution_count": 145,
   "id": "aab3b1b4-f5d9-4b9b-8ab7-545bc33cd0e2",
   "metadata": {},
   "outputs": [
    {
     "name": "stdout",
     "output_type": "stream",
     "text": [
      "[[1 2 3]\n",
      " [4 5 6]]\n"
     ]
    }
   ],
   "source": [
    "arr = np.array([1, 2, 3, 4, 5, 6])\n",
    "reshaped = np.reshape(arr, (2, 3))\n",
    "print(reshaped)\n"
   ]
  },
  {
   "cell_type": "code",
   "execution_count": null,
   "id": "40a3054b-e045-4f01-996d-ccb48f2f8f82",
   "metadata": {},
   "outputs": [],
   "source": []
  },
  {
   "cell_type": "code",
   "execution_count": null,
   "id": "f61cf7dd-0970-49ca-beec-70c1ce513b73",
   "metadata": {},
   "outputs": [],
   "source": []
  },
  {
   "cell_type": "code",
   "execution_count": null,
   "id": "60713d33-58f9-4df4-97ff-76de601b8d76",
   "metadata": {},
   "outputs": [],
   "source": []
  },
  {
   "cell_type": "code",
   "execution_count": null,
   "id": "20e25c1f-1ae0-4c58-a248-b4d9de82636f",
   "metadata": {},
   "outputs": [],
   "source": []
  },
  {
   "cell_type": "code",
   "execution_count": null,
   "id": "d6f852c6-53bb-4995-80c5-fa9c2c0c29ba",
   "metadata": {},
   "outputs": [],
   "source": []
  },
  {
   "cell_type": "code",
   "execution_count": null,
   "id": "b75e88d6-9aed-495b-9633-3be1ed6686c6",
   "metadata": {},
   "outputs": [],
   "source": []
  },
  {
   "cell_type": "code",
   "execution_count": null,
   "id": "a77f4ccc-e494-4cd9-95f7-676849522a13",
   "metadata": {},
   "outputs": [],
   "source": []
  },
  {
   "cell_type": "code",
   "execution_count": null,
   "id": "30f74dd6-7c5e-465c-a39b-052203dc6c4c",
   "metadata": {},
   "outputs": [],
   "source": []
  },
  {
   "cell_type": "code",
   "execution_count": null,
   "id": "d685fc32-bd5f-4978-bc4a-b4c3911ec88b",
   "metadata": {},
   "outputs": [],
   "source": []
  },
  {
   "cell_type": "markdown",
   "id": "afa7a209-d34c-4ee3-b8b8-88aafd30a10f",
   "metadata": {},
   "source": [
    "## 4️⃣ Array Indexing & Slicing\n",
    "- `arr[start:stop:step]` - Slices an array.\n",
    "- `np.where(condition)` - Returns the indices where the condition is True.\n",
    "- `np.take(arr, indices)` - Takes elements from an array along an axis.\n",
    "- `np.choose(choices, index)` - Selects elements based on indices.\n",
    "- `np.nonzero(arr)` - Returns the indices of non-zero elements.\n",
    "- `np.ix_(*arrays)` - Constructs an open mesh grid for array indexing.\n"
   ]
  },
  {
   "cell_type": "markdown",
   "id": "420f2abb-7e94-47df-b366-a5185e640399",
   "metadata": {},
   "source": []
  },
  {
   "cell_type": "markdown",
   "id": "440f6282-915b-4df5-be1f-73854c7fe2fe",
   "metadata": {},
   "source": [
    "## 6️⃣ Sorting, Searching, & Counting\n",
    "- `np.sort(arr)` - Returns a sorted copy of the array.\n",
    "- `np.argsort(arr)` - Returns the indices that would sort the array.\n",
    "- `np.argmin(arr)` - Returns the index of the minimum value.\n",
    "- `np.argmax(arr)` - Returns the index of the maximum value.\n",
    "- `np.searchsorted(arr, value)` - Finds indices where elements should be inserted.\n",
    "- `np.count_nonzero(arr)` - Counts non-zero elements."
   ]
  },
  {
   "cell_type": "markdown",
   "id": "aeacc606-8ef1-45d3-9e2b-77ea2f807008",
   "metadata": {},
   "source": [
    "## 7️⃣ Broadcasting & Vectorization\n",
    "- `np.vectorize(pyfunc)` - Vectorizes a Python function so that it applies to arrays.\n",
    "- `np.broadcast(arr1, arr2)` - Broadcasts two arrays to a common shape.\n"
   ]
  },
  {
   "cell_type": "markdown",
   "id": "5d4012e7-d6df-4928-920e-97f143b6fec0",
   "metadata": {},
   "source": [
    "\n",
    "## 8️⃣ Linear Algebra Functions\n",
    "- `np.dot(arr1, arr2)` - Dot product of two arrays.\n",
    "- `np.matmul(arr1, arr2)` - Matrix product of two arrays.\n",
    "- `np.cross(arr1, arr2)` - Cross product of two arrays.\n",
    "- `np.linalg.inv(arr)` - Computes the inverse of a matrix.\n",
    "- `np.linalg.eig(arr)` - Computes the eigenvalues and eigenvectors of a matrix.\n",
    "- `np.linalg.det(arr)` - Computes the determinant of a matrix.\n",
    "- `np.linalg.solve(a, b)` - Solves a linear matrix equation.\n"
   ]
  },
  {
   "cell_type": "markdown",
   "id": "75b39382-a8be-401c-ad80-7a92973cf306",
   "metadata": {},
   "source": [
    "## 9️⃣ Random Numbers Functions\n",
    "- `np.random.rand(d0, d1, ..., dn)` - Random values in [0,1).\n",
    "- `np.random.randn(d0, d1, ..., dn)` - Random values from a normal distribution.\n",
    "- `np.random.randint(low, high, size)` - Random integers from low to high.\n",
    "- `np.random.choice(arr, size)` - Randomly select elements from an array.\n",
    "- `np.random.shuffle(arr)` - Shuffles the elements in an array.\n",
    "- `np.random.seed(seed)` - Seeds the random number generator.\n"
   ]
  },
  {
   "cell_type": "markdown",
   "id": "dbabdca4-45ee-4976-ba3b-4014b12d7f04",
   "metadata": {},
   "source": [
    "## 🔟 Statistical Functions\n",
    "- `np.min(arr)` - Minimum value in the array.\n",
    "- `np.max(arr)` - Maximum value in the array.\n",
    "- `np.percentile(arr, q)` - Percentile of the array.\n",
    "- `np.median(arr)` - Median value.\n",
    "- `np.mean(arr)` - Mean (average) value.\n",
    "- `np.std(arr)` - Standard deviation.\n",
    "- `np.var(arr)` - Variance.\n",
    "- `np.corrcoef(arr)` - Correlation coefficient matrix.\n",
    "- `np.histogram(arr)` - Computes the histogram."
   ]
  },
  {
   "cell_type": "code",
   "execution_count": null,
   "id": "73a2f5b0-d114-404c-aa36-d6fc532d7ddc",
   "metadata": {},
   "outputs": [],
   "source": []
  },
  {
   "cell_type": "code",
   "execution_count": null,
   "id": "98ae42c3-ef11-4482-9b42-baacfd84c4e4",
   "metadata": {},
   "outputs": [],
   "source": []
  },
  {
   "cell_type": "code",
   "execution_count": null,
   "id": "e07b614a-6e08-4c6f-94c7-5a72cd89dbd7",
   "metadata": {},
   "outputs": [],
   "source": []
  },
  {
   "cell_type": "code",
   "execution_count": null,
   "id": "4ce9bb35-7297-4dcf-87a9-c6e89c41ea24",
   "metadata": {},
   "outputs": [],
   "source": []
  }
 ],
 "metadata": {
  "kernelspec": {
   "display_name": "Python 3 (ipykernel)",
   "language": "python",
   "name": "python3"
  },
  "language_info": {
   "codemirror_mode": {
    "name": "ipython",
    "version": 3
   },
   "file_extension": ".py",
   "mimetype": "text/x-python",
   "name": "python",
   "nbconvert_exporter": "python",
   "pygments_lexer": "ipython3",
   "version": "3.13.2"
  }
 },
 "nbformat": 4,
 "nbformat_minor": 5
}
