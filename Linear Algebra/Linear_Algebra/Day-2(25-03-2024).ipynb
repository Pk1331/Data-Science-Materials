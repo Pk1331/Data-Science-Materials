{
 "cells": [
  {
   "attachments": {},
   "cell_type": "markdown",
   "id": "0d0c9ed9-cf7d-40d8-9b61-b578d230e18c",
   "metadata": {},
   "source": [
    "# Numpy\n",
    "- NumPy is a Python library used for working with arrays."
   ]
  },
  {
   "cell_type": "code",
   "execution_count": 1,
   "id": "6983d824-c1e7-4d00-84cb-7b51a10a88c1",
   "metadata": {},
   "outputs": [],
   "source": [
    "import numpy as np"
   ]
  },
  {
   "cell_type": "markdown",
   "id": "3b2564b0-3b3f-4141-8842-2b29aea64bd5",
   "metadata": {},
   "source": [
    "### Check Numpy version\n"
   ]
  },
  {
   "cell_type": "code",
   "execution_count": 8,
   "id": "cc1bcc05-bc55-4543-b7db-3d8fde68023c",
   "metadata": {},
   "outputs": [
    {
     "name": "stdout",
     "output_type": "stream",
     "text": [
      "2.2.4\n"
     ]
    }
   ],
   "source": [
    "print(np.__version__)"
   ]
  },
  {
   "cell_type": "markdown",
   "id": "58e795f9-12cb-48bd-ba7d-e30d72f55ad4",
   "metadata": {},
   "source": [
    "## Creating Arrays\n",
    "### 0-D Array"
   ]
  },
  {
   "cell_type": "code",
   "execution_count": 10,
   "id": "bcf7da84-5f43-4561-8ec1-543b3643806c",
   "metadata": {},
   "outputs": [
    {
     "name": "stdout",
     "output_type": "stream",
     "text": [
      "11\n"
     ]
    }
   ],
   "source": [
    "ar = np.array(11)\n",
    "print(ar)"
   ]
  },
  {
   "cell_type": "markdown",
   "id": "86e94094-9706-491d-acd6-53f77836e1cb",
   "metadata": {},
   "source": [
    "### 1-D Array"
   ]
  },
  {
   "cell_type": "code",
   "execution_count": 2,
   "id": "0a481917-8005-4886-9411-0f838053f841",
   "metadata": {},
   "outputs": [
    {
     "name": "stdout",
     "output_type": "stream",
     "text": [
      "1-D Array : [1 2 3 4]\n"
     ]
    }
   ],
   "source": [
    "A = np.array([1,2,3,4])\n",
    "print(\"1-D Array :\",A)"
   ]
  },
  {
   "cell_type": "markdown",
   "id": "dd6c6283-9c15-4c04-9d89-221df1666928",
   "metadata": {},
   "source": [
    "### 2-D Array (Matrix)"
   ]
  },
  {
   "cell_type": "code",
   "execution_count": 6,
   "id": "245a680c-a2f1-4ec6-9780-bdec408134fb",
   "metadata": {},
   "outputs": [
    {
     "name": "stdout",
     "output_type": "stream",
     "text": [
      "[[1 2 3]\n",
      " [3 4 5]]\n"
     ]
    }
   ],
   "source": [
    "matrix = np.array([[1,2,3],[3,4,5]])\n",
    "print(matrix)"
   ]
  },
  {
   "cell_type": "markdown",
   "id": "4f9a39b9-2891-47a4-86b4-63ba642c4d24",
   "metadata": {},
   "source": [
    "### 3-D Array"
   ]
  },
  {
   "cell_type": "code",
   "execution_count": 7,
   "id": "66505151-ab48-4f35-8a7f-5951602befda",
   "metadata": {},
   "outputs": [
    {
     "name": "stdout",
     "output_type": "stream",
     "text": [
      "[[[1 2]\n",
      "  [3 4]]\n",
      "\n",
      " [[5 6]\n",
      "  [7 8]]]\n"
     ]
    }
   ],
   "source": [
    "arr = np.array([[[1,2],[3,4]],[[5,6],[7,8]]])\n",
    "print(arr)"
   ]
  },
  {
   "cell_type": "markdown",
   "id": "d70240a7-d448-47ff-91db-f0251d8265ea",
   "metadata": {},
   "source": [
    "### `ndim` propery - Check how many dimensions the arrays have"
   ]
  },
  {
   "cell_type": "code",
   "execution_count": 12,
   "id": "1f8c18b5-deb0-4c0f-8cb5-66debf37249c",
   "metadata": {},
   "outputs": [
    {
     "name": "stdout",
     "output_type": "stream",
     "text": [
      "0\n",
      "1\n",
      "2\n",
      "3\n"
     ]
    }
   ],
   "source": [
    "print(ar.ndim)\n",
    "print(A.ndim)\n",
    "print(matrix.ndim)\n",
    "print(arr.ndim)"
   ]
  },
  {
   "cell_type": "markdown",
   "id": "4b29c279-a1dd-423e-9d5f-2bf00dcef87d",
   "metadata": {},
   "source": [
    "### `shape` propery - It return no of rows and columns (row X column)"
   ]
  },
  {
   "cell_type": "code",
   "execution_count": 15,
   "id": "925149c9-e062-42b3-95ff-92c54257db00",
   "metadata": {},
   "outputs": [
    {
     "name": "stdout",
     "output_type": "stream",
     "text": [
      "(2, 3)\n"
     ]
    }
   ],
   "source": [
    "print(matrix.shape)"
   ]
  },
  {
   "cell_type": "markdown",
   "id": "c13dd56c-fd5f-4c61-80b7-41702935683e",
   "metadata": {},
   "source": [
    "### `dtype` propery - returns the data type of the array\n",
    "- i - integer\n",
    "- b - boolean\n",
    "- u - unsigned integer\n",
    "- f - float\n",
    "- c - complex float\n",
    "- m - timedelta\n",
    "- M - datetime\n",
    "- O - object\n",
    "- S - string\n",
    "- U - unicode string\n",
    "- V - fixed chunk of memory for other type ( void )"
   ]
  },
  {
   "cell_type": "code",
   "execution_count": 17,
   "id": "2e71283c-f49b-40be-8d2b-7b903d66c486",
   "metadata": {},
   "outputs": [
    {
     "name": "stdout",
     "output_type": "stream",
     "text": [
      "int64\n"
     ]
    }
   ],
   "source": [
    "print(matrix.dtype)"
   ]
  },
  {
   "cell_type": "code",
   "execution_count": 18,
   "id": "28b5ac33-d466-4bcc-8c69-04c12ecc3668",
   "metadata": {},
   "outputs": [
    {
     "name": "stdout",
     "output_type": "stream",
     "text": [
      "['Male' 'Female']\n",
      "<U6\n"
     ]
    }
   ],
   "source": [
    "gender = np.array(['Male','Female'])\n",
    "print(gender)\n",
    "print(gender.dtype)"
   ]
  },
  {
   "cell_type": "markdown",
   "id": "17bcd064-e914-4e21-b0cf-05adc50d97c2",
   "metadata": {},
   "source": [
    "### `size` propery - returns total no.of elements"
   ]
  },
  {
   "cell_type": "code",
   "execution_count": 44,
   "id": "3a1837be-c50d-4bab-a84c-33709834f308",
   "metadata": {},
   "outputs": [
    {
     "name": "stdout",
     "output_type": "stream",
     "text": [
      "4\n",
      "6\n"
     ]
    }
   ],
   "source": [
    "print(A.size)\n",
    "print(matrix.size)"
   ]
  },
  {
   "cell_type": "markdown",
   "id": "3c9cb37a-65d4-4d55-8086-49e0f5f23d8d",
   "metadata": {},
   "source": [
    "## Access Array Elements\n",
    "- Array indexing is the same as accessing an array element.\n",
    "- You can access an array element by referring to its **index number**.\n",
    "\n"
   ]
  },
  {
   "cell_type": "code",
   "execution_count": 21,
   "id": "9c43b521-445a-4b35-9373-def444318b34",
   "metadata": {},
   "outputs": [
    {
     "name": "stdout",
     "output_type": "stream",
     "text": [
      "index-0 : Ande\n",
      "index-1 : Pavan\n",
      "index-2 : Kumar\n"
     ]
    }
   ],
   "source": [
    "name = np.array(['Ande','Pavan','Kumar'])\n",
    "print(\"index-0 :\",name[0])\n",
    "print(\"index-1 :\",name[1])\n",
    "print(\"index-2 :\",name[2])"
   ]
  },
  {
   "cell_type": "markdown",
   "id": "a9d35b3b-83d7-40d3-85c8-f74ffdb87407",
   "metadata": {},
   "source": [
    "### Access 2-D Arrays"
   ]
  },
  {
   "cell_type": "code",
   "execution_count": 27,
   "id": "3e7440b3-f979-4096-bf91-9c16c65df91f",
   "metadata": {},
   "outputs": [
    {
     "name": "stdout",
     "output_type": "stream",
     "text": [
      "[[ 1  2  3  4  5]\n",
      " [ 6  7  8  9 10]]\n",
      "2\n"
     ]
    }
   ],
   "source": [
    "arr = np.array([[1,2,3,4,5], [6,7,8,9,10]])\n",
    "print(arr)\n",
    "# first row first column\n",
    "print(arr[0,1]) "
   ]
  },
  {
   "cell_type": "markdown",
   "id": "69b4a4e1-7435-422e-ac3c-99082d4e2067",
   "metadata": {},
   "source": [
    "### Access 3-D Arrays"
   ]
  },
  {
   "cell_type": "code",
   "execution_count": 32,
   "id": "228e19be-4281-4b4c-b258-5fd5f352b341",
   "metadata": {},
   "outputs": [
    {
     "name": "stdout",
     "output_type": "stream",
     "text": [
      "[[[ 1  2  3]\n",
      "  [ 4  5  6]]\n",
      "\n",
      " [[ 7  8  9]\n",
      "  [10 11 12]]]\n",
      "(2, 2, 3)\n",
      "11\n"
     ]
    }
   ],
   "source": [
    "arr = np.array([[[1, 2, 3], [4, 5, 6]], [[7, 8, 9], [10, 11, 12]]])\n",
    "print(arr)\n",
    "print(arr.shape) # (depth, rows, columns).\n",
    "print(arr[1,1,1])"
   ]
  },
  {
   "cell_type": "markdown",
   "id": "ede7b72c-acc1-4207-a291-d2dcbf15fc3d",
   "metadata": {},
   "source": [
    "### Slicing arrays\n",
    "-  Slicing in python means taking elements from one given index to another given index.\n",
    "-  **[start:end]** (end means end-1 index)\n",
    "-  **[start:end:step]**\n",
    "### 1-D array\n"
   ]
  },
  {
   "cell_type": "code",
   "execution_count": 40,
   "id": "4431e60e-5922-4cd0-ba32-0bca2017c619",
   "metadata": {},
   "outputs": [
    {
     "name": "stdout",
     "output_type": "stream",
     "text": [
      "[2 3 4 5]\n",
      "[3 4 5 6 7]\n",
      "[1 2 3 4]\n",
      "[1 3 5 7]\n"
     ]
    }
   ],
   "source": [
    "arr = np.array([1, 2, 3, 4, 5, 6, 7])\n",
    "# Start & End\n",
    "print(arr[1:5]) \n",
    "\n",
    "# Start\n",
    "print(arr[2:])\n",
    "\n",
    "#End\n",
    "print(arr[:4])\n",
    "\n",
    "#Step by 2\n",
    "print(arr[0:7:2])"
   ]
  },
  {
   "cell_type": "markdown",
   "id": "4e5dd8df-48a4-42d2-b970-8b79d038d1b0",
   "metadata": {},
   "source": [
    "#### Negative Slicing\n",
    "- Use the minus operator to refer to an index from the end (Negative index starts **-1** from end of array)"
   ]
  },
  {
   "cell_type": "code",
   "execution_count": 36,
   "id": "b7439773-f735-47c2-a28d-5e162d880d92",
   "metadata": {},
   "outputs": [
    {
     "name": "stdout",
     "output_type": "stream",
     "text": [
      "[5 6]\n"
     ]
    }
   ],
   "source": [
    "print(arr[-3:-1])"
   ]
  },
  {
   "cell_type": "markdown",
   "id": "b4c3d88b-ac42-44d3-8b5c-258c92f9b183",
   "metadata": {},
   "source": [
    "### 2-D Array\n",
    "- **arr[row_start:row_end, col_start:col_end]**"
   ]
  },
  {
   "cell_type": "code",
   "execution_count": 54,
   "id": "11c4fcc6-290c-4c86-8052-5844cf604080",
   "metadata": {},
   "outputs": [
    {
     "name": "stdout",
     "output_type": "stream",
     "text": [
      "(2, 5)\n",
      "[[1 2 3]\n",
      " [6 7 8]]\n"
     ]
    }
   ],
   "source": [
    "arr = np.array([[1, 2, 3, 4, 5], [6, 7, 8, 9, 10]])\n",
    "print(arr.shape)\n",
    "print(arr[0:2, 0:3])"
   ]
  },
  {
   "cell_type": "code",
   "execution_count": null,
   "id": "e89fd3ef-4e52-4c26-b9d4-7dbfc04f8d53",
   "metadata": {},
   "outputs": [],
   "source": []
  }
 ],
 "metadata": {
  "kernelspec": {
   "display_name": "Python 3 (ipykernel)",
   "language": "python",
   "name": "python3"
  },
  "language_info": {
   "codemirror_mode": {
    "name": "ipython",
    "version": 3
   },
   "file_extension": ".py",
   "mimetype": "text/x-python",
   "name": "python",
   "nbconvert_exporter": "python",
   "pygments_lexer": "ipython3",
   "version": "3.13.2"
  }
 },
 "nbformat": 4,
 "nbformat_minor": 5
}
