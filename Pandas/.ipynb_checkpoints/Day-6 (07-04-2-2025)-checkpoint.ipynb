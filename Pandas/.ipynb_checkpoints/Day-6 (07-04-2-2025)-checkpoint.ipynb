{
 "cells": [
  {
   "cell_type": "code",
   "execution_count": 3,
   "id": "90bff752-ff21-426a-a772-db8bf77f5f95",
   "metadata": {},
   "outputs": [],
   "source": [
    "import pandas as pd"
   ]
  },
  {
   "cell_type": "markdown",
   "id": "ea8add6b-0aeb-4401-b45a-641cc63e37d0",
   "metadata": {},
   "source": [
    "## **9. Aggregate Functions**"
   ]
  },
  {
   "cell_type": "code",
   "execution_count": 14,
   "id": "0f708270-422a-4922-95c3-49284bcbc491",
   "metadata": {},
   "outputs": [
    {
     "data": {
      "text/html": [
       "<div>\n",
       "<style scoped>\n",
       "    .dataframe tbody tr th:only-of-type {\n",
       "        vertical-align: middle;\n",
       "    }\n",
       "\n",
       "    .dataframe tbody tr th {\n",
       "        vertical-align: top;\n",
       "    }\n",
       "\n",
       "    .dataframe thead th {\n",
       "        text-align: right;\n",
       "    }\n",
       "</style>\n",
       "<table border=\"1\" class=\"dataframe\">\n",
       "  <thead>\n",
       "    <tr style=\"text-align: right;\">\n",
       "      <th></th>\n",
       "      <th>Sales Person</th>\n",
       "      <th>Country</th>\n",
       "      <th>Product</th>\n",
       "      <th>Date</th>\n",
       "      <th>Amount</th>\n",
       "      <th>Boxes Shipped</th>\n",
       "    </tr>\n",
       "  </thead>\n",
       "  <tbody>\n",
       "    <tr>\n",
       "      <th>0</th>\n",
       "      <td>Jehu Rudeforth</td>\n",
       "      <td>UK</td>\n",
       "      <td>Mint Chip Choco</td>\n",
       "      <td>04-Jan-22</td>\n",
       "      <td>$5,320</td>\n",
       "      <td>180</td>\n",
       "    </tr>\n",
       "    <tr>\n",
       "      <th>1</th>\n",
       "      <td>Van Tuxwell</td>\n",
       "      <td>India</td>\n",
       "      <td>85% Dark Bars</td>\n",
       "      <td>01-Aug-22</td>\n",
       "      <td>$7,896</td>\n",
       "      <td>94</td>\n",
       "    </tr>\n",
       "    <tr>\n",
       "      <th>2</th>\n",
       "      <td>Gigi Bohling</td>\n",
       "      <td>India</td>\n",
       "      <td>Peanut Butter Cubes</td>\n",
       "      <td>07-Jul-22</td>\n",
       "      <td>$4,501</td>\n",
       "      <td>91</td>\n",
       "    </tr>\n",
       "    <tr>\n",
       "      <th>3</th>\n",
       "      <td>Jan Morforth</td>\n",
       "      <td>Australia</td>\n",
       "      <td>Peanut Butter Cubes</td>\n",
       "      <td>27-Apr-22</td>\n",
       "      <td>$12,726</td>\n",
       "      <td>342</td>\n",
       "    </tr>\n",
       "    <tr>\n",
       "      <th>4</th>\n",
       "      <td>Jehu Rudeforth</td>\n",
       "      <td>UK</td>\n",
       "      <td>Peanut Butter Cubes</td>\n",
       "      <td>24-Feb-22</td>\n",
       "      <td>$13,685</td>\n",
       "      <td>184</td>\n",
       "    </tr>\n",
       "    <tr>\n",
       "      <th>...</th>\n",
       "      <td>...</td>\n",
       "      <td>...</td>\n",
       "      <td>...</td>\n",
       "      <td>...</td>\n",
       "      <td>...</td>\n",
       "      <td>...</td>\n",
       "    </tr>\n",
       "    <tr>\n",
       "      <th>1089</th>\n",
       "      <td>Karlen McCaffrey</td>\n",
       "      <td>Australia</td>\n",
       "      <td>Spicy Special Slims</td>\n",
       "      <td>17-May-22</td>\n",
       "      <td>$4,410</td>\n",
       "      <td>323</td>\n",
       "    </tr>\n",
       "    <tr>\n",
       "      <th>1090</th>\n",
       "      <td>Jehu Rudeforth</td>\n",
       "      <td>USA</td>\n",
       "      <td>White Choc</td>\n",
       "      <td>07-Jun-22</td>\n",
       "      <td>$6,559</td>\n",
       "      <td>119</td>\n",
       "    </tr>\n",
       "    <tr>\n",
       "      <th>1091</th>\n",
       "      <td>Ches Bonnell</td>\n",
       "      <td>Canada</td>\n",
       "      <td>Organic Choco Syrup</td>\n",
       "      <td>26-Jul-22</td>\n",
       "      <td>$574</td>\n",
       "      <td>217</td>\n",
       "    </tr>\n",
       "    <tr>\n",
       "      <th>1092</th>\n",
       "      <td>Dotty Strutley</td>\n",
       "      <td>India</td>\n",
       "      <td>Eclairs</td>\n",
       "      <td>28-Jul-22</td>\n",
       "      <td>$2,086</td>\n",
       "      <td>384</td>\n",
       "    </tr>\n",
       "    <tr>\n",
       "      <th>1093</th>\n",
       "      <td>Karlen McCaffrey</td>\n",
       "      <td>India</td>\n",
       "      <td>70% Dark Bites</td>\n",
       "      <td>23-May-22</td>\n",
       "      <td>$5,075</td>\n",
       "      <td>344</td>\n",
       "    </tr>\n",
       "  </tbody>\n",
       "</table>\n",
       "<p>1094 rows × 6 columns</p>\n",
       "</div>"
      ],
      "text/plain": [
       "          Sales Person    Country              Product       Date    Amount  \\\n",
       "0       Jehu Rudeforth         UK      Mint Chip Choco  04-Jan-22   $5,320    \n",
       "1          Van Tuxwell      India        85% Dark Bars  01-Aug-22   $7,896    \n",
       "2         Gigi Bohling      India  Peanut Butter Cubes  07-Jul-22   $4,501    \n",
       "3         Jan Morforth  Australia  Peanut Butter Cubes  27-Apr-22  $12,726    \n",
       "4       Jehu Rudeforth         UK  Peanut Butter Cubes  24-Feb-22  $13,685    \n",
       "...                ...        ...                  ...        ...       ...   \n",
       "1089  Karlen McCaffrey  Australia  Spicy Special Slims  17-May-22   $4,410    \n",
       "1090    Jehu Rudeforth        USA           White Choc  07-Jun-22   $6,559    \n",
       "1091      Ches Bonnell     Canada  Organic Choco Syrup  26-Jul-22     $574    \n",
       "1092    Dotty Strutley      India              Eclairs  28-Jul-22   $2,086    \n",
       "1093  Karlen McCaffrey      India       70% Dark Bites  23-May-22   $5,075    \n",
       "\n",
       "      Boxes Shipped  \n",
       "0               180  \n",
       "1                94  \n",
       "2                91  \n",
       "3               342  \n",
       "4               184  \n",
       "...             ...  \n",
       "1089            323  \n",
       "1090            119  \n",
       "1091            217  \n",
       "1092            384  \n",
       "1093            344  \n",
       "\n",
       "[1094 rows x 6 columns]"
      ]
     },
     "execution_count": 14,
     "metadata": {},
     "output_type": "execute_result"
    }
   ],
   "source": [
    "df = pd.read_csv(\"datasets/chocolate.csv\")\n",
    "df"
   ]
  },
  {
   "cell_type": "code",
   "execution_count": 15,
   "id": "d3736120-b9a1-4e9e-b62c-85d814b2697f",
   "metadata": {},
   "outputs": [
    {
     "name": "stdout",
     "output_type": "stream",
     "text": [
      "<class 'pandas.core.frame.DataFrame'>\n",
      "RangeIndex: 1094 entries, 0 to 1093\n",
      "Data columns (total 6 columns):\n",
      " #   Column         Non-Null Count  Dtype \n",
      "---  ------         --------------  ----- \n",
      " 0   Sales Person   1094 non-null   object\n",
      " 1   Country        1094 non-null   object\n",
      " 2   Product        1094 non-null   object\n",
      " 3   Date           1094 non-null   object\n",
      " 4   Amount         1094 non-null   object\n",
      " 5   Boxes Shipped  1094 non-null   int64 \n",
      "dtypes: int64(1), object(5)\n",
      "memory usage: 51.4+ KB\n"
     ]
    }
   ],
   "source": [
    "df.info()"
   ]
  },
  {
   "cell_type": "markdown",
   "id": "d2c58c2e-8490-45f5-9361-24d3bd97b404",
   "metadata": {},
   "source": [
    "---\n",
    "#### **df[\"column_name\"].sum()** : Returns the sum of all values in a column."
   ]
  },
  {
   "cell_type": "code",
   "execution_count": 18,
   "id": "0aef6eb1-507c-4a84-9d21-e24db3d7387e",
   "metadata": {},
   "outputs": [
    {
     "data": {
      "text/plain": [
       "np.int64(177007)"
      ]
     },
     "execution_count": 18,
     "metadata": {},
     "output_type": "execute_result"
    }
   ],
   "source": [
    "df['Boxes Shipped'].sum()"
   ]
  },
  {
   "cell_type": "markdown",
   "id": "9c229ad1-72d0-4fb8-b375-9cf5b18a226c",
   "metadata": {},
   "source": [
    "#### **df[\"column_name\"].min()**: Returns the minimum value in a column.\n"
   ]
  },
  {
   "cell_type": "code",
   "execution_count": 16,
   "id": "b8892373-cb89-488c-b775-86bf90b97eba",
   "metadata": {},
   "outputs": [
    {
     "data": {
      "text/plain": [
       "np.int64(1)"
      ]
     },
     "execution_count": 16,
     "metadata": {},
     "output_type": "execute_result"
    }
   ],
   "source": [
    "df['Boxes Shipped'].min()"
   ]
  },
  {
   "cell_type": "code",
   "execution_count": 17,
   "id": "c0a92664-e59a-47b8-9bcf-bb417e6f3c96",
   "metadata": {},
   "outputs": [
    {
     "data": {
      "text/plain": [
       "'Australia'"
      ]
     },
     "execution_count": 17,
     "metadata": {},
     "output_type": "execute_result"
    }
   ],
   "source": [
    "df['Country'].min()"
   ]
  },
  {
   "cell_type": "markdown",
   "id": "63ea7054-7c61-4de1-a943-304156877012",
   "metadata": {},
   "source": [
    "#### **df[\"column_name\"].max()**: Returns the maximum value in a column."
   ]
  },
  {
   "cell_type": "code",
   "execution_count": 10,
   "id": "3f69ceda-4bf6-4913-9ef2-3f73f4dbcbe3",
   "metadata": {},
   "outputs": [
    {
     "data": {
      "text/plain": [
       "np.int64(709)"
      ]
     },
     "execution_count": 10,
     "metadata": {},
     "output_type": "execute_result"
    }
   ],
   "source": [
    "df['Boxes Shipped'].max()"
   ]
  },
  {
   "cell_type": "markdown",
   "id": "208611a0-4c98-449b-8e25-169b21926c52",
   "metadata": {},
   "source": [
    "#### **df[\"column_name\"].count()**: Counts the non-null values in a column."
   ]
  },
  {
   "cell_type": "code",
   "execution_count": 12,
   "id": "adbf4b6f-a956-4fe0-bf43-25d23ed0c068",
   "metadata": {},
   "outputs": [
    {
     "data": {
      "text/plain": [
       "np.int64(1094)"
      ]
     },
     "execution_count": 12,
     "metadata": {},
     "output_type": "execute_result"
    }
   ],
   "source": [
    "df['Country'].count()"
   ]
  },
  {
   "cell_type": "markdown",
   "id": "6e109039-760a-4316-a5ad-8c935cf26895",
   "metadata": {},
   "source": [
    "---\n",
    "## **10. Statistical Functions**"
   ]
  },
  {
   "cell_type": "markdown",
   "id": "6b2bba5c-f273-440f-8afa-8f68d3d8f51e",
   "metadata": {},
   "source": [
    "#### **df[\"column_name\"].mean()**: Returns the average value of a column."
   ]
  },
  {
   "cell_type": "code",
   "execution_count": 13,
   "id": "ed326bd5-d1bf-415c-91ca-8bbbc8ee1369",
   "metadata": {},
   "outputs": [
    {
     "data": {
      "text/plain": [
       "np.float64(161.7979890310786)"
      ]
     },
     "execution_count": 13,
     "metadata": {},
     "output_type": "execute_result"
    }
   ],
   "source": [
    "df['Boxes Shipped'].mean()"
   ]
  },
  {
   "cell_type": "markdown",
   "id": "17caf500-166e-4acc-8a3d-be8da5984af8",
   "metadata": {},
   "source": [
    "#### **df[\"column_name\"].median()**: Returns the middle value of a column."
   ]
  },
  {
   "cell_type": "code",
   "execution_count": 20,
   "id": "e0d516d8-95e8-4f15-a2c7-08236806e302",
   "metadata": {},
   "outputs": [
    {
     "data": {
      "text/plain": [
       "np.float64(135.0)"
      ]
     },
     "execution_count": 20,
     "metadata": {},
     "output_type": "execute_result"
    }
   ],
   "source": [
    "df['Boxes Shipped'].median()"
   ]
  },
  {
   "cell_type": "markdown",
   "id": "e9d0631e-15f7-4e6f-b2d4-a195033455b9",
   "metadata": {},
   "source": [
    "#### **df[\"column_name\"].mode()**: Returns the most frequent value(s) in a column."
   ]
  },
  {
   "cell_type": "code",
   "execution_count": 21,
   "id": "88bd4c60-bc0d-40fb-bb34-f2f8f323c4d9",
   "metadata": {},
   "outputs": [
    {
     "data": {
      "text/plain": [
       "0    24\n",
       "Name: Boxes Shipped, dtype: int64"
      ]
     },
     "execution_count": 21,
     "metadata": {},
     "output_type": "execute_result"
    }
   ],
   "source": [
    "df['Boxes Shipped'].mode()"
   ]
  },
  {
   "cell_type": "markdown",
   "id": "88ffa4f7-db5c-41cb-a81c-9a7ce33e2e0c",
   "metadata": {},
   "source": [
    "#### **df[\"column_name\"].std()**: Standard deviation"
   ]
  },
  {
   "cell_type": "code",
   "execution_count": 22,
   "id": "4ee38322-81bd-4f87-ab50-a6c52c88ce41",
   "metadata": {},
   "outputs": [
    {
     "data": {
      "text/plain": [
       "np.float64(121.54414540536331)"
      ]
     },
     "execution_count": 22,
     "metadata": {},
     "output_type": "execute_result"
    }
   ],
   "source": [
    "df['Boxes Shipped'].std()"
   ]
  },
  {
   "cell_type": "markdown",
   "id": "f0cb8177-66ad-4a9a-b808-086423808c0e",
   "metadata": {},
   "source": [
    "#### **df[\"column_name\"].var()**: Variance"
   ]
  },
  {
   "cell_type": "code",
   "execution_count": 23,
   "id": "a662e0aa-8d80-4bf0-b9d4-2e230dde2054",
   "metadata": {},
   "outputs": [
    {
     "data": {
      "text/plain": [
       "np.float64(14772.979282320099)"
      ]
     },
     "execution_count": 23,
     "metadata": {},
     "output_type": "execute_result"
    }
   ],
   "source": [
    "df['Boxes Shipped'].var()"
   ]
  },
  {
   "cell_type": "markdown",
   "id": "e8097c1b-9c4c-49bc-9d22-63a02686a440",
   "metadata": {},
   "source": [
    "#### **df.describe()**: Summary of stats of numerical columns"
   ]
  },
  {
   "cell_type": "code",
   "execution_count": 25,
   "id": "6319ef97-c44d-4641-a913-bdf9f27e7307",
   "metadata": {},
   "outputs": [
    {
     "data": {
      "text/html": [
       "<div>\n",
       "<style scoped>\n",
       "    .dataframe tbody tr th:only-of-type {\n",
       "        vertical-align: middle;\n",
       "    }\n",
       "\n",
       "    .dataframe tbody tr th {\n",
       "        vertical-align: top;\n",
       "    }\n",
       "\n",
       "    .dataframe thead th {\n",
       "        text-align: right;\n",
       "    }\n",
       "</style>\n",
       "<table border=\"1\" class=\"dataframe\">\n",
       "  <thead>\n",
       "    <tr style=\"text-align: right;\">\n",
       "      <th></th>\n",
       "      <th>Boxes Shipped</th>\n",
       "    </tr>\n",
       "  </thead>\n",
       "  <tbody>\n",
       "    <tr>\n",
       "      <th>count</th>\n",
       "      <td>1094.000000</td>\n",
       "    </tr>\n",
       "    <tr>\n",
       "      <th>mean</th>\n",
       "      <td>161.797989</td>\n",
       "    </tr>\n",
       "    <tr>\n",
       "      <th>std</th>\n",
       "      <td>121.544145</td>\n",
       "    </tr>\n",
       "    <tr>\n",
       "      <th>min</th>\n",
       "      <td>1.000000</td>\n",
       "    </tr>\n",
       "    <tr>\n",
       "      <th>25%</th>\n",
       "      <td>70.000000</td>\n",
       "    </tr>\n",
       "    <tr>\n",
       "      <th>50%</th>\n",
       "      <td>135.000000</td>\n",
       "    </tr>\n",
       "    <tr>\n",
       "      <th>75%</th>\n",
       "      <td>228.750000</td>\n",
       "    </tr>\n",
       "    <tr>\n",
       "      <th>max</th>\n",
       "      <td>709.000000</td>\n",
       "    </tr>\n",
       "  </tbody>\n",
       "</table>\n",
       "</div>"
      ],
      "text/plain": [
       "       Boxes Shipped\n",
       "count    1094.000000\n",
       "mean      161.797989\n",
       "std       121.544145\n",
       "min         1.000000\n",
       "25%        70.000000\n",
       "50%       135.000000\n",
       "75%       228.750000\n",
       "max       709.000000"
      ]
     },
     "execution_count": 25,
     "metadata": {},
     "output_type": "execute_result"
    }
   ],
   "source": [
    "df.describe()"
   ]
  },
  {
   "cell_type": "markdown",
   "id": "cd36f9f9-fe7a-46af-b4bc-6ec182ffb43b",
   "metadata": {},
   "source": [
    "---\n",
    "### **<center><span style=\"color:brown\">Grouping Data</span></center>**\n",
    "#### **df.groupby(\"column_name\").aggregate_function()** : split your data into groups based on some column(s), then apply aggregation (like sum, mean, count, etc.).\n",
    "\n"
   ]
  },
  {
   "cell_type": "code",
   "execution_count": 31,
   "id": "2bf2ac3f-1811-4ecf-bd2d-f15c4ef0f096",
   "metadata": {},
   "outputs": [
    {
     "data": {
      "text/html": [
       "<div>\n",
       "<style scoped>\n",
       "    .dataframe tbody tr th:only-of-type {\n",
       "        vertical-align: middle;\n",
       "    }\n",
       "\n",
       "    .dataframe tbody tr th {\n",
       "        vertical-align: top;\n",
       "    }\n",
       "\n",
       "    .dataframe thead th {\n",
       "        text-align: right;\n",
       "    }\n",
       "</style>\n",
       "<table border=\"1\" class=\"dataframe\">\n",
       "  <thead>\n",
       "    <tr style=\"text-align: right;\">\n",
       "      <th></th>\n",
       "      <th>Employee</th>\n",
       "      <th>Department</th>\n",
       "      <th>Salary</th>\n",
       "      <th>Age</th>\n",
       "      <th>Gender</th>\n",
       "    </tr>\n",
       "  </thead>\n",
       "  <tbody>\n",
       "    <tr>\n",
       "      <th>0</th>\n",
       "      <td>Emp1</td>\n",
       "      <td>Marketing</td>\n",
       "      <td>52662</td>\n",
       "      <td>53</td>\n",
       "      <td>Male</td>\n",
       "    </tr>\n",
       "    <tr>\n",
       "      <th>1</th>\n",
       "      <td>Emp2</td>\n",
       "      <td>Sales</td>\n",
       "      <td>38392</td>\n",
       "      <td>54</td>\n",
       "      <td>Female</td>\n",
       "    </tr>\n",
       "    <tr>\n",
       "      <th>2</th>\n",
       "      <td>Emp3</td>\n",
       "      <td>Finance</td>\n",
       "      <td>60535</td>\n",
       "      <td>22</td>\n",
       "      <td>Male</td>\n",
       "    </tr>\n",
       "    <tr>\n",
       "      <th>3</th>\n",
       "      <td>Emp4</td>\n",
       "      <td>Sales</td>\n",
       "      <td>43067</td>\n",
       "      <td>40</td>\n",
       "      <td>Female</td>\n",
       "    </tr>\n",
       "    <tr>\n",
       "      <th>4</th>\n",
       "      <td>Emp5</td>\n",
       "      <td>Sales</td>\n",
       "      <td>78033</td>\n",
       "      <td>23</td>\n",
       "      <td>Male</td>\n",
       "    </tr>\n",
       "    <tr>\n",
       "      <th>...</th>\n",
       "      <td>...</td>\n",
       "      <td>...</td>\n",
       "      <td>...</td>\n",
       "      <td>...</td>\n",
       "      <td>...</td>\n",
       "    </tr>\n",
       "    <tr>\n",
       "      <th>95</th>\n",
       "      <td>Emp96</td>\n",
       "      <td>Finance</td>\n",
       "      <td>67505</td>\n",
       "      <td>59</td>\n",
       "      <td>Female</td>\n",
       "    </tr>\n",
       "    <tr>\n",
       "      <th>96</th>\n",
       "      <td>Emp97</td>\n",
       "      <td>Sales</td>\n",
       "      <td>77323</td>\n",
       "      <td>29</td>\n",
       "      <td>Female</td>\n",
       "    </tr>\n",
       "    <tr>\n",
       "      <th>97</th>\n",
       "      <td>Emp98</td>\n",
       "      <td>HR</td>\n",
       "      <td>76645</td>\n",
       "      <td>48</td>\n",
       "      <td>Female</td>\n",
       "    </tr>\n",
       "    <tr>\n",
       "      <th>98</th>\n",
       "      <td>Emp99</td>\n",
       "      <td>HR</td>\n",
       "      <td>30854</td>\n",
       "      <td>48</td>\n",
       "      <td>Female</td>\n",
       "    </tr>\n",
       "    <tr>\n",
       "      <th>99</th>\n",
       "      <td>Emp100</td>\n",
       "      <td>IT</td>\n",
       "      <td>54548</td>\n",
       "      <td>55</td>\n",
       "      <td>Female</td>\n",
       "    </tr>\n",
       "  </tbody>\n",
       "</table>\n",
       "<p>100 rows × 5 columns</p>\n",
       "</div>"
      ],
      "text/plain": [
       "   Employee Department  Salary  Age  Gender\n",
       "0      Emp1  Marketing   52662   53    Male\n",
       "1      Emp2      Sales   38392   54  Female\n",
       "2      Emp3    Finance   60535   22    Male\n",
       "3      Emp4      Sales   43067   40  Female\n",
       "4      Emp5      Sales   78033   23    Male\n",
       "..      ...        ...     ...  ...     ...\n",
       "95    Emp96    Finance   67505   59  Female\n",
       "96    Emp97      Sales   77323   29  Female\n",
       "97    Emp98         HR   76645   48  Female\n",
       "98    Emp99         HR   30854   48  Female\n",
       "99   Emp100         IT   54548   55  Female\n",
       "\n",
       "[100 rows x 5 columns]"
      ]
     },
     "execution_count": 31,
     "metadata": {},
     "output_type": "execute_result"
    }
   ],
   "source": [
    "df = pd.read_csv('datasets/employees.csv')\n",
    "df"
   ]
  },
  {
   "cell_type": "code",
   "execution_count": 41,
   "id": "de992298-0eb0-45b1-ba58-b17a4ecb84d4",
   "metadata": {},
   "outputs": [
    {
     "name": "stdout",
     "output_type": "stream",
     "text": [
      "<pandas.core.groupby.generic.DataFrameGroupBy object at 0x116aa0e60>\n"
     ]
    }
   ],
   "source": [
    "grouped_data = df.groupby('Department')\n",
    "print(grouped_data )"
   ]
  },
  {
   "cell_type": "markdown",
   "id": "a6bb9a7e-11f7-40d6-aa1f-e4babf04bcf6",
   "metadata": {},
   "source": [
    "#### **1. GroupBy with Aggregation on a Single Column**\n",
    "#### **`df.groupby(\"column_name\")[\"target_column\"].agg_function()`**\n"
   ]
  },
  {
   "cell_type": "code",
   "execution_count": 42,
   "id": "c81eeb41-4d21-48c9-b7d6-cf3e19aa5a43",
   "metadata": {},
   "outputs": [
    {
     "data": {
      "text/plain": [
       "Department\n",
       "Finance      53235.687500\n",
       "HR           54252.619048\n",
       "IT           59009.277778\n",
       "Marketing    53007.884615\n",
       "Sales        57079.526316\n",
       "Name: Salary, dtype: float64"
      ]
     },
     "execution_count": 42,
     "metadata": {},
     "output_type": "execute_result"
    }
   ],
   "source": [
    "df.groupby('Department')[\"Salary\"].mean()"
   ]
  },
  {
   "cell_type": "code",
   "execution_count": 43,
   "id": "84acca59-2deb-4e0a-af16-c3aecfb23086",
   "metadata": {},
   "outputs": [
    {
     "data": {
      "text/plain": [
       "Department\n",
       "Finance       851771\n",
       "HR           1139305\n",
       "IT           1062167\n",
       "Marketing    1378205\n",
       "Sales        1084511\n",
       "Name: Salary, dtype: int64"
      ]
     },
     "execution_count": 43,
     "metadata": {},
     "output_type": "execute_result"
    }
   ],
   "source": [
    "df.groupby(\"Department\")[\"Salary\"].sum()"
   ]
  },
  {
   "cell_type": "code",
   "execution_count": 45,
   "id": "b1fdfa8b-c008-414a-a84a-c3f0c9026b1d",
   "metadata": {},
   "outputs": [
    {
     "data": {
      "text/plain": [
       "Department\n",
       "Finance      79850\n",
       "HR           79080\n",
       "IT           75453\n",
       "Marketing    78702\n",
       "Sales        78033\n",
       "Name: Salary, dtype: int64"
      ]
     },
     "execution_count": 45,
     "metadata": {},
     "output_type": "execute_result"
    }
   ],
   "source": [
    "df.groupby(\"Department\")[\"Salary\"].max()"
   ]
  },
  {
   "cell_type": "markdown",
   "id": "4fd9494b-bcc6-4c14-a8ae-7b461ea2796a",
   "metadata": {},
   "source": [
    "#### **2. GroupBy with Multiple Columns**\n",
    "#### **`df.groupby([\"col1\", \"col2\"])[\"target_col\"].agg_function()`**"
   ]
  },
  {
   "cell_type": "code",
   "execution_count": 47,
   "id": "deac93b7-f495-449c-a25b-067989bb0290",
   "metadata": {},
   "outputs": [
    {
     "data": {
      "text/plain": [
       "Department  Gender\n",
       "Finance     Female    329366\n",
       "            Male      522405\n",
       "HR          Female    539845\n",
       "            Male      599460\n",
       "IT          Female    671432\n",
       "            Male      390735\n",
       "Marketing   Female    796972\n",
       "            Male      581233\n",
       "Sales       Female    496572\n",
       "            Male      587939\n",
       "Name: Salary, dtype: int64"
      ]
     },
     "execution_count": 47,
     "metadata": {},
     "output_type": "execute_result"
    }
   ],
   "source": [
    "df.groupby([\"Department\", \"Gender\"])[\"Salary\"].sum()"
   ]
  },
  {
   "cell_type": "markdown",
   "id": "639b2a68-619b-4c0d-88cb-976808cb3011",
   "metadata": {
    "jp-MarkdownHeadingCollapsed": true
   },
   "source": [
    "---\n",
    "### **<center><span style=\"color:brown\">agg() function</span></center>**\n",
    "#### **one or more functions like sum, mean, min, max, etc., to a DataFrame or Series.**\n"
   ]
  },
  {
   "cell_type": "markdown",
   "id": "5727e881-76bf-4d45-9310-e93dec064899",
   "metadata": {},
   "source": [
    "#### **1. Single Column – One Function**\n",
    "#### **`df[\"column\"].agg(\"function\")`**"
   ]
  },
  {
   "cell_type": "code",
   "execution_count": 49,
   "id": "dab24a9c-3d5f-4645-acf7-457170c8685d",
   "metadata": {},
   "outputs": [
    {
     "data": {
      "text/plain": [
       "np.int64(5515959)"
      ]
     },
     "execution_count": 49,
     "metadata": {},
     "output_type": "execute_result"
    }
   ],
   "source": [
    "df[\"Salary\"].agg(\"sum\")"
   ]
  },
  {
   "cell_type": "markdown",
   "id": "b4dd6f84-f700-48a3-8f71-fd15a8e59880",
   "metadata": {},
   "source": [
    "#### **2. Single Column – Multiple Functions**\n",
    "#### **`df[\"column\"].agg([\"func1\", \"func2\", ...])`**"
   ]
  },
  {
   "cell_type": "code",
   "execution_count": 52,
   "id": "19cdf665-1b01-4aee-b80f-a0724b37e852",
   "metadata": {},
   "outputs": [
    {
     "data": {
      "text/plain": [
       "sum    5515959\n",
       "min      30206\n",
       "max      79850\n",
       "Name: Salary, dtype: int64"
      ]
     },
     "execution_count": 52,
     "metadata": {},
     "output_type": "execute_result"
    }
   ],
   "source": [
    "df[\"Salary\"].agg([\"sum\",\"min\",\"max\"])"
   ]
  },
  {
   "cell_type": "markdown",
   "id": "17d83b27-4e34-4ef5-ad39-5a26c30b676a",
   "metadata": {},
   "source": [
    "#### **3. Multiple Columns – Different Functions**\n",
    "```python\n",
    "df.agg({\n",
    "    \"column1\": [\"func1\", \"func2\"],\n",
    "    \"column2\": [\"func3\"]\n",
    "})\n",
    "```"
   ]
  },
  {
   "cell_type": "code",
   "execution_count": 53,
   "id": "a5bc4b52-2432-44c8-8483-dad8f171022b",
   "metadata": {},
   "outputs": [
    {
     "data": {
      "text/html": [
       "<div>\n",
       "<style scoped>\n",
       "    .dataframe tbody tr th:only-of-type {\n",
       "        vertical-align: middle;\n",
       "    }\n",
       "\n",
       "    .dataframe tbody tr th {\n",
       "        vertical-align: top;\n",
       "    }\n",
       "\n",
       "    .dataframe thead th {\n",
       "        text-align: right;\n",
       "    }\n",
       "</style>\n",
       "<table border=\"1\" class=\"dataframe\">\n",
       "  <thead>\n",
       "    <tr style=\"text-align: right;\">\n",
       "      <th></th>\n",
       "      <th>Salary</th>\n",
       "      <th>Age</th>\n",
       "    </tr>\n",
       "  </thead>\n",
       "  <tbody>\n",
       "    <tr>\n",
       "      <th>min</th>\n",
       "      <td>30206</td>\n",
       "      <td>NaN</td>\n",
       "    </tr>\n",
       "    <tr>\n",
       "      <th>max</th>\n",
       "      <td>79850</td>\n",
       "      <td>59.0</td>\n",
       "    </tr>\n",
       "  </tbody>\n",
       "</table>\n",
       "</div>"
      ],
      "text/plain": [
       "     Salary   Age\n",
       "min   30206   NaN\n",
       "max   79850  59.0"
      ]
     },
     "execution_count": 53,
     "metadata": {},
     "output_type": "execute_result"
    }
   ],
   "source": [
    "df.agg({\n",
    "    \"Salary\":[\"min\",\"max\"],\n",
    "    \"Age\":[\"max\"]\n",
    "})"
   ]
  },
  {
   "cell_type": "markdown",
   "id": "81b33ccc-882a-447e-b0a7-283743af7b46",
   "metadata": {},
   "source": [
    "#### **4. With Custom Function Names**\n",
    "#### **`df[\"column\"].agg(name1=\"func1\", name2=\"func2\")`**"
   ]
  },
  {
   "cell_type": "code",
   "execution_count": 55,
   "id": "8862b30f-86a3-40ad-8e4b-bfdb5c42f654",
   "metadata": {},
   "outputs": [
    {
     "data": {
      "text/plain": [
       "max_sal    79850\n",
       "min_sal    30206\n",
       "Name: Salary, dtype: int64"
      ]
     },
     "execution_count": 55,
     "metadata": {},
     "output_type": "execute_result"
    }
   ],
   "source": [
    "df[\"Salary\"].agg(max_sal=\"max\",min_sal = \"min\")\n"
   ]
  },
  {
   "cell_type": "markdown",
   "id": "f71b1bd4-d34c-4b43-b927-b184536a5e66",
   "metadata": {},
   "source": [
    "---\n",
    "end"
   ]
  },
  {
   "cell_type": "markdown",
   "id": "cbaadb57-c11e-4022-a73e-4dc840967a92",
   "metadata": {},
   "source": [
    "### **3. GroupBy with Multiple Aggregations**\n",
    "#### **`df.groupby(\"column\")[\"target_column\"].agg([\"mean\", \"min\", \"max\"])`**"
   ]
  },
  {
   "cell_type": "code",
   "execution_count": 57,
   "id": "1146cd0a-d7da-4d33-a46f-5a24ce678017",
   "metadata": {},
   "outputs": [
    {
     "data": {
      "text/html": [
       "<div>\n",
       "<style scoped>\n",
       "    .dataframe tbody tr th:only-of-type {\n",
       "        vertical-align: middle;\n",
       "    }\n",
       "\n",
       "    .dataframe tbody tr th {\n",
       "        vertical-align: top;\n",
       "    }\n",
       "\n",
       "    .dataframe thead th {\n",
       "        text-align: right;\n",
       "    }\n",
       "</style>\n",
       "<table border=\"1\" class=\"dataframe\">\n",
       "  <thead>\n",
       "    <tr style=\"text-align: right;\">\n",
       "      <th></th>\n",
       "      <th>min</th>\n",
       "      <th>max</th>\n",
       "      <th>mean</th>\n",
       "    </tr>\n",
       "    <tr>\n",
       "      <th>Department</th>\n",
       "      <th></th>\n",
       "      <th></th>\n",
       "      <th></th>\n",
       "    </tr>\n",
       "  </thead>\n",
       "  <tbody>\n",
       "    <tr>\n",
       "      <th>Finance</th>\n",
       "      <td>30206</td>\n",
       "      <td>79850</td>\n",
       "      <td>53235.687500</td>\n",
       "    </tr>\n",
       "    <tr>\n",
       "      <th>HR</th>\n",
       "      <td>30854</td>\n",
       "      <td>79080</td>\n",
       "      <td>54252.619048</td>\n",
       "    </tr>\n",
       "    <tr>\n",
       "      <th>IT</th>\n",
       "      <td>43545</td>\n",
       "      <td>75453</td>\n",
       "      <td>59009.277778</td>\n",
       "    </tr>\n",
       "    <tr>\n",
       "      <th>Marketing</th>\n",
       "      <td>30663</td>\n",
       "      <td>78702</td>\n",
       "      <td>53007.884615</td>\n",
       "    </tr>\n",
       "    <tr>\n",
       "      <th>Sales</th>\n",
       "      <td>31678</td>\n",
       "      <td>78033</td>\n",
       "      <td>57079.526316</td>\n",
       "    </tr>\n",
       "  </tbody>\n",
       "</table>\n",
       "</div>"
      ],
      "text/plain": [
       "              min    max          mean\n",
       "Department                            \n",
       "Finance     30206  79850  53235.687500\n",
       "HR          30854  79080  54252.619048\n",
       "IT          43545  75453  59009.277778\n",
       "Marketing   30663  78702  53007.884615\n",
       "Sales       31678  78033  57079.526316"
      ]
     },
     "execution_count": 57,
     "metadata": {},
     "output_type": "execute_result"
    }
   ],
   "source": [
    "df.groupby(\"Department\")[\"Salary\"].agg([\"min\",\"max\",\"mean\"])"
   ]
  },
  {
   "cell_type": "markdown",
   "id": "c94714e2-e32f-4f94-96f6-001aa1500410",
   "metadata": {},
   "source": [
    "#### **4. GroupBy on Whole DataFrame**\n",
    "#### **`df.groupby(\"column\").agg_function()`**"
   ]
  },
  {
   "cell_type": "code",
   "execution_count": 59,
   "id": "8756ea77-558b-47a8-a54d-2c3e9478a3ed",
   "metadata": {},
   "outputs": [
    {
     "data": {
      "text/html": [
       "<div>\n",
       "<style scoped>\n",
       "    .dataframe tbody tr th:only-of-type {\n",
       "        vertical-align: middle;\n",
       "    }\n",
       "\n",
       "    .dataframe tbody tr th {\n",
       "        vertical-align: top;\n",
       "    }\n",
       "\n",
       "    .dataframe thead th {\n",
       "        text-align: right;\n",
       "    }\n",
       "</style>\n",
       "<table border=\"1\" class=\"dataframe\">\n",
       "  <thead>\n",
       "    <tr style=\"text-align: right;\">\n",
       "      <th></th>\n",
       "      <th>Employee</th>\n",
       "      <th>Salary</th>\n",
       "      <th>Age</th>\n",
       "      <th>Gender</th>\n",
       "    </tr>\n",
       "    <tr>\n",
       "      <th>Department</th>\n",
       "      <th></th>\n",
       "      <th></th>\n",
       "      <th></th>\n",
       "      <th></th>\n",
       "    </tr>\n",
       "  </thead>\n",
       "  <tbody>\n",
       "    <tr>\n",
       "      <th>Finance</th>\n",
       "      <td>Emp12</td>\n",
       "      <td>30206</td>\n",
       "      <td>22</td>\n",
       "      <td>Female</td>\n",
       "    </tr>\n",
       "    <tr>\n",
       "      <th>HR</th>\n",
       "      <td>Emp14</td>\n",
       "      <td>30854</td>\n",
       "      <td>23</td>\n",
       "      <td>Female</td>\n",
       "    </tr>\n",
       "    <tr>\n",
       "      <th>IT</th>\n",
       "      <td>Emp100</td>\n",
       "      <td>43545</td>\n",
       "      <td>24</td>\n",
       "      <td>Female</td>\n",
       "    </tr>\n",
       "    <tr>\n",
       "      <th>Marketing</th>\n",
       "      <td>Emp1</td>\n",
       "      <td>30663</td>\n",
       "      <td>22</td>\n",
       "      <td>Female</td>\n",
       "    </tr>\n",
       "    <tr>\n",
       "      <th>Sales</th>\n",
       "      <td>Emp10</td>\n",
       "      <td>31678</td>\n",
       "      <td>22</td>\n",
       "      <td>Female</td>\n",
       "    </tr>\n",
       "  </tbody>\n",
       "</table>\n",
       "</div>"
      ],
      "text/plain": [
       "           Employee  Salary  Age  Gender\n",
       "Department                              \n",
       "Finance       Emp12   30206   22  Female\n",
       "HR            Emp14   30854   23  Female\n",
       "IT           Emp100   43545   24  Female\n",
       "Marketing      Emp1   30663   22  Female\n",
       "Sales         Emp10   31678   22  Female"
      ]
     },
     "execution_count": 59,
     "metadata": {},
     "output_type": "execute_result"
    }
   ],
   "source": [
    "df.groupby(\"Department\").min()\n"
   ]
  },
  {
   "cell_type": "code",
   "execution_count": null,
   "id": "5f285ebb-2d69-47d2-bbed-c99b078d7123",
   "metadata": {},
   "outputs": [],
   "source": []
  }
 ],
 "metadata": {
  "kernelspec": {
   "display_name": "Python 3 (ipykernel)",
   "language": "python",
   "name": "python3"
  },
  "language_info": {
   "codemirror_mode": {
    "name": "ipython",
    "version": 3
   },
   "file_extension": ".py",
   "mimetype": "text/x-python",
   "name": "python",
   "nbconvert_exporter": "python",
   "pygments_lexer": "ipython3",
   "version": "3.13.2"
  }
 },
 "nbformat": 4,
 "nbformat_minor": 5
}
