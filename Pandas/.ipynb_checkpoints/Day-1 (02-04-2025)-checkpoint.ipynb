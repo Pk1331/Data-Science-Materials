{
 "cells": [
  {
   "cell_type": "markdown",
   "id": "c40bd101-32e2-466b-ba8d-cbffd9d01cf8",
   "metadata": {},
   "source": [
    "### **Introduction to Pandas**\n",
    "\n",
    "- **Pandas** is a `Python library used for data manipulation and analysis`. It provides easy-to-use **data structures** like `Series (1D) and DataFrame (2D)` that help you work with structured data, like tables or spreadsheets\n",
    "\n",
    "- Pandas is a fast, powerful, flexible and easy to use open source data analysis and **manipulation tool**,\n",
    "built on top of the Python programming language.\n",
    "\n",
    "\n",
    "* The name of Pandas is derived from the word `Panel Data.` which refers to multi-dimensional structured datasets.\n",
    "* With Pandas we interact with Real World Data by Converting them into Data Frames\n",
    "* It makes tasks like `cleaning, filtering, and analyzing data much easier`.\n",
    "\n",
    "* NumPy = `Arrays`\n",
    "* Pandas = `Series` and `Data Frame` (Large Arrays)"
   ]
  },
  {
   "cell_type": "markdown",
   "id": "71e2b683-3d90-41de-91c1-8a91fc8ae21a",
   "metadata": {},
   "source": [
    "#### **Pandas Basic Commands**\n",
    "\n",
    "---\n",
    "\n",
    "- ! pip install Pandas\n",
    "- ! pip uninstall Pandas\n",
    "- ! pip install --upgrade pandas\n",
    "- ! pip show pandas\n",
    "- `pd.__version__  #(major_number.minor_number.revision_number)` (Big update, Small update, Bug Fix)"
   ]
  },
  {
   "cell_type": "code",
   "execution_count": 2,
   "id": "a302c86c-8081-4746-beb8-d37132f932f6",
   "metadata": {},
   "outputs": [],
   "source": [
    "import pandas as pd"
   ]
  },
  {
   "cell_type": "markdown",
   "id": "16978fdb-0f58-4c32-959a-c2eb451d0cac",
   "metadata": {
    "jp-MarkdownHeadingCollapsed": true
   },
   "source": [
    "### Checking Pandas Version"
   ]
  },
  {
   "cell_type": "code",
   "execution_count": 2,
   "id": "c2ab1315-0da6-4b06-b511-069d2a4cf547",
   "metadata": {},
   "outputs": [
    {
     "data": {
      "text/plain": [
       "'2.2.3'"
      ]
     },
     "execution_count": 2,
     "metadata": {},
     "output_type": "execute_result"
    }
   ],
   "source": [
    "pd.__version__"
   ]
  },
  {
   "cell_type": "markdown",
   "id": "e017538f-dfe9-4dbe-ad8b-06fa062eefae",
   "metadata": {
    "jp-MarkdownHeadingCollapsed": true
   },
   "source": [
    "## Applications of Pandas"
   ]
  },
  {
   "cell_type": "markdown",
   "id": "ecc6e3cc-1d29-40b8-ba70-4433f5cc7450",
   "metadata": {},
   "source": [
    "![Applications](https://miro.medium.com/v2/resize:fit:890/1*VmfrWgMp9DXZx5NplsfU5A.png)"
   ]
  },
  {
   "cell_type": "markdown",
   "id": "43c60f9b-aa89-427d-badc-05b2a69b093f",
   "metadata": {
    "jp-MarkdownHeadingCollapsed": true
   },
   "source": [
    "## **Types of Data in Pandas**"
   ]
  },
  {
   "cell_type": "markdown",
   "id": "6454976c-894f-4742-952b-73011aaf7f13",
   "metadata": {},
   "source": [
    "### 1. **Categorical Data** \n",
    "   - Data that represents categories or groups.  \n",
    "   - Example: `\"Male\"`, `\"Female\"`, `\"Red\"`, `\"Blue\"`, `\"Apple\"`, `\"Orange\"`.  \n",
    "   - Stored as `category` dtype in Pandas.  \n",
    "   - **Efficient for memory usage and performance.**  "
   ]
  },
  {
   "cell_type": "code",
   "execution_count": 3,
   "id": "ae5bf389-f4ef-448b-9ca5-c163f294ca2a",
   "metadata": {},
   "outputs": [
    {
     "name": "stdout",
     "output_type": "stream",
     "text": [
      "0      Red\n",
      "1     Blue\n",
      "2      Red\n",
      "3    Green\n",
      "dtype: category\n",
      "Categories (3, object): ['Blue', 'Green', 'Red']\n"
     ]
    }
   ],
   "source": [
    "data = pd.Series([\"Red\", \"Blue\", \"Red\", \"Green\"], dtype=\"category\")\n",
    "print(data)"
   ]
  },
  {
   "cell_type": "markdown",
   "id": "5fb722c8-9875-4b1f-9459-b53ec1d6d037",
   "metadata": {},
   "source": [
    "### 2. **Object Data (String/Text Data)** \n",
    "   - Used for **text or mixed-type data** (strings, alphanumeric values).  \n",
    "   - Example: `\"John\"`, `\"Apple123\"`, `\"Hello World\"`.  \n",
    "   - Stored as `object` dtype in Pandas.  \n"
   ]
  },
  {
   "cell_type": "code",
   "execution_count": 4,
   "id": "ae6cc61a-0390-487f-a982-a92695919002",
   "metadata": {},
   "outputs": [
    {
     "name": "stdout",
     "output_type": "stream",
     "text": [
      "object\n"
     ]
    }
   ],
   "source": [
    "data = pd.Series([\"Apple\", \"Banana\", \"Cherry\"])\n",
    "print(data.dtype)  # Output: object"
   ]
  },
  {
   "cell_type": "markdown",
   "id": "731c4832-2e16-4090-a440-7c8febf2f6b0",
   "metadata": {},
   "source": [
    "### 3. **Numerical Data**  \n",
    "   - **Integer (`int64`)**: Whole numbers like `1, 100, -50, 2000`.  \n",
    "   - **Floating-Point (`float64`)**: Decimal numbers like `3.14, 2.718, -0.5`.  \n",
    "   - Example: Age, Salary, Temperature, Price. "
   ]
  },
  {
   "cell_type": "code",
   "execution_count": 5,
   "id": "dc7edd8f-08a2-4f09-8e6c-6786ce02b4a9",
   "metadata": {},
   "outputs": [
    {
     "name": "stdout",
     "output_type": "stream",
     "text": [
      "float64\n"
     ]
    }
   ],
   "source": [
    "data = pd.Series([10, 20.5, 30, 40.7])\n",
    "print(data.dtype)  # Output: float64"
   ]
  },
  {
   "cell_type": "markdown",
   "id": "5b7a0be0-9a79-49b8-bf15-9b51d4e087c9",
   "metadata": {},
   "source": [
    "## help function()"
   ]
  },
  {
   "cell_type": "code",
   "execution_count": null,
   "id": "4fe48923-0ae5-44e6-a536-03a54bd6cb69",
   "metadata": {},
   "outputs": [],
   "source": [
    "help(pd.Series)"
   ]
  },
  {
   "cell_type": "markdown",
   "id": "82860483-f0a2-4558-bb48-f422975e1834",
   "metadata": {},
   "source": [
    "### Show documentation about the function in the notebook."
   ]
  },
  {
   "cell_type": "code",
   "execution_count": null,
   "id": "b5db3c1f-d8ad-45c7-84b4-584424e77f8c",
   "metadata": {},
   "outputs": [],
   "source": [
    "pd.Series?"
   ]
  },
  {
   "cell_type": "markdown",
   "id": "9e213e7f-9bf1-4e54-8e96-b3e4dbf57458",
   "metadata": {},
   "source": [
    "### Using dir() to List Available Methods"
   ]
  },
  {
   "cell_type": "code",
   "execution_count": null,
   "id": "b9081e06-3233-46de-bc81-aa038f61cf47",
   "metadata": {},
   "outputs": [],
   "source": [
    "dir(pd.Series)"
   ]
  },
  {
   "cell_type": "markdown",
   "id": "f6b8c034-670b-48a8-a30a-446dbe4ea56e",
   "metadata": {},
   "source": [
    "## **1. Data Creation Functions**"
   ]
  },
  {
   "cell_type": "markdown",
   "id": "c1bb08ed-62eb-417e-998f-7f1e56a32cfb",
   "metadata": {
    "jp-MarkdownHeadingCollapsed": true
   },
   "source": [
    "---\n",
    "## **Series**\n",
    "- A **Series** in Pandas is a `one-dimensional array-like object` that can hold any data type (integers, strings, floats, etc.).\n",
    "- A Pandas Series is like a `column in a table`.\n",
    "- A **Series** has an **index** (labels) and **values** (data).\n",
    "- It can be created from lists, arrays, or dictionaries.\n",
    "- It allows you to perform operations like filtering, mapping, and aggregating data.\n",
    "- **`pandas.Series(data=None, index=None, dtype=None, name=None, copy=False, fastpath=False)`**\n"
   ]
  },
  {
   "cell_type": "markdown",
   "id": "d57da3a3-0f26-483e-80ca-d2ed4bf94132",
   "metadata": {},
   "source": [
    "### 1. Creating Series using list/tuple"
   ]
  },
  {
   "cell_type": "code",
   "execution_count": 9,
   "id": "b0e99e8c-93b5-42a1-8688-32604267c8d9",
   "metadata": {},
   "outputs": [
    {
     "name": "stdout",
     "output_type": "stream",
     "text": [
      "0    Pavan\n",
      "1    Kumar\n",
      "2     Ande\n",
      "dtype: object\n",
      "0    10\n",
      "1    20\n",
      "2    30\n",
      "3    40\n",
      "dtype: int64\n"
     ]
    }
   ],
   "source": [
    "data = [\"Pavan\",\"Kumar\",\"Ande\"]\n",
    "t=(10,20,30,40)\n",
    "s = pd.Series(data) # list\n",
    "s1=pd.Series(t) # tuple\n",
    "print(s)\n",
    "print(s1)"
   ]
  },
  {
   "cell_type": "markdown",
   "id": "c15edac2-344d-4b7e-b832-50beba7f7f20",
   "metadata": {},
   "source": [
    "**Note** : **`List/Array → Index is assigned by Pandas (0,1,2,... by default)`**"
   ]
  },
  {
   "cell_type": "markdown",
   "id": "9af37a12-b203-4e51-9d05-499d85033274",
   "metadata": {},
   "source": [
    "### Label\n",
    "- In **Pandas**, a **label** refers to the `identifier` assigned to each **index** or **column** in a data structure like a `Series or DataFrame.\n",
    "- Labels help to reference data elements efficiently, making data manipulation, access, and analysis much more intuitive."
   ]
  },
  {
   "cell_type": "code",
   "execution_count": 10,
   "id": "24873256-2295-4629-a58a-cbc5e07e3d60",
   "metadata": {},
   "outputs": [
    {
     "name": "stdout",
     "output_type": "stream",
     "text": [
      "FirstName    Pavan\n",
      "LastName     Kumar\n",
      "SurName       Ande\n",
      "dtype: object\n"
     ]
    }
   ],
   "source": [
    "labels = ['FirstName','LastName','SurName']\n",
    "s = pd.Series(data,index = labels) # pd.Series(data,labels) this also works we can give any names instead of data,labels\n",
    "print(s)"
   ]
  },
  {
   "cell_type": "markdown",
   "id": "6399ee90-1e9b-4462-b0fe-4e496366b3c8",
   "metadata": {},
   "source": [
    "### 2. Using a NumPy Array"
   ]
  },
  {
   "cell_type": "code",
   "execution_count": 11,
   "id": "dcb4f2eb-edf5-44c6-aa66-34e1e9b242cb",
   "metadata": {},
   "outputs": [
    {
     "name": "stdout",
     "output_type": "stream",
     "text": [
      "0    1\n",
      "1    2\n",
      "2    3\n",
      "3    4\n",
      "dtype: int64\n"
     ]
    }
   ],
   "source": [
    "import numpy as np\n",
    "arr = np.array([1,2,3,4])\n",
    "s = pd.Series(arr)\n",
    "print(s)"
   ]
  },
  {
   "cell_type": "markdown",
   "id": "d55c76e9-7783-4234-bece-ff884c3554b3",
   "metadata": {},
   "source": [
    "### 3. Creating Series using Dictionary "
   ]
  },
  {
   "cell_type": "code",
   "execution_count": 12,
   "id": "4ea8a58b-8f70-4057-9827-dcecab603b0c",
   "metadata": {},
   "outputs": [
    {
     "name": "stdout",
     "output_type": "stream",
     "text": [
      "a    10\n",
      "b    20\n",
      "c    30\n",
      "d    40\n",
      "dtype: int64\n"
     ]
    }
   ],
   "source": [
    "d = {'a':10,'b':20,'c':30,'d':40}\n",
    "s = pd.Series(d)\n",
    "print(s)"
   ]
  },
  {
   "cell_type": "markdown",
   "id": "7e9ad794-f732-4597-b062-2db4b8a1e000",
   "metadata": {},
   "source": [
    "**Note**:  Pandas Series using a dictionary, **`you don't need to explicitly define the index`** because Pandas **`automatically uses the dictionary keys as the index`**."
   ]
  },
  {
   "cell_type": "code",
   "execution_count": 13,
   "id": "dd00a35a-c4ab-45c7-a4cd-9119ad0df035",
   "metadata": {},
   "outputs": [
    {
     "name": "stdout",
     "output_type": "stream",
     "text": [
      "i1   NaN\n",
      "i2   NaN\n",
      "i3   NaN\n",
      "i4   NaN\n",
      "dtype: float64\n"
     ]
    }
   ],
   "source": [
    "labels = ['i1','i2','i3','i4']\n",
    "s = pd.Series(d,labels)\n",
    "print(s)"
   ]
  },
  {
   "cell_type": "markdown",
   "id": "109ef193-0c7f-42f6-9412-5c6fd3814ced",
   "metadata": {},
   "source": [
    "**Note:** \n",
    "- If you **explicitly specify an index** while creating a Series from a **dictionary**, Pandas **`rearranges the values according to the new index`**.\n",
    "-  If a `label is present` in the dictionary, its **`corresponding value is used`**; if **not**, Pandas fills it with **`NaN`** (Not a Number, representing a missing value).\n"
   ]
  },
  {
   "cell_type": "markdown",
   "id": "1f09be9a-05ca-4866-8393-0e66dfce9182",
   "metadata": {},
   "source": [
    "### **Data selection in Series (Indexing)**"
   ]
  },
  {
   "cell_type": "code",
   "execution_count": 14,
   "id": "9c0f789b-2089-4373-bdb8-2a0e46dc982b",
   "metadata": {},
   "outputs": [
    {
     "name": "stdout",
     "output_type": "stream",
     "text": [
      "0    10\n",
      "1    20\n",
      "2    30\n",
      "3    40\n",
      "dtype: int64\n"
     ]
    }
   ],
   "source": [
    "s = pd.Series([10, 20, 30, 40])\n",
    "print(s)"
   ]
  },
  {
   "cell_type": "markdown",
   "id": "a982b9f2-445e-40b3-a816-363be5248890",
   "metadata": {},
   "source": [
    "#### **1. Default Indexing (Integer-Based)**"
   ]
  },
  {
   "cell_type": "code",
   "execution_count": 15,
   "id": "c81e1b91-d38e-4df7-b3dc-603007af2bb6",
   "metadata": {},
   "outputs": [
    {
     "name": "stdout",
     "output_type": "stream",
     "text": [
      "10\n",
      "30\n"
     ]
    }
   ],
   "source": [
    "print(s[0]) \n",
    "print(s[2])"
   ]
  },
  {
   "cell_type": "markdown",
   "id": "e92ccd2e-6ea8-4207-bf64-478fd02d5df9",
   "metadata": {},
   "source": [
    "#### **2. Custom Indexing (Labels)**"
   ]
  },
  {
   "cell_type": "code",
   "execution_count": 16,
   "id": "53b8fea0-9142-4bdb-beb0-9f9e11f1cf2a",
   "metadata": {},
   "outputs": [
    {
     "name": "stdout",
     "output_type": "stream",
     "text": [
      "a    100\n",
      "b    200\n",
      "c    300\n",
      "dtype: int64\n"
     ]
    }
   ],
   "source": [
    "s = pd.Series([100, 200, 300], index=[\"a\", \"b\", \"c\"])\n",
    "print(s)"
   ]
  },
  {
   "cell_type": "code",
   "execution_count": 17,
   "id": "157ee19b-e506-442f-a4df-7dc03d450fa6",
   "metadata": {},
   "outputs": [
    {
     "name": "stdout",
     "output_type": "stream",
     "text": [
      "100\n",
      "300\n"
     ]
    }
   ],
   "source": [
    "print(s[\"a\"])\n",
    "print(s[\"c\"])"
   ]
  },
  {
   "cell_type": "markdown",
   "id": "c27cd2ea-6044-4b9a-8e95-3f49aacac23f",
   "metadata": {},
   "source": [
    "#### **3. Boolean Indexing**"
   ]
  },
  {
   "cell_type": "code",
   "execution_count": 18,
   "id": "9f7a8d59-2165-4181-9e50-cbb4c745a639",
   "metadata": {},
   "outputs": [
    {
     "name": "stdout",
     "output_type": "stream",
     "text": [
      "2    30\n",
      "3    40\n",
      "dtype: int64\n"
     ]
    }
   ],
   "source": [
    "s = pd.Series([10, 20, 30, 40])\n",
    "print(s[s > 20])  "
   ]
  },
  {
   "cell_type": "markdown",
   "id": "dbe27c5b-358b-4124-8c11-508f72296154",
   "metadata": {},
   "source": [
    "#### **4. Slicing**"
   ]
  },
  {
   "cell_type": "code",
   "execution_count": 19,
   "id": "534bc15d-48e9-43ff-b087-d7772b189f54",
   "metadata": {},
   "outputs": [
    {
     "name": "stdout",
     "output_type": "stream",
     "text": [
      "1    20\n",
      "2    30\n",
      "dtype: int64\n"
     ]
    }
   ],
   "source": [
    "print(s[1:3])  "
   ]
  },
  {
   "cell_type": "code",
   "execution_count": 20,
   "id": "c16139a7-ee59-4781-8765-0ccdb78fb07e",
   "metadata": {},
   "outputs": [
    {
     "name": "stdout",
     "output_type": "stream",
     "text": [
      "b    200\n",
      "c    300\n",
      "d    400\n",
      "dtype: int64\n"
     ]
    }
   ],
   "source": [
    "s = pd.Series([100, 200, 300, 400], index=[\"a\", \"b\", \"c\", \"d\"])\n",
    "print(s[\"b\":\"d\"])"
   ]
  },
  {
   "cell_type": "markdown",
   "id": "b8cd65d0-e88a-406a-b691-d4444dbf4820",
   "metadata": {},
   "source": [
    "---\n",
    "## **DataFrame**\n",
    "- A **DataFrame** is a **`2D table-like structure`** in Pandas, similar to an **Excel sheet** or **SQL table**.\n",
    "- It consists of **rows** and **columns**, where **`each column is a Series`**.\n",
    "- Each **column** can have a `different data type (int, float, string, etc.)`.\n",
    "- Can be created using `lists, dictionaries, NumPy arrays, CSV, SQL, etc`.\n",
    "- **`pandas.DataFrame(data=None, index=None, columns=None, dtype=None, copy=False)`**\n",
    "\n",
    "  "
   ]
  },
  {
   "cell_type": "markdown",
   "id": "9750e71d-3d6e-462e-949b-196c06866df8",
   "metadata": {},
   "source": [
    "#### **Note**\n",
    "#### If the column values have **different lengths**, Pandas will raise a `ValueError`.\n",
    "#### All columns must have the **`same number of elements`** when creating a DataFrame"
   ]
  },
  {
   "cell_type": "markdown",
   "id": "950d3b44-8ce5-460e-b08a-e75f89afa38a",
   "metadata": {},
   "source": [
    "### **Creating a DataFrame**"
   ]
  },
  {
   "cell_type": "markdown",
   "id": "00ef78b6-a711-4b56-ac98-b02e2de36d77",
   "metadata": {},
   "source": [
    "#### **1. Using a Dictionary**"
   ]
  },
  {
   "cell_type": "code",
   "execution_count": 4,
   "id": "3b63c135-8dcf-4ccb-8c11-a7caaa86778d",
   "metadata": {},
   "outputs": [
    {
     "data": {
      "text/html": [
       "<div>\n",
       "<style scoped>\n",
       "    .dataframe tbody tr th:only-of-type {\n",
       "        vertical-align: middle;\n",
       "    }\n",
       "\n",
       "    .dataframe tbody tr th {\n",
       "        vertical-align: top;\n",
       "    }\n",
       "\n",
       "    .dataframe thead th {\n",
       "        text-align: right;\n",
       "    }\n",
       "</style>\n",
       "<table border=\"1\" class=\"dataframe\">\n",
       "  <thead>\n",
       "    <tr style=\"text-align: right;\">\n",
       "      <th></th>\n",
       "      <th>Name</th>\n",
       "      <th>Age</th>\n",
       "      <th>Salary</th>\n",
       "    </tr>\n",
       "  </thead>\n",
       "  <tbody>\n",
       "    <tr>\n",
       "      <th>0</th>\n",
       "      <td>Pavan</td>\n",
       "      <td>23</td>\n",
       "      <td>23000</td>\n",
       "    </tr>\n",
       "    <tr>\n",
       "      <th>1</th>\n",
       "      <td>Hema</td>\n",
       "      <td>22</td>\n",
       "      <td>28000</td>\n",
       "    </tr>\n",
       "  </tbody>\n",
       "</table>\n",
       "</div>"
      ],
      "text/plain": [
       "    Name  Age  Salary\n",
       "0  Pavan   23   23000\n",
       "1   Hema   22   28000"
      ]
     },
     "execution_count": 4,
     "metadata": {},
     "output_type": "execute_result"
    }
   ],
   "source": [
    "data = {\n",
    "    \"Name\" : [\"Pavan\",\"Hema\"],\n",
    "    \"Age\" : [23,22],\n",
    "    \"Salary\" : [23000,28000]\n",
    "}\n",
    "df = pd.DataFrame(data)\n",
    "df"
   ]
  },
  {
   "cell_type": "markdown",
   "id": "cc6328a1-1faa-47f8-ab54-27044fd1ed12",
   "metadata": {},
   "source": [
    "#### **2. Using a List of Lists**"
   ]
  },
  {
   "cell_type": "code",
   "execution_count": 35,
   "id": "9a09f9c1-2e24-4709-84ab-1b47e5ee3481",
   "metadata": {},
   "outputs": [
    {
     "data": {
      "text/html": [
       "<div>\n",
       "<style scoped>\n",
       "    .dataframe tbody tr th:only-of-type {\n",
       "        vertical-align: middle;\n",
       "    }\n",
       "\n",
       "    .dataframe tbody tr th {\n",
       "        vertical-align: top;\n",
       "    }\n",
       "\n",
       "    .dataframe thead th {\n",
       "        text-align: right;\n",
       "    }\n",
       "</style>\n",
       "<table border=\"1\" class=\"dataframe\">\n",
       "  <thead>\n",
       "    <tr style=\"text-align: right;\">\n",
       "      <th></th>\n",
       "      <th>Name</th>\n",
       "      <th>Age</th>\n",
       "      <th>Salary</th>\n",
       "    </tr>\n",
       "  </thead>\n",
       "  <tbody>\n",
       "    <tr>\n",
       "      <th>0</th>\n",
       "      <td>Alice</td>\n",
       "      <td>25</td>\n",
       "      <td>50000</td>\n",
       "    </tr>\n",
       "    <tr>\n",
       "      <th>1</th>\n",
       "      <td>Bob</td>\n",
       "      <td>30</td>\n",
       "      <td>60000</td>\n",
       "    </tr>\n",
       "    <tr>\n",
       "      <th>2</th>\n",
       "      <td>Charlie</td>\n",
       "      <td>35</td>\n",
       "      <td>70000</td>\n",
       "    </tr>\n",
       "  </tbody>\n",
       "</table>\n",
       "</div>"
      ],
      "text/plain": [
       "      Name  Age  Salary\n",
       "0    Alice   25   50000\n",
       "1      Bob   30   60000\n",
       "2  Charlie   35   70000"
      ]
     },
     "execution_count": 35,
     "metadata": {},
     "output_type": "execute_result"
    }
   ],
   "source": [
    "df = pd.DataFrame([\n",
    "    [\"Alice\", 25, 50000],\n",
    "    [\"Bob\", 30, 60000],\n",
    "    [\"Charlie\", 35, 70000]\n",
    "], columns=[\"Name\", \"Age\", \"Salary\"])\n",
    "df"
   ]
  },
  {
   "cell_type": "markdown",
   "id": "0da9b5fd-84ea-43d8-b1c1-c008e897f7ea",
   "metadata": {},
   "source": [
    "#### **3. Using Numpy array**"
   ]
  },
  {
   "cell_type": "code",
   "execution_count": 36,
   "id": "75e527f3-4299-4d2f-9776-e02f374ccaef",
   "metadata": {},
   "outputs": [
    {
     "data": {
      "text/html": [
       "<div>\n",
       "<style scoped>\n",
       "    .dataframe tbody tr th:only-of-type {\n",
       "        vertical-align: middle;\n",
       "    }\n",
       "\n",
       "    .dataframe tbody tr th {\n",
       "        vertical-align: top;\n",
       "    }\n",
       "\n",
       "    .dataframe thead th {\n",
       "        text-align: right;\n",
       "    }\n",
       "</style>\n",
       "<table border=\"1\" class=\"dataframe\">\n",
       "  <thead>\n",
       "    <tr style=\"text-align: right;\">\n",
       "      <th></th>\n",
       "      <th>col-1</th>\n",
       "      <th>col-2</th>\n",
       "      <th>col-3</th>\n",
       "    </tr>\n",
       "  </thead>\n",
       "  <tbody>\n",
       "    <tr>\n",
       "      <th>row-1</th>\n",
       "      <td>1</td>\n",
       "      <td>2</td>\n",
       "      <td>3</td>\n",
       "    </tr>\n",
       "    <tr>\n",
       "      <th>row-2</th>\n",
       "      <td>4</td>\n",
       "      <td>5</td>\n",
       "      <td>6</td>\n",
       "    </tr>\n",
       "    <tr>\n",
       "      <th>row-3</th>\n",
       "      <td>7</td>\n",
       "      <td>8</td>\n",
       "      <td>9</td>\n",
       "    </tr>\n",
       "  </tbody>\n",
       "</table>\n",
       "</div>"
      ],
      "text/plain": [
       "       col-1  col-2  col-3\n",
       "row-1      1      2      3\n",
       "row-2      4      5      6\n",
       "row-3      7      8      9"
      ]
     },
     "execution_count": 36,
     "metadata": {},
     "output_type": "execute_result"
    }
   ],
   "source": [
    "arr = np.arange(1,10).reshape(3,3)\n",
    "rows = ['row-1','row-2','row-3']\n",
    "cols =['col-1','col-2','col-3']\n",
    "df = pd.DataFrame(arr,index=rows,columns=cols)\n",
    "df"
   ]
  },
  {
   "cell_type": "markdown",
   "id": "a608ffa3-75ac-4d43-9289-dfd179d928b1",
   "metadata": {},
   "source": [
    "#### **4. Creating a DataFrame from a Series**\n",
    "If you have multiple Pandas Series, you can combine them into a DataFrame."
   ]
  },
  {
   "cell_type": "code",
   "execution_count": 5,
   "id": "c014af41-a8f9-4f3b-ad12-192a417e9b67",
   "metadata": {},
   "outputs": [
    {
     "data": {
      "text/html": [
       "<div>\n",
       "<style scoped>\n",
       "    .dataframe tbody tr th:only-of-type {\n",
       "        vertical-align: middle;\n",
       "    }\n",
       "\n",
       "    .dataframe tbody tr th {\n",
       "        vertical-align: top;\n",
       "    }\n",
       "\n",
       "    .dataframe thead th {\n",
       "        text-align: right;\n",
       "    }\n",
       "</style>\n",
       "<table border=\"1\" class=\"dataframe\">\n",
       "  <thead>\n",
       "    <tr style=\"text-align: right;\">\n",
       "      <th></th>\n",
       "      <th>Name</th>\n",
       "      <th>Age</th>\n",
       "      <th>Salary</th>\n",
       "    </tr>\n",
       "  </thead>\n",
       "  <tbody>\n",
       "    <tr>\n",
       "      <th>0</th>\n",
       "      <td>Pavan</td>\n",
       "      <td>23</td>\n",
       "      <td>23000</td>\n",
       "    </tr>\n",
       "    <tr>\n",
       "      <th>1</th>\n",
       "      <td>Hema</td>\n",
       "      <td>22</td>\n",
       "      <td>28000</td>\n",
       "    </tr>\n",
       "    <tr>\n",
       "      <th>2</th>\n",
       "      <td>Kumar</td>\n",
       "      <td>25</td>\n",
       "      <td>30000</td>\n",
       "    </tr>\n",
       "  </tbody>\n",
       "</table>\n",
       "</div>"
      ],
      "text/plain": [
       "    Name  Age  Salary\n",
       "0  Pavan   23   23000\n",
       "1   Hema   22   28000\n",
       "2  Kumar   25   30000"
      ]
     },
     "execution_count": 5,
     "metadata": {},
     "output_type": "execute_result"
    }
   ],
   "source": [
    "name = pd.Series([\"Pavan\", \"Hema\", \"Kumar\"])\n",
    "age = pd.Series([23, 22, 25])\n",
    "salary = pd.Series([23000, 28000, 30000])\n",
    "\n",
    "df = pd.DataFrame({\"Name\": name, \"Age\": age, \"Salary\": salary})\n",
    "df"
   ]
  },
  {
   "cell_type": "markdown",
   "id": "705ef47c-916a-4329-9fac-7def79243c36",
   "metadata": {},
   "source": [
    "#### **5. Using List of Dictionaries**\n",
    "(Missing values are filled with NaN)"
   ]
  },
  {
   "cell_type": "code",
   "execution_count": 9,
   "id": "7bf9de3e-bf97-47ee-89b1-107992cadc9d",
   "metadata": {},
   "outputs": [
    {
     "data": {
      "text/html": [
       "<div>\n",
       "<style scoped>\n",
       "    .dataframe tbody tr th:only-of-type {\n",
       "        vertical-align: middle;\n",
       "    }\n",
       "\n",
       "    .dataframe tbody tr th {\n",
       "        vertical-align: top;\n",
       "    }\n",
       "\n",
       "    .dataframe thead th {\n",
       "        text-align: right;\n",
       "    }\n",
       "</style>\n",
       "<table border=\"1\" class=\"dataframe\">\n",
       "  <thead>\n",
       "    <tr style=\"text-align: right;\">\n",
       "      <th></th>\n",
       "      <th>Name</th>\n",
       "      <th>Age</th>\n",
       "      <th>City</th>\n",
       "    </tr>\n",
       "  </thead>\n",
       "  <tbody>\n",
       "    <tr>\n",
       "      <th>A1</th>\n",
       "      <td>Alice</td>\n",
       "      <td>25</td>\n",
       "      <td>NaN</td>\n",
       "    </tr>\n",
       "    <tr>\n",
       "      <th>A2</th>\n",
       "      <td>Bob</td>\n",
       "      <td>30</td>\n",
       "      <td>Paris</td>\n",
       "    </tr>\n",
       "    <tr>\n",
       "      <th>A3</th>\n",
       "      <td>xyz</td>\n",
       "      <td>23</td>\n",
       "      <td>London</td>\n",
       "    </tr>\n",
       "    <tr>\n",
       "      <th>A4</th>\n",
       "      <td>abc</td>\n",
       "      <td>22</td>\n",
       "      <td>USA</td>\n",
       "    </tr>\n",
       "  </tbody>\n",
       "</table>\n",
       "</div>"
      ],
      "text/plain": [
       "     Name  Age    City\n",
       "A1  Alice   25     NaN\n",
       "A2    Bob   30   Paris\n",
       "A3    xyz   23  London\n",
       "A4    abc   22     USA"
      ]
     },
     "execution_count": 9,
     "metadata": {},
     "output_type": "execute_result"
    }
   ],
   "source": [
    "data = [\n",
    "    {\"Name\": \"Alice\", \"Age\": 25},\n",
    "    {\"Name\": \"Bob\", \"Age\": 30, \"City\": \"Paris\"},\n",
    "    {\"Name\": \"xyz\", \"Age\": 23, \"City\": \"London\"},\n",
    "    {\"Name\": \"abc\", \"Age\": 22, \"City\": \"USA\"}\n",
    "]\n",
    "df = pd.DataFrame(data,index=['A1','A2','A3','A4'])\n",
    "df"
   ]
  },
  {
   "cell_type": "code",
   "execution_count": 50,
   "id": "a8a12103-1a90-4f17-adaf-e5851c8a1acf",
   "metadata": {},
   "outputs": [
    {
     "data": {
      "text/plain": [
       "pandas.core.frame.DataFrame"
      ]
     },
     "execution_count": 50,
     "metadata": {},
     "output_type": "execute_result"
    }
   ],
   "source": [
    "type(df)"
   ]
  },
  {
   "cell_type": "code",
   "execution_count": 51,
   "id": "2b6a8dcb-d60a-44ab-ae45-5e9d7802bb53",
   "metadata": {},
   "outputs": [
    {
     "data": {
      "text/plain": [
       "pandas.core.series.Series"
      ]
     },
     "execution_count": 51,
     "metadata": {},
     "output_type": "execute_result"
    }
   ],
   "source": [
    "type(df['Name'])"
   ]
  },
  {
   "cell_type": "markdown",
   "id": "4e0a2f2f-55e1-4082-9c84-196aa57858d7",
   "metadata": {},
   "source": [
    "---\n",
    "### **Accessing Rows and Columns in DataFrame**"
   ]
  },
  {
   "cell_type": "markdown",
   "id": "1d5e481f-cf80-4b67-b463-8e3af40826cd",
   "metadata": {},
   "source": [
    "#### **1. Accessing Columns**"
   ]
  },
  {
   "cell_type": "markdown",
   "id": "0f73f402-f45f-4c5a-b170-4dd00d201e18",
   "metadata": {},
   "source": [
    "- The column name as a key: **`df['column_name']`**\n",
    "- **Dot notation**: **`df.column_name`** (only if column name is a valid attribute)"
   ]
  },
  {
   "cell_type": "code",
   "execution_count": 10,
   "id": "6d23e029-e138-406c-8d44-5c0576d2f3f9",
   "metadata": {},
   "outputs": [
    {
     "data": {
      "text/plain": [
       "A1    Alice\n",
       "A2      Bob\n",
       "A3      xyz\n",
       "A4      abc\n",
       "Name: Name, dtype: object"
      ]
     },
     "execution_count": 10,
     "metadata": {},
     "output_type": "execute_result"
    }
   ],
   "source": [
    "df['Name']"
   ]
  },
  {
   "cell_type": "code",
   "execution_count": 60,
   "id": "b435df78-ea20-4894-bdf1-dcd2d1fe25ae",
   "metadata": {},
   "outputs": [
    {
     "data": {
      "text/plain": [
       "A1    25\n",
       "A2    30\n",
       "A3    23\n",
       "A4    22\n",
       "Name: Age, dtype: int64"
      ]
     },
     "execution_count": 60,
     "metadata": {},
     "output_type": "execute_result"
    }
   ],
   "source": [
    "df.Age"
   ]
  },
  {
   "cell_type": "markdown",
   "id": "fcc90f75-7633-45f7-af87-68cde4bc82cf",
   "metadata": {},
   "source": [
    "---\n",
    "### **Q: Why is `df['col']` preferred over `df.col` when accessing columns in Pandas?**  \n",
    "\n",
    "#### **Answer:**  \n",
    "Using `df['col']` is better than `df.col` because:  \n",
    "\n",
    "1. **Supports all column names** – Works even if the column name has spaces or special characters (`df['Employee Name']` ✅, but `df.Employee Name` ❌).  \n",
    "2. **Avoids conflicts** – Some column names may clash with built-in Pandas attributes (`df.count` refers to a method, not a column).  \n",
    "3. **Allows dynamic access** – Works with variables (`df[col_name]` ✅, but `df.col_name` ❌).  \n",
    "4. **More reliable** – If a column is deleted or replaced, `df.col` may fail, whereas `df['col']` remains robust.  \n",
    "\n",
    "👉 **Best Practice:** Always use `df['col']` for consistent and error-free Pandas operations. 🚀\n",
    "\n",
    "---"
   ]
  },
  {
   "cell_type": "markdown",
   "id": "1490f89a-3cc9-4ce2-9a11-3f823bdeef8b",
   "metadata": {},
   "source": [
    "#### **2. Accessing Rows**\n",
    "- **`iloc[]`** for positional indexing (integer-based)\n",
    "- **`loc[]`** for label-based indexing"
   ]
  },
  {
   "cell_type": "code",
   "execution_count": 13,
   "id": "1856cf94-8e05-4d99-8eb6-af8b5823fa52",
   "metadata": {},
   "outputs": [
    {
     "data": {
      "text/plain": [
       "Name    Alice\n",
       "Age        25\n",
       "City      NaN\n",
       "Name: A1, dtype: object"
      ]
     },
     "execution_count": 13,
     "metadata": {},
     "output_type": "execute_result"
    }
   ],
   "source": [
    "# Access the first row (index 0)\n",
    "df.iloc[0]"
   ]
  },
  {
   "cell_type": "code",
   "execution_count": 12,
   "id": "985f9c3c-a2f2-448a-9782-1a27ac8a15f2",
   "metadata": {},
   "outputs": [
    {
     "data": {
      "text/plain": [
       "Name      Bob\n",
       "Age        30\n",
       "City    Paris\n",
       "Name: A2, dtype: object"
      ]
     },
     "execution_count": 12,
     "metadata": {},
     "output_type": "execute_result"
    }
   ],
   "source": [
    "# Access row with label 0 (the index label)\n",
    "df.loc['A2']"
   ]
  },
  {
   "cell_type": "markdown",
   "id": "e556720f-785f-4efb-aace-caf320ca1d0f",
   "metadata": {},
   "source": [
    "#### **3. Accessing Specific Value**\n",
    "- Using loc[] for label-based indexing\n",
    "- Using iloc[] for positional indexing\n",
    "- **`df.iloc[row_index, column_index]`** or **`df.loc[row_label, column_name]`**"
   ]
  },
  {
   "cell_type": "code",
   "execution_count": 16,
   "id": "283eba23-c2e3-4ac6-89de-4de8aae43c4c",
   "metadata": {},
   "outputs": [
    {
     "name": "stdout",
     "output_type": "stream",
     "text": [
      "25\n"
     ]
    }
   ],
   "source": [
    "# Access the 'Age' of the row where the index label is 1\n",
    "print(df.loc['A1', 'Age'])\n"
   ]
  },
  {
   "cell_type": "code",
   "execution_count": 18,
   "id": "d5b8f653-0659-4f81-9fa3-20ce01e7974a",
   "metadata": {},
   "outputs": [
    {
     "name": "stdout",
     "output_type": "stream",
     "text": [
      "30\n"
     ]
    }
   ],
   "source": [
    "# Access the value at the 1st row (index 1) and 2nd column (index 1) - 'Age'\n",
    "print(df.iloc[1, 1])\n"
   ]
  },
  {
   "cell_type": "markdown",
   "id": "7d5eeeae-7c9f-4310-bb93-91a030414f85",
   "metadata": {},
   "source": [
    "#### **4. Accessing Multiple Rows and Columns Using Slicing**"
   ]
  },
  {
   "cell_type": "code",
   "execution_count": 58,
   "id": "07ec99de-e31d-4ed9-a6cb-714ed0c00124",
   "metadata": {},
   "outputs": [
    {
     "name": "stdout",
     "output_type": "stream",
     "text": [
      "   Name    City\n",
      "A2  Bob   Paris\n",
      "A3  xyz  London\n",
      "A4  abc     USA\n"
     ]
    }
   ],
   "source": [
    "# Access rows 0 and 1, columns 'Name' and 'Salary'\n",
    "print(df.loc['A2':'A4', ['Name', 'City']])\n"
   ]
  },
  {
   "cell_type": "code",
   "execution_count": 19,
   "id": "37e21fcb-7ac8-4b19-a9cb-c9d2cbf185b7",
   "metadata": {},
   "outputs": [
    {
     "name": "stdout",
     "output_type": "stream",
     "text": [
      "     Name  Age\n",
      "A1  Alice   25\n",
      "A2    Bob   30\n"
     ]
    }
   ],
   "source": [
    "# Access the first two rows and first two columns\n",
    "print(df.iloc[0:2, 0:2])"
   ]
  }
 ],
 "metadata": {
  "kernelspec": {
   "display_name": "Python 3 (ipykernel)",
   "language": "python",
   "name": "python3"
  },
  "language_info": {
   "codemirror_mode": {
    "name": "ipython",
    "version": 3
   },
   "file_extension": ".py",
   "mimetype": "text/x-python",
   "name": "python",
   "nbconvert_exporter": "python",
   "pygments_lexer": "ipython3",
   "version": "3.13.2"
  }
 },
 "nbformat": 4,
 "nbformat_minor": 5
}
