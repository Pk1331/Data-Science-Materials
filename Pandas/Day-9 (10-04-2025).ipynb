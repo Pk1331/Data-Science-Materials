{
 "cells": [
  {
   "cell_type": "code",
   "execution_count": 1,
   "id": "364661b3-4326-4a2a-94b1-1a6c7236bbbd",
   "metadata": {},
   "outputs": [],
   "source": [
    "import pandas as pd"
   ]
  },
  {
   "cell_type": "code",
   "execution_count": null,
   "id": "2073a50d-cf49-4352-8d4b-e56c519333d4",
   "metadata": {},
   "outputs": [],
   "source": [
    "df = read_csv(\"datasets/\")\n",
    "df"
   ]
  }
 ],
 "metadata": {
  "kernelspec": {
   "display_name": "Python 3 (ipykernel)",
   "language": "python",
   "name": "python3"
  },
  "language_info": {
   "codemirror_mode": {
    "name": "ipython",
    "version": 3
   },
   "file_extension": ".py",
   "mimetype": "text/x-python",
   "name": "python",
   "nbconvert_exporter": "python",
   "pygments_lexer": "ipython3",
   "version": "3.13.2"
  }
 },
 "nbformat": 4,
 "nbformat_minor": 5
}
